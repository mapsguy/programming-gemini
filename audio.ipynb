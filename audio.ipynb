{
  "nbformat": 4,
  "nbformat_minor": 0,
  "metadata": {
    "colab": {
      "provenance": [],
      "include_colab_link": true
    },
    "kernelspec": {
      "name": "python3",
      "display_name": "Python 3"
    },
    "language_info": {
      "name": "python"
    }
  },
  "cells": [
    {
      "cell_type": "markdown",
      "metadata": {
        "id": "view-in-github",
        "colab_type": "text"
      },
      "source": [
        "<a href=\"https://colab.research.google.com/github/mapsguy/programming-gemini/blob/main/audio.ipynb\" target=\"_parent\"><img src=\"https://colab.research.google.com/assets/colab-badge.svg\" alt=\"Open In Colab\"/></a>"
      ]
    },
    {
      "cell_type": "code",
      "source": [
        "#import the genai library\n",
        "from google import genai"
      ],
      "metadata": {
        "id": "_jqkjaSLSGUB"
      },
      "execution_count": 1,
      "outputs": []
    },
    {
      "cell_type": "code",
      "source": [
        "#step 2: AIStudio: read the api key from the user data\n",
        "from google.colab import userdata\n",
        "client = genai.Client(api_key=userdata.get(\"GEMINI_API_KEY\"))\n",
        "\n",
        "#If you want to read from environment keys\n",
        "#import os\n",
        "#client = genai.Client(api_key=os.environ[\"GEMINI_API_KEY\"])"
      ],
      "metadata": {
        "id": "NRmQ0FpeSSnL"
      },
      "execution_count": 2,
      "outputs": []
    },
    {
      "cell_type": "code",
      "source": [
        "model_name = \"models/gemini-2.5-flash-preview-05-20\""
      ],
      "metadata": {
        "id": "mq1WXsB0VI9R"
      },
      "execution_count": 9,
      "outputs": []
    },
    {
      "cell_type": "code",
      "source": [
        "#Upload the audio file\n",
        "audio_file = client.files.upload(file=\"/content/altsource.mp3\")\n",
        "print(f\"Uploaded file '{audio_file.display_name}' as: {audio_file.uri}\")"
      ],
      "metadata": {
        "colab": {
          "base_uri": "https://localhost:8080/"
        },
        "id": "kDHh3mBFTDyP",
        "outputId": "650e1a84-487a-4bf4-da97-0d0d5b2a5222"
      },
      "execution_count": 18,
      "outputs": [
        {
          "output_type": "stream",
          "name": "stdout",
          "text": [
            "Uploaded file 'None' as: https://generativelanguage.googleapis.com/v1beta/files/lmo6o77xwv11\n"
          ]
        }
      ]
    },
    {
      "cell_type": "code",
      "source": [
        "#convert to WAV (a commonly supported format)\n",
        "from pydub import AudioSegment\n",
        "sound = AudioSegment.from_mp3(\"/content/altsource.mp3\")\n",
        "sound.export(\"output.wav\", format=\"wav\")\n"
      ],
      "metadata": {
        "colab": {
          "base_uri": "https://localhost:8080/"
        },
        "id": "TS0PBbjOTZA2",
        "outputId": "cc45a482-64cf-40b0-a65d-6d4d5edcaa6c"
      },
      "execution_count": 8,
      "outputs": [
        {
          "output_type": "execute_result",
          "data": {
            "text/plain": [
              "<_io.BufferedRandom name='output.wav'>"
            ]
          },
          "metadata": {},
          "execution_count": 8
        }
      ]
    },
    {
      "cell_type": "code",
      "source": [
        "#Transcription\n",
        "\n",
        "response = client.models.generate_content(\n",
        "    model=model_name,\n",
        "     contents= [\"Please transcribe this interview of an alternate source for an individual's feature profile.\", audio_file])\n",
        "print(response.text)\n",
        "\n"
      ],
      "metadata": {
        "id": "WDxbxRh-VCZ4"
      },
      "execution_count": null,
      "outputs": []
    },
    {
      "cell_type": "code",
      "source": [
        "#Audio Q&A and summarization\n",
        "prompt = \"Summarize the key points made in this interview, and omit any names.\"\n",
        "response = client.models.generate_content(\n",
        "    model=model_name,\n",
        "     contents=[prompt, audio_file])\n",
        "print(response.text)\n"
      ],
      "metadata": {
        "colab": {
          "base_uri": "https://localhost:8080/"
        },
        "id": "VAb8XsBGV-bx",
        "outputId": "827eb11c-31ff-49f1-a85f-99d7920d2f97"
      },
      "execution_count": 12,
      "outputs": [
        {
          "output_type": "stream",
          "name": "stdout",
          "text": [
            "This interview highlights a person with several admirable qualities. The speaker describes them as one of the **nicest and most supportive individuals**, always willing to help out or make you smile, even dropping what they're doing for others.\n",
            "\n",
            "They have a **long-standing and deep friendship**, originating from a play in lower school where they played opposite roles. This relationship is characterized by shared inside jokes and a strong connection that has only grown closer over the years. The person is noted for **maintaining connections** and being a truly **reliable friend**.\n",
            "\n",
            "Furthermore, the person is praised for their **positive spirit and dedication**, whether it's to school events, their singing, or general situations. They are described as a **hard worker** who always puts in effort, even inspiring others. In academic settings, they are an excellent **team player**, always helping classmates and communicating effectively with teachers, a valuable skill. Overall, they bring **good energy** to any situation, supporting those around them and making them feel cherished.\n"
          ]
        }
      ]
    },
    {
      "cell_type": "code",
      "source": [
        "#Understanding non-speech sounds\n",
        "prompt = \"Describe any other sounds in this audio. Are there any non-speech sounds relating to an art classroom?\"\n",
        "response = client.models.generate_content(\n",
        "    model=model_name,\n",
        "     contents=[prompt, audio_file])\n",
        "print(response.text)"
      ],
      "metadata": {
        "colab": {
          "base_uri": "https://localhost:8080/"
        },
        "id": "LLw4PHTBWsJT",
        "outputId": "eeb1ebea-67ad-4a17-c4b8-3a3bf9d0edaf"
      },
      "execution_count": 16,
      "outputs": [
        {
          "output_type": "stream",
          "name": "stdout",
          "text": [
            "The most prominent non-speech sounds in this audio are:\n",
            "\n",
            "1.  **Laughter:** Heard frequently throughout the conversation, indicating a lighthearted and social atmosphere.\n",
            "2.  **Squeaking/Rubbing/Scratching sounds:** A consistent, high-pitched, frictional sound is present in the background at various points (e.g., around 0:00-0:01, 0:04-0:05, 0:11-0:12, 0:23, 0:34-0:35, 0:56-0:57, 1:06, 1:08-1:09, 1:23-1:24, 1:36, 2:16-2:17). This sounds like something being drawn, written, or rubbed on a surface, possibly paper or a whiteboard.\n",
            "3.  **A soft thud/clunk:** Heard around 1:03.\n",
            "4.  **A sigh/exhale:** Heard around 3:27-3:28.\n",
            "\n",
            "Regarding sounds relating to an art classroom:\n",
            "\n",
            "The persistent **squeaking/rubbing/scratching sound** is highly suggestive of activities common in an art classroom, such as:\n",
            "*   **Pencil or charcoal sketching on paper.**\n",
            "*   **Brushes moving across a canvas or palette.**\n",
            "*   **Someone's hand moving over a drawing surface.**\n",
            "\n",
            "This specific sound quality, especially its repetitive nature and the friction it implies, strongly points towards artistic creation rather than just general room noises or chair movements.\n"
          ]
        }
      ]
    }
  ]
}