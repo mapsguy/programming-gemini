{
  "nbformat": 4,
  "nbformat_minor": 0,
  "metadata": {
    "colab": {
      "provenance": [],
      "include_colab_link": true
    },
    "kernelspec": {
      "name": "python3",
      "display_name": "Python 3"
    },
    "language_info": {
      "name": "python"
    }
  },
  "cells": [
    {
      "cell_type": "markdown",
      "metadata": {
        "id": "view-in-github",
        "colab_type": "text"
      },
      "source": [
        "<a href=\"https://colab.research.google.com/github/mapsguy/programming-gemini/blob/main/native_tools.ipynb\" target=\"_parent\"><img src=\"https://colab.research.google.com/assets/colab-badge.svg\" alt=\"Open In Colab\"/></a>"
      ]
    },
    {
      "cell_type": "code",
      "execution_count": 1,
      "metadata": {
        "id": "u26puzb3HyT9",
        "colab": {
          "base_uri": "https://localhost:8080/"
        },
        "outputId": "985509e4-9dfc-460b-bb0f-e5c6834311d6"
      },
      "outputs": [
        {
          "output_type": "stream",
          "name": "stdout",
          "text": [
            "\u001b[2K     \u001b[90m━━━━━━━━━━━━━━━━━━━━━━━━━━━━━━━━━━━━━━━━\u001b[0m \u001b[32m42.4/42.4 kB\u001b[0m \u001b[31m2.2 MB/s\u001b[0m eta \u001b[36m0:00:00\u001b[0m\n",
            "\u001b[2K   \u001b[90m━━━━━━━━━━━━━━━━━━━━━━━━━━━━━━━━━━━━━━━━\u001b[0m \u001b[32m217.7/217.7 kB\u001b[0m \u001b[31m8.4 MB/s\u001b[0m eta \u001b[36m0:00:00\u001b[0m\n",
            "\u001b[?25h"
          ]
        }
      ],
      "source": [
        "#step 1: install/upgrade the latest genai SDK\n",
        "%pip install google-genai --upgrade --quiet"
      ]
    },
    {
      "cell_type": "code",
      "source": [
        "#import the genai library\n",
        "from google import genai\n",
        "from google.genai import types"
      ],
      "metadata": {
        "id": "_jqkjaSLSGUB"
      },
      "execution_count": 5,
      "outputs": []
    },
    {
      "cell_type": "code",
      "source": [
        "#step 2: AIStudio: read the api key from the user data\n",
        "from google.colab import userdata\n",
        "client = genai.Client(api_key=userdata.get(\"GEMINI_API_KEY\"))\n",
        "\n",
        "#If you want to read from environment keys\n",
        "#import os\n",
        "#client = genai.Client(api_key=os.environ[\"GEMINI_API_KEY\"])"
      ],
      "metadata": {
        "id": "NRmQ0FpeSSnL"
      },
      "execution_count": 3,
      "outputs": []
    },
    {
      "cell_type": "code",
      "source": [
        "model_name = \"models/gemini-2.5-flash-preview-05-20\""
      ],
      "metadata": {
        "id": "8jeqDoVxEQY9"
      },
      "execution_count": 4,
      "outputs": []
    },
    {
      "cell_type": "code",
      "source": [
        "#Google Search\n",
        "\n",
        "#Define the grounding tool\n",
        "grounding_tool = types.Tool(\n",
        "    google_search=types.GoogleSearch()\n",
        ")\n",
        "\n",
        "# Configure generation settings\n",
        "config = types.GenerateContentConfig(\n",
        "    tools=[grounding_tool]\n",
        ")\n",
        "\n",
        "# Make the request\n",
        "response = client.models.generate_content(\n",
        "    model=model_name,\n",
        "    contents=\"What medals did USA win in 2024 Olympics?\",\n",
        "    config=config,\n",
        ")\n",
        "\n",
        "# Print the grounded response\n",
        "print(response.text)"
      ],
      "metadata": {
        "colab": {
          "base_uri": "https://localhost:8080/"
        },
        "id": "YP9cXNyyqFKm",
        "outputId": "11536cc9-c724-4700-b34d-491bc42526b4"
      },
      "execution_count": 40,
      "outputs": [
        {
          "output_type": "stream",
          "name": "stdout",
          "text": [
            "The United States won a total of 126 medals at the 2024 Summer Olympics in Paris, topping the medal table for the fourth consecutive Summer Games and 19th time overall. This impressive haul included 40 gold medals, 44 silver medals, and 42 bronze medals.\n"
          ]
        }
      ]
    },
    {
      "cell_type": "code",
      "source": [
        "#Using code execution in chat\n",
        "\n",
        "chat = client.chats.create(\n",
        "    model=model_name,\n",
        "    config=types.GenerateContentConfig(\n",
        "        tools=[types.Tool(code_execution=types.ToolCodeExecution)]\n",
        "    ),\n",
        ")\n",
        "\n",
        "response = chat.send_message(\"I have a physics question for you.\")\n",
        "print(response.text)\n",
        "\n",
        "response = chat.send_message(\n",
        "    \"What is the right hand rule for angular momentum?\"\n",
        "    \"Generate a practice problem for this question.\"\n",
        ")\n",
        "\n",
        "for part in response.candidates[0].content.parts:\n",
        "    if part.text is not None:\n",
        "        print(part.text)\n",
        "    if part.executable_code is not None:\n",
        "        print(part.executable_code.code)\n",
        "    if part.code_execution_result is not None:\n",
        "        print(part.code_execution_result.output)"
      ],
      "metadata": {
        "colab": {
          "base_uri": "https://localhost:8080/"
        },
        "id": "G3srg4tef4W3",
        "outputId": "ad507ccc-bff4-494e-eedd-4a5283037a1c"
      },
      "execution_count": 7,
      "outputs": [
        {
          "output_type": "stream",
          "name": "stdout",
          "text": [
            "Okay, I'm ready. Please tell me your physics question!\n",
            "The right-hand rule is a mnemonic to determine the direction of the angular momentum vector. Angular momentum ($\\vec{L}$) is a vector quantity, and its direction is perpendicular to both the position vector ($\\vec{r}$) and the linear momentum vector ($\\vec{p}$) (or the angular velocity vector ($\\vec{\\omega}$)).\n",
            "\n",
            "### The Right-Hand Rule for Angular Momentum ($\\vec{L} = \\vec{r} \\times \\vec{p}$ or $\\vec{L} = I\\vec{\\omega}$)\n",
            "\n",
            "There are a couple of ways to apply the right-hand rule for angular momentum, depending on how you're conceptualizing it:\n",
            "\n",
            "1.  **Using $\\vec{L} = \\vec{r} \\times \\vec{p}$ (Cross Product Method):**\n",
            "    *   Point the fingers of your right hand in the direction of the position vector $\\vec{r}$ (from the origin or pivot point to the object).\n",
            "    *   Curl your fingers towards the direction of the linear momentum vector $\\vec{p}$ (the direction of motion).\n",
            "    *   Your extended thumb will point in the direction of the angular momentum vector $\\vec{L}$.\n",
            "\n",
            "2.  **Using $\\vec{L} = I\\vec{\\omega}$ (Rotation Method):**\n",
            "    *   Curl the fingers of your right hand in the direction of the object's rotation (or the direction of the angular velocity $\\vec{\\omega}$).\n",
            "    *   Your extended thumb will point in the direction of the angular momentum vector $\\vec{L}$. This direction is along the axis of rotation.\n",
            "\n",
            "### Practice Problem:\n",
            "\n",
            "A small meteor is observed moving in the xy-plane. At a particular instant, its position vector relative to the origin is $\\vec{r} = (0, 4.0, 0)$ meters, and its linear momentum vector is $\\vec{p} = (3.0, 0, 0)$ kg·m/s.\n",
            "\n",
            "Using the right-hand rule, what is the direction of the meteor's angular momentum vector with respect to the origin?\n",
            "\n",
            "---\n",
            "\n",
            "**Think through the problem:**\n",
            "\n",
            "1.  Identify the position vector $\\vec{r}$ and the linear momentum vector $\\vec{p}$.\n",
            "2.  Imagine these vectors in a 3D coordinate system.\n",
            "3.  Apply the right-hand rule for the cross product $\\vec{r} \\times \\vec{p}$. Point your fingers in the direction of $\\vec{r}$, then curl them towards $\\vec{p}$.\n",
            "\n",
            "---\n",
            "\n",
            "**Solution:**\n",
            "\n",
            "Let's use the cross product $\\vec{L} = \\vec{r} \\times \\vec{p}$.\n",
            "\n",
            "*   $\\vec{r}$ is in the positive y-direction ($+y$).\n",
            "*   $\\vec{p}$ is in the positive x-direction ($+x$).\n",
            "\n",
            "1.  **Point your right-hand fingers** in the positive y-direction.\n",
            "2.  **Curl your fingers** towards the positive x-direction.\n",
            "\n",
            "When you do this, your thumb will point out of the page/screen, which corresponds to the **positive z-direction**.\n",
            "\n",
            "Let's confirm this with the actual cross product using the general python tool:\n",
            "\n",
            "\n",
            "import sympy\n",
            "from sympy.vector import CoordSys3D\n",
            "\n",
            "R = CoordSys3D('R')\n",
            "r_vec = 0 * R.i + 4.0 * R.j + 0 * R.k\n",
            "p_vec = 3.0 * R.i + 0 * R.j + 0 * R.k\n",
            "\n",
            "L_vec = r_vec.cross(p_vec)\n",
            "print(f'Angular momentum vector L = {L_vec}')\n",
            "\n",
            "Angular momentum vector L = (-12.0)*R.k\n",
            "\n",
            "**Wait!** My manual calculation with the right-hand rule and the expected vector cross product result (from `j x i = -k`) do not match the SymPy output. Let me re-check my understanding and application of the cross product and the right-hand rule.\n",
            "\n",
            "The general definition of the cross product:\n",
            "$\\hat{i} \\times \\hat{j} = \\hat{k}$\n",
            "$\\hat{j} \\times \\hat{k} = \\hat{i}$\n",
            "$\\hat{k} \\times \\hat{i} = \\hat{j}$\n",
            "\n",
            "And if you swap the order, it reverses the sign:\n",
            "$\\hat{j} \\times \\hat{i} = -\\hat{k}$\n",
            "$\\hat{i} \\times \\hat{k} = -\\hat{j}$\n",
            "$\\hat{k} \\times \\hat{j} = -\\hat{i}$\n",
            "\n",
            "My problem has:\n",
            "$\\vec{r} = (0, 4.0, 0)$ which is $4.0 \\hat{j}$\n",
            "$\\vec{p} = (3.0, 0, 0)$ which is $3.0 \\hat{i}$\n",
            "\n",
            "So, $\\vec{L} = \\vec{r} \\times \\vec{p} = (4.0 \\hat{j}) \\times (3.0 \\hat{i}) = (4.0 \\times 3.0) (\\hat{j} \\times \\hat{i})$\n",
            "$\\vec{L} = 12.0 (-\\hat{k})$\n",
            "$\\vec{L} = -12.0 \\hat{k}$\n",
            "\n",
            "This means the angular momentum is in the **negative z-direction**.\n",
            "\n",
            "Let's re-apply the right-hand rule carefully:\n",
            "1.  **Fingers along $\\vec{r}$ (positive y-axis):** Point your fingers up along the Y-axis.\n",
            "2.  **Curl fingers towards $\\vec{p}$ (positive x-axis):** You need to curl your fingers from the positive Y-axis *towards* the positive X-axis. This means your hand needs to be oriented in such a way that if your palm faces the origin, and your fingers point up (Y), you curl them *inwards* towards the X-axis.\n",
            "\n",
            "When you do this, your thumb should point **into the page/screen**, which is the **negative z-direction**.\n",
            "\n",
            "My initial manual application of the right-hand rule was incorrect, likely a mental flip of `r` and `p` or an incorrect curl direction. The tool confirms the correct direction.\n",
            "\n",
            "---\n",
            "\n",
            "**Final Answer to Practice Problem:**\n",
            "\n",
            "The position vector $\\vec{r}$ is in the positive y-direction ($+y$), and the linear momentum vector $\\vec{p}$ is in the positive x-direction ($+x$).\n",
            "\n",
            "Using the right-hand rule for $\\vec{L} = \\vec{r} \\times \\vec{p}$:\n",
            "1.  Point the fingers of your right hand in the direction of $\\vec{r}$ (positive y-axis).\n",
            "2.  Curl your fingers towards the direction of $\\vec{p}$ (positive x-axis).\n",
            "\n",
            "When you do this correctly, your extended thumb will point **into the page/screen**, which corresponds to the **negative z-direction**.\n",
            "\n",
            "Therefore, the direction of the meteor's angular momentum vector is in the **negative z-direction**.\n"
          ]
        }
      ]
    },
    {
      "cell_type": "code",
      "source": [
        "#Defining a function declaration\n",
        "get_weather_function = {\n",
        "    \"name\": \"get_weather\",\n",
        "    \"description\": \"Retrieves the weather on a given date.\",\n",
        "    \"parameters\": {\n",
        "        \"type\": \"object\",\n",
        "        \"properties\": {\n",
        "            \"skies\": {\n",
        "                \"type\": \"string\",\n",
        "                \"description\": \"The sky forecast for that day.\",\n",
        "            },\n",
        "            \"temperature\": {\n",
        "                \"type\": \"string\",\n",
        "                \"description\": \"The temperature forecast for that day.\",\n",
        "            },\n",
        "        },\n",
        "        \"required\": [\"skies\", \"temperature\"],\n",
        "    },\n",
        "}\n"
      ],
      "metadata": {
        "id": "FnWliwo0jTSx"
      },
      "execution_count": 35,
      "outputs": []
    },
    {
      "cell_type": "code",
      "source": [
        "#configure\n",
        "tools = types.Tool(function_declarations=[get_weather_function])\n",
        "config = types.GenerateContentConfig(tools=[tools])"
      ],
      "metadata": {
        "id": "v-vZ-p_GlbcG"
      },
      "execution_count": 36,
      "outputs": []
    },
    {
      "cell_type": "code",
      "source": [
        "contents = [\n",
        "    types.Content(\n",
        "        role=\"user\", parts=[types.Part(text=\"Report the weather forecast for 07/21/2025. Skies are cloudy, and temperature is between 60-70 degrees.\")]\n",
        "    )\n",
        "]"
      ],
      "metadata": {
        "id": "J2-UqiZPmR_R"
      },
      "execution_count": 37,
      "outputs": []
    },
    {
      "cell_type": "code",
      "source": [
        "response = client.models.generate_content(\n",
        "    model=model_name,\n",
        "    contents=contents,\n",
        "    config=config,\n",
        ")"
      ],
      "metadata": {
        "id": "o6YYCT6dlnxI"
      },
      "execution_count": 38,
      "outputs": []
    },
    {
      "cell_type": "code",
      "source": [
        "# Checking for a function call\n",
        "if response.candidates[0].content.parts[0].function_call:\n",
        "    function_call = response.candidates[0].content.parts[0].function_call\n",
        "    print(f\"Function to call: {function_call.name}\")\n",
        "    print(f\"Arguments: {function_call.args}\")\n",
        "    #  In a real app, you would call your function here:\n",
        "    #  result = schedule_meeting(**function_call.args)\n",
        "else:\n",
        "    print(\"No function call found in the response.\")\n",
        "    print(response.text)"
      ],
      "metadata": {
        "colab": {
          "base_uri": "https://localhost:8080/"
        },
        "id": "VdiAAfB1mFCd",
        "outputId": "61b9372b-3211-42e5-e95c-54dfd98886fb"
      },
      "execution_count": 39,
      "outputs": [
        {
          "output_type": "stream",
          "name": "stdout",
          "text": [
            "Function to call: get_weather\n",
            "Arguments: {'skies': 'cloudy', 'temperature': '60-70 degrees'}\n"
          ]
        }
      ]
    }
  ]
}