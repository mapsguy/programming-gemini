{
  "nbformat": 4,
  "nbformat_minor": 0,
  "metadata": {
    "colab": {
      "provenance": []
    },
    "kernelspec": {
      "name": "python3",
      "display_name": "Python 3"
    },
    "language_info": {
      "name": "python"
    }
  },
  "cells": [
    {
      "cell_type": "code",
      "execution_count": 2,
      "metadata": {
        "colab": {
          "base_uri": "https://localhost:8080/"
        },
        "id": "u26puzb3HyT9",
        "outputId": "f5dad257-df37-41fe-92fc-5f1176ba28a6"
      },
      "outputs": [
        {
          "output_type": "stream",
          "name": "stdout",
          "text": [
            "\u001b[?25l   \u001b[90m━━━━━━━━━━━━━━━━━━━━━━━━━━━━━━━━━━━━━━━━\u001b[0m \u001b[32m0.0/200.0 kB\u001b[0m \u001b[31m?\u001b[0m eta \u001b[36m-:--:--\u001b[0m\r\u001b[2K   \u001b[90m━━━━━━━━━━━━━━━━━━━━━━━━━━━━━━━━━━━━━━━━\u001b[0m \u001b[32m200.0/200.0 kB\u001b[0m \u001b[31m7.6 MB/s\u001b[0m eta \u001b[36m0:00:00\u001b[0m\n",
            "\u001b[?25h"
          ]
        }
      ],
      "source": [
        "#step 1: install/upgrade the latest genai SDK\n",
        "%pip install google-genai --upgrade --quiet"
      ]
    },
    {
      "cell_type": "code",
      "source": [
        "#import the genai library\n",
        "from google import genai"
      ],
      "metadata": {
        "id": "_jqkjaSLSGUB"
      },
      "execution_count": 13,
      "outputs": []
    },
    {
      "cell_type": "code",
      "source": [
        "#step 2: AIStudio: read the api key from the user data\n",
        "from google.colab import userdata\n",
        "client = genai.Client(api_key=userdata.get(\"GEMINI_KEY\"))\n",
        "\n",
        "#If you want to read from environment keys\n",
        "#import os\n",
        "#client = genai.Client(api_key=os.environ[\"GEMINI_API_KEY\"])"
      ],
      "metadata": {
        "id": "NRmQ0FpeSSnL"
      },
      "execution_count": 8,
      "outputs": []
    },
    {
      "cell_type": "code",
      "source": [
        "#step 4: Get model details\n",
        "model_name = \"models/gemini-2.5-flash-preview-05-20\"\n",
        "try:\n",
        "    model_details = client.models.get(model=model_name) #\n",
        "    print(f\"Details for model '{model_name}':\")\n",
        "    print(f\"Model Name: {model_details.name}\")\n",
        "    print(f\"Input Token Limit: {model_details.input_token_limit}\")\n",
        "    print(f\"Output Token Limit: {model_details.output_token_limit}\")\n",
        "except Exception as e:\n",
        "    print(f\"Error retrieving model details for '{model_name}': {e}\")"
      ],
      "metadata": {
        "id": "fVomhgC-t5j1",
        "colab": {
          "base_uri": "https://localhost:8080/"
        },
        "outputId": "5f9e65fa-f66c-44e4-cece-2f7ca126703d"
      },
      "execution_count": 9,
      "outputs": [
        {
          "output_type": "stream",
          "name": "stdout",
          "text": [
            "Details for model 'models/gemini-2.5-flash-preview-05-20':\n",
            "Model Name: models/gemini-2.5-flash-preview-05-20\n",
            "Input Token Limit: 1048576\n",
            "Output Token Limit: 65536\n"
          ]
        }
      ]
    },
    {
      "cell_type": "code",
      "source": [
        "# Define a function declaration manually\n",
        "get_weather_declaration = genai.types.FunctionDeclaration(\n",
        "    name=\"get_weather\",\n",
        "    description=\"Get the current weather in a specific location\",\n",
        "    parameters={\n",
        "        \"type\": \"OBJECT\",\n",
        "        \"properties\": {\n",
        "            \"location\": {\"type\": \"STRING\", \"description\": \"The city and state, e.g. San Francisco, CA\"}\n",
        "        },\n",
        "        \"required\": [\"location\"]\n",
        "    }\n",
        ")\n",
        "\n",
        "# Create a Tool object containing the function declaration\n",
        "weather_tool = genai.types.Tool(function_declarations=[get_weather_declaration])\n"
      ],
      "metadata": {
        "id": "t_tC271NNoGU"
      },
      "execution_count": 17,
      "outputs": []
    },
    {
      "cell_type": "code",
      "source": [
        "def get_weather(location: str) -> dict:\n",
        "  \"\"\"Get the current weather in a specific location.\n",
        "\n",
        "  Args:\n",
        "    location: The city and state, e.g. San Francisco, CA\n",
        "  Returns:\n",
        "    A dictionary containing the weather information.\n",
        "  \"\"\"\n",
        "  # (Implementation of weather fetching logic would go here)\n",
        "  return {\"temperature\": \"70F\", \"condition\": \"Sunny\"}\n",
        "\n",
        "# Infer schema from the Python function\n",
        "get_weather_declaration_inferred = genai.types.FunctionDeclaration.from_callable(\n",
        "    callable=get_weather,\n",
        "    client=client\n",
        ")\n",
        "\n",
        "# Create a Tool object containing the inferred function declaration\n",
        "weather_tool = genai.types.Tool(function_declarations=[get_weather_declaration_inferred])"
      ],
      "metadata": {
        "id": "qxTPJAzNNsLP"
      },
      "execution_count": 21,
      "outputs": []
    },
    {
      "cell_type": "code",
      "source": [
        "# Configure the model to always pick a function if appropriate\n",
        "config = genai.types.ToolConfig(function_calling_config={\"mode\": \"ANY\"})\n",
        "\n",
        "# When calling the model:\n",
        "# response = model.generate_content(..., tool_config=config, tools=[weather_tool])"
      ],
      "metadata": {
        "id": "dLXerRDBUfCs"
      },
      "execution_count": 23,
      "outputs": []
    },
    {
      "cell_type": "code",
      "source": [
        "specific_function_config = genai.types.ToolConfig(\n",
        "    function_calling_config={\n",
        "        \"mode\": \"AUTO\", # Or ANY\n",
        "        \"allowed_function_names\": [\"get_weather\"]\n",
        "    }\n",
        ")"
      ],
      "metadata": {
        "id": "ZOvVCcuKVtxO"
      },
      "execution_count": 24,
      "outputs": []
    }
  ]
}