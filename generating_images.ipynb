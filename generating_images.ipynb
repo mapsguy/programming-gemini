{
  "nbformat": 4,
  "nbformat_minor": 0,
  "metadata": {
    "colab": {
      "provenance": [],
      "include_colab_link": true
    },
    "kernelspec": {
      "name": "python3",
      "display_name": "Python 3"
    },
    "language_info": {
      "name": "python"
    }
  },
  "cells": [
    {
      "cell_type": "markdown",
      "metadata": {
        "id": "view-in-github",
        "colab_type": "text"
      },
      "source": [
        "<a href=\"https://colab.research.google.com/github/mapsguy/programming-gemini/blob/main/generating_images.ipynb\" target=\"_parent\"><img src=\"https://colab.research.google.com/assets/colab-badge.svg\" alt=\"Open In Colab\"/></a>"
      ]
    },
    {
      "cell_type": "code",
      "source": [
        "pip install google-genai google-cloud-aiplatform Pillow"
      ],
      "metadata": {
        "id": "hXySfgqKVrgp"
      },
      "execution_count": null,
      "outputs": []
    },
    {
      "cell_type": "code",
      "source": [
        "#import the genai library\n",
        "from google import genai"
      ],
      "metadata": {
        "id": "_jqkjaSLSGUB"
      },
      "execution_count": 3,
      "outputs": []
    },
    {
      "cell_type": "code",
      "source": [
        "#step 2: AIStudio: read the api key from the user data\n",
        "from google.colab import userdata\n",
        "client = genai.Client(api_key=userdata.get(\"GEMINI_API_KEY\"))\n",
        "\n",
        "#If you want to read from environment keys\n",
        "#import os\n",
        "#client = genai.Client(api_key=os.environ[\"GEMINI_API_KEY\"])"
      ],
      "metadata": {
        "id": "NRmQ0FpeSSnL"
      },
      "execution_count": 4,
      "outputs": []
    },
    {
      "cell_type": "code",
      "source": [
        "from google import genai\n",
        "from google.genai import types\n",
        "from PIL import Image\n",
        "import io\n",
        "from io import BytesIO\n",
        "import base64\n",
        "\n",
        "prompt = \"A friendly robot waving hello, with a speech bubble saying 'Greetings!'\"\n",
        "\n",
        "gen_config = types.GenerateContentConfig(\n",
        "    response_modalities=['TEXT', 'IMAGE']\n",
        ")\n",
        "\n",
        "response = client.models.generate_content(\n",
        "    model='gemini-2.0-flash-exp-image-generation',\n",
        "    contents=prompt,\n",
        "    config=gen_config\n",
        ")\n",
        "\n",
        "for part in response.candidates[0].content.parts:\n",
        "  if part.text is not None:\n",
        "    print(part.text)\n",
        "  elif part.inline_data is not None:\n",
        "    image = Image.open(BytesIO((part.inline_data.data)))\n",
        "    image.save('gemini-image.png')\n",
        "    print(\"Image generated and saved.\")"
      ],
      "metadata": {
        "colab": {
          "base_uri": "https://localhost:8080/"
        },
        "id": "j1nKWXuJTfqa",
        "outputId": "7e81c1f7-fb3b-4892-ecd9-f0fd4bebc8e5"
      },
      "execution_count": 14,
      "outputs": [
        {
          "output_type": "stream",
          "name": "stdout",
          "text": [
            "I will generate an image of a cheerful, cartoon-style robot with rounded features and bright, friendly eyes. The robot will be mid-wave, with one of its metallic arms raised in a welcoming gesture. A speech bubble will be positioned near its head, clearly displaying the handwritten-style text \"Greetings!\". The background will be simple and uncluttered to keep the focus on the robot.\n",
            "\n",
            "Image generated and saved.\n"
          ]
        }
      ]
    },
    {
      "cell_type": "code",
      "source": [
        "#REST API example for image generation\n",
        "\n",
        "%%bash\n",
        "\n",
        "curl -s -X POST \\\n",
        "  \"https://generativelanguage.googleapis.com/v1beta/models/gemini-2.0-flash-exp-image-generation:generateContent?key=$GEMINI_API_KEY\" \\\n",
        "  -H \"Content-Type: application/json\" \\\n",
        "  -d '{\n",
        "    \"contents\": [{\n",
        "      \"parts\": [\n",
        "        {\"text\": \"Create a friendly robot waving hello, with a speech bubble saying 'Greetings!'\"}\n",
        "      ]\n",
        "    }],\n",
        "    \"generationConfig\":{\"responseModalities\":[\"TEXT\",\"IMAGE\"]}\n",
        "  }' \\\n",
        "  | grep -o '\"data\": \"[^\"]*\"' \\\n",
        "  | cut -d'\"' -f4 \\\n",
        "  | base64 --decode > gemini-image.png"
      ],
      "metadata": {
        "id": "aWT_NP47Xw1t"
      },
      "execution_count": 16,
      "outputs": []
    },
    {
      "cell_type": "code",
      "source": [
        "#I can't run this lol\n",
        "\n",
        "#High quality image generation with Imagen 3\n",
        "\n",
        "from google.genai import types\n",
        "\n",
        "#fine-grained control over image generation\n",
        "\n",
        "model_name = \"imagen-3.0-generate-002\" # Or other available Imagen 3 model\n",
        "\n",
        "gen_config = types.GenerateImagesConfig(\n",
        "    aspect_ratio=\"1:1\",\n",
        "    number_of_images=1,\n",
        "    negative_prompts=\"Blurry, Cartoon\",\n",
        "    seed=42,\n",
        "    person_generation=\"false\" # Set to \"true\" to allow generating people.\n",
        ")\n",
        "\n",
        "response = client.models.generate_images(\n",
        "    model=model_name,\n",
        "    config=gen_config,\n",
        "    prompt=\"A photorealistic image of a red panda playing a tiny piano in a lush forest.\",\n",
        "\n",
        ")\n",
        "\n",
        "for generated_image in response.generated_images:\n",
        "  image = Image.open(BytesIO(generated_image.image.image_bytes))\n",
        "  image.save('imagen-image.png')\n"
      ],
      "metadata": {
        "id": "yUcaQtVLZVPY"
      },
      "execution_count": null,
      "outputs": []
    }
  ]
}