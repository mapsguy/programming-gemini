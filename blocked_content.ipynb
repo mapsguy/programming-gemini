{
  "nbformat": 4,
  "nbformat_minor": 0,
  "metadata": {
    "colab": {
      "provenance": []
    },
    "kernelspec": {
      "name": "python3",
      "display_name": "Python 3"
    },
    "language_info": {
      "name": "python"
    }
  },
  "cells": [
    {
      "cell_type": "code",
      "execution_count": 1,
      "metadata": {
        "id": "u26puzb3HyT9"
      },
      "outputs": [],
      "source": [
        "#step 1: install/upgrade the latest genai SDK\n",
        "%pip install google-genai --upgrade --quiet"
      ]
    },
    {
      "cell_type": "code",
      "source": [
        "#import the genai library\n",
        "from google import genai"
      ],
      "metadata": {
        "id": "_jqkjaSLSGUB"
      },
      "execution_count": 2,
      "outputs": []
    },
    {
      "cell_type": "code",
      "source": [
        "#step2: AIStudio: read the api key from the user data\n",
        "from google.colab import userdata\n",
        "client = genai.Client(api_key=userdata.get(\"GEMINI_KEY\"))\n",
        "\n",
        "#If you want to read from environment keys\n",
        "#import os\n",
        "#client = genai.Client(api_key=os.environ[\"GEMINI_API_KEY\"])"
      ],
      "metadata": {
        "id": "NRmQ0FpeSSnL"
      },
      "execution_count": 3,
      "outputs": []
    },
    {
      "cell_type": "code",
      "source": [
        "model_name = \"models/gemini-2.5-flash-preview-05-20\"\n",
        "response = client.models.generate_content(\n",
        "  model=model_name,\n",
        "  contents='What is a good name for a flower shop that specializes in selling bouquets of dried flowers?'\n",
        ")\n",
        "print(response.text)"
      ],
      "metadata": {
        "colab": {
          "base_uri": "https://localhost:8080/"
        },
        "id": "AxrW6DmKExs2",
        "outputId": "31d888e2-f9bf-4599-e155-f6f49575b1ae"
      },
      "execution_count": 5,
      "outputs": [
        {
          "output_type": "stream",
          "name": "stdout",
          "text": [
            "Here are some good name ideas for a flower shop specializing in dried flower bouquets, categorized by their vibe:\n",
            "\n",
            "**Evocative & Poetic:**\n",
            "\n",
            "*   **Everlasting Petals:** Classic, simple, and describes the product perfectly.\n",
            "*   **The Constant Bloom:** Suggests enduring beauty.\n",
            "*   **Timeless Tangles:** Evokes the rustic, natural feel of dried arrangements.\n",
            "*   **Amber & Earth:** Highlights the warm tones and natural elements.\n",
            "*   **Whispering Petals:** Suggests a delicate, quiet beauty.\n",
            "*   **Heirloom Bloom:** Conveys a sense of history, memory, and lasting beauty.\n",
            "*   **The Muted Meadow:** Captures the soft, natural colors of dried flowers.\n",
            "*   **Sylvan Stems:** \"Sylvan\" relates to woods, evoking a natural, earthy feel.\n",
            "*   **Fable & Fern:** A whimsical and enchanting name.\n",
            "\n",
            "**Descriptive & Clear:**\n",
            "\n",
            "*   **The Dried Bouquet Co.** (or & Co.)\n",
            "*   **Preserved Petals Studio**\n",
            "*   **Forever Bloom Florals**\n",
            "*   **Eternal Arrangement**\n",
            "*   **The Dried Flower Collective**\n",
            "*   **Beyond Bloom Florals**\n",
            "*   **Sun-Kissed Stems**\n",
            "*   **The Lasting Arrangement**\n",
            "\n",
            "**Modern & Chic:**\n",
            "\n",
            "*   **Botanica Dried**\n",
            "*   **Studio Dry**\n",
            "*   **The Enduring Stem**\n",
            "*   **Aura Dried**\n",
            "*   **Form & Foliage (Dried)**\n",
            "*   **Terra Flora Dried** (Terra = Earth)\n",
            "*   **The Curated Bloom**\n",
            "\n",
            "**Whimsical & Charming:**\n",
            "\n",
            "*   **The Rustic Posy**\n",
            "*   **Dusty Rose Florals** (A classic dried flower color)\n",
            "*   **Petal Post** (Suggests delivery or a lovely find)\n",
            "*   **The Withered Wildflower** (Emphasizes natural beauty)\n",
            "*   **Faded Bloom Boutique** (Might be too negative for some)\n",
            "*   **Grown & Gathered (Dried)**\n",
            "\n",
            "**Tips for Choosing:**\n",
            "\n",
            "1.  **Check Availability:** See if the name is available as a domain name (for a website) and on social media platforms.\n",
            "2.  **Say it Aloud:** Does it roll off the tongue? Is it easy to remember and pronounce?\n",
            "3.  **Reflects Your Brand:** Does the name convey the overall aesthetic and price point of your shop? (e.g., \"Studio Dry\" sounds more minimalist, \"Rustic Posy\" sounds more quaint).\n",
            "4.  **Target Audience:** Who are you trying to attract?\n",
            "5.  **Avoid Trends (Too Much):** While \"dried\" is a trend, try to pick a name that won't feel dated in 5-10 years.\n",
            "\n",
            "Good luck with your flower shop!\n"
          ]
        }
      ]
    },
    {
      "cell_type": "code",
      "source": [
        "# Assume 'response' is the GenerationResponse object\n",
        "if response.prompt_feedback:\n",
        "    block_reason = response.prompt_feedback.block_reason\n",
        "    if block_reason:\n",
        "        print(f\"Prompt was blocked. Reason: {block_reason}\")\n",
        "        # Further inspect prompt_feedback.safety_ratings for details\n",
        "        for rating in response.prompt_feedback.safety_ratings:\n",
        "            print(f\"  Category: {rating.category}, Probability: {rating.probability}\")"
      ],
      "metadata": {
        "id": "TccuE9qxEj9x"
      },
      "execution_count": 7,
      "outputs": []
    },
    {
      "cell_type": "code",
      "source": [
        "if response.candidates:\n",
        "    candidate = response.candidates[0]\n",
        "    if candidate.finish_reason == 'SAFETY':\n",
        "        print(\"Response was blocked due to safety concerns.\")\n",
        "        for rating in candidate.safety_ratings:\n",
        "            print(f\"  Harm Category: {rating.category}, Probability: {rating.probability}\")\n",
        "    elif candidate.finish_reason:\n",
        "        print(f\"Generation finished. Reason: {candidate.finish_reason}\")"
      ],
      "metadata": {
        "colab": {
          "base_uri": "https://localhost:8080/"
        },
        "id": "Os4-UKOIE2vT",
        "outputId": "0f66600e-3b7f-4114-cb4e-f0713c82e7cf"
      },
      "execution_count": 8,
      "outputs": [
        {
          "output_type": "stream",
          "name": "stdout",
          "text": [
            "Generation finished. Reason: FinishReason.STOP\n"
          ]
        }
      ]
    }
  ]
}