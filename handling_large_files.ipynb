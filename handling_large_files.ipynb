{
  "nbformat": 4,
  "nbformat_minor": 0,
  "metadata": {
    "colab": {
      "provenance": []
    },
    "kernelspec": {
      "name": "python3",
      "display_name": "Python 3"
    },
    "language_info": {
      "name": "python"
    }
  },
  "cells": [
    {
      "cell_type": "code",
      "execution_count": 1,
      "metadata": {
        "colab": {
          "base_uri": "https://localhost:8080/"
        },
        "id": "u26puzb3HyT9",
        "outputId": "d5cb53ce-688b-4f94-feb3-3e5c79e9cde9"
      },
      "outputs": [
        {
          "output_type": "stream",
          "name": "stdout",
          "text": [
            "\u001b[2K     \u001b[90m━━━━━━━━━━━━━━━━━━━━━━━━━━━━━━━━━━━━━━━━\u001b[0m \u001b[32m41.6/41.6 kB\u001b[0m \u001b[31m1.6 MB/s\u001b[0m eta \u001b[36m0:00:00\u001b[0m\n",
            "\u001b[2K   \u001b[90m━━━━━━━━━━━━━━━━━━━━━━━━━━━━━━━━━━━━━━━━\u001b[0m \u001b[32m226.8/226.8 kB\u001b[0m \u001b[31m2.1 MB/s\u001b[0m eta \u001b[36m0:00:00\u001b[0m\n",
            "\u001b[?25h"
          ]
        }
      ],
      "source": [
        "#step 1: install/upgrade the latest genai SDK\n",
        "%pip install google-genai --upgrade --quiet"
      ]
    },
    {
      "cell_type": "code",
      "source": [
        "#import the genai library\n",
        "from google import genai"
      ],
      "metadata": {
        "id": "_jqkjaSLSGUB"
      },
      "execution_count": 2,
      "outputs": []
    },
    {
      "cell_type": "code",
      "source": [
        "#step2: AIStudio: read the api key from the user data\n",
        "from google.colab import userdata\n",
        "client = genai.Client(api_key=userdata.get(\"GEMINI_KEY\"))\n",
        "\n",
        "#If you want to read from environment keys\n",
        "#import os\n",
        "#client = genai.Client(api_key=os.environ[\"GEMINI_API_KEY\"])"
      ],
      "metadata": {
        "id": "NRmQ0FpeSSnL"
      },
      "execution_count": 3,
      "outputs": []
    },
    {
      "cell_type": "code",
      "source": [
        "#step2: Vertex AI: read the api key from the user data\n",
        "\n",
        "#for vertex, you need to have a service account or login/auth\n",
        "#login as the current user for colab testing purposes\n",
        "from google.colab import auth\n",
        "auth.authenticate_user()\n",
        "\n",
        "#then configure the client with the project and location settings\n",
        "\n",
        "#Uncomment the following if you are running on Vertex setup\n",
        "\n",
        "#using the colab userdata\n",
        "#from google.colab import userdata\n",
        "#client = genai.Client(vertexai=True, #ensure to turn on VertexAI\n",
        "#                      project=userdata.get(\"GOOGLE_CLOUD_PROJECT\"),\n",
        "#                      location=userdata.get(\"GOOGLE_CLOUD_REGION\")) # e.g., 'us-central1'\n",
        "\n",
        "#or use the folliwing if you want to read from environment keys\n",
        "#import os\n",
        "#client = genai.Client(vertexai=True,\n",
        "#                      project=os.environ[\"GOOGLE_CLOUD_PROJECT\"],\n",
        "#                      location=os.environ[\"GOOGLE_CLOUD_REGION\"]) # e.g., 'us-central1'"
      ],
      "metadata": {
        "id": "P60EQlueSQOZ"
      },
      "execution_count": 4,
      "outputs": []
    },
    {
      "cell_type": "code",
      "source": [
        "sample_file = client.files.upload(file=\"/content/book.txt\")\n",
        "\n",
        "print(f\"Uploaded file '{sample_file.display_name}' as: {sample_file.name}\")\n"
      ],
      "metadata": {
        "colab": {
          "base_uri": "https://localhost:8080/"
        },
        "id": "JZEiHTbHnkfK",
        "outputId": "07e6eed7-4ee3-4569-d629-fdaf45b76b0b"
      },
      "execution_count": 6,
      "outputs": [
        {
          "output_type": "stream",
          "name": "stdout",
          "text": [
            "Uploaded file 'None' as: files/bparlkhtfd92\n"
          ]
        }
      ]
    },
    {
      "cell_type": "code",
      "source": [
        "print(f\"File state: {sample_file.state}\")\n",
        "while sample_file.state.name == \"PROCESSING\":\n",
        "    print(\"Waiting for processing...\")\n",
        "    # Sleep for a few seconds before checking again\n",
        "    import time\n",
        "    time.sleep(10)\n",
        "    # Get the latest file information\n",
        "    sample_file = client.files.get_file(name=sample_file.name)\n",
        "    print(f\"File state: {sample_file.state}\")\n",
        "\n",
        "if sample_file.state.name == \"FAILED\":\n",
        "    raise ValueError(\"File processing failed.\")\n",
        "\n",
        "print(f\"File {sample_file.name} is ready for use.\")"
      ],
      "metadata": {
        "colab": {
          "base_uri": "https://localhost:8080/"
        },
        "id": "H6NHzMaSHlh5",
        "outputId": "6a3e2bad-2f8e-4d74-d2f3-16d6050ae9cf"
      },
      "execution_count": 7,
      "outputs": [
        {
          "output_type": "stream",
          "name": "stdout",
          "text": [
            "File state: FileState.ACTIVE\n",
            "File files/bparlkhtfd92 is ready for use.\n"
          ]
        }
      ]
    },
    {
      "cell_type": "code",
      "source": [
        "from google.genai import types\n",
        "with open('/content/book.txt', 'r') as file:\n",
        "    content = file.read()\n",
        "# model = genai.GenerativeModel(model_name=\"gemini-2.5-flash-preview-04-17\")\n",
        "\n",
        "# Include the file URI in the prompt\n",
        "prompt = [\n",
        "    \"Describe the contents of this text.\",\n",
        "    types.Part\n",
        "    (\n",
        "        text=content\n",
        "    )\n",
        "]\n",
        "\n",
        "# Make the generate content request\n",
        "response = client.models.generate_content(\n",
        "    model=\"gemini-2.0-flash\",\n",
        "    contents=prompt\n",
        ")\n",
        "print(response.text)"
      ],
      "metadata": {
        "id": "oK4XKWlcHptA",
        "outputId": "2cfcc60b-6b7d-4b88-a8e6-fdb5bedbfcd5",
        "colab": {
          "base_uri": "https://localhost:8080/"
        }
      },
      "execution_count": 16,
      "outputs": [
        {
          "output_type": "stream",
          "name": "stdout",
          "text": [
            "This text is the Project Gutenberg eBook of The Odyssey, translated by Samuel Butler.\n",
            "\n",
            "It includes:\n",
            "\n",
            "*   **Licensing information:** Details about the copyright status of the eBook, its free usage terms, and the Project Gutenberg license.\n",
            "*   **Title, Author, and Translator:** Specifies \"The Odyssey\" as the title, Homer as the author, and Samuel Butler as the translator.\n",
            "*   **Release information:** The initial release date and last update date of the eBook.\n",
            "*   **Credits:** Acknowledgments to Jim Tinsley and David Widger.\n",
            "*   ***The full text of the Odyssey, rendered into English prose**:* Divided into books, with titles.\n",
            "*   **Prefaces:** Two prefaces, one to the first edition, detailing Butler's theories about the authorship and setting of The Odyssey, and another to the second edition. The preface provides insights into his translation philosophy and touches on points of academic debate surrounding the text.\n",
            "\n",
            "    \n",
            "\n"
          ]
        }
      ]
    },
    {
      "cell_type": "code",
      "source": [
        "# Get file details\n",
        "file_details = client.files.get(name=sample_file.name)\n",
        "print(f\"Retrieved file: {file_details.display_name}, MIME type: {file_details.mime_type}\")\n",
        "\n",
        "# List files\n",
        "for file in client.files.list():\n",
        "    print(file.name, file.display_name)\n",
        "\n",
        "# Delete the file when done\n",
        "client.files.delete(name=sample_file.name)\n",
        "print(f\"Deleted file {sample_file.name}\")"
      ],
      "metadata": {
        "colab": {
          "base_uri": "https://localhost:8080/"
        },
        "id": "rpsEHGgAg6QP",
        "outputId": "0a6b06c4-2a7b-4611-ddfe-1912b4bbf5ce"
      },
      "execution_count": 20,
      "outputs": [
        {
          "output_type": "stream",
          "name": "stdout",
          "text": [
            "Retrieved file: None, MIME type: text/plain\n",
            "files/bparlkhtfd92 None\n",
            "files/tawfzf80hvih None\n",
            "Deleted file files/bparlkhtfd92\n"
          ]
        }
      ]
    }
  ]
}