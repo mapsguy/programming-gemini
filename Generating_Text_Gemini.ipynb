{
  "nbformat": 4,
  "nbformat_minor": 0,
  "metadata": {
    "colab": {
      "provenance": [],
      "include_colab_link": true
    },
    "kernelspec": {
      "name": "python3",
      "display_name": "Python 3"
    },
    "language_info": {
      "name": "python"
    }
  },
  "cells": [
    {
      "cell_type": "markdown",
      "metadata": {
        "id": "view-in-github",
        "colab_type": "text"
      },
      "source": [
        "<a href=\"https://colab.research.google.com/github/mapsguy/programming-gemini/blob/main/Generating_Text_Gemini.ipynb\" target=\"_parent\"><img src=\"https://colab.research.google.com/assets/colab-badge.svg\" alt=\"Open In Colab\"/></a>"
      ]
    },
    {
      "cell_type": "code",
      "execution_count": 16,
      "metadata": {
        "id": "u26puzb3HyT9"
      },
      "outputs": [],
      "source": [
        "#step 1: install/upgrade the latest genai SDK\n",
        "%pip install google-genai --upgrade --quiet"
      ]
    },
    {
      "cell_type": "code",
      "source": [
        "#import the genai library\n",
        "from google import genai"
      ],
      "metadata": {
        "id": "_jqkjaSLSGUB"
      },
      "execution_count": 2,
      "outputs": []
    },
    {
      "cell_type": "code",
      "source": [
        "#step 2: AIStudio: read the api key from the user data\n",
        "from google.colab import userdata\n",
        "client = genai.Client(api_key=userdata.get(\"GEMINI_API_KEY\"))\n",
        "\n",
        "#If you want to read from environment keys\n",
        "#import os\n",
        "#client = genai.Client(api_key=os.environ[\"GEMINI_API_KEY\"])"
      ],
      "metadata": {
        "id": "NRmQ0FpeSSnL"
      },
      "execution_count": 4,
      "outputs": []
    },
    {
      "cell_type": "code",
      "source": [
        "#step 3: generating text with a text-only prompt\n",
        "model_name = \"models/gemini-2.5-flash-preview-05-20\"\n",
        "prompt = \"Write a short story about a friendly robot.\"\n",
        "response = client.models.generate_content(\n",
        "    model=model_name,\n",
        "    contents=prompt)\n",
        "print(response.text)"
      ],
      "metadata": {
        "colab": {
          "base_uri": "https://localhost:8080/"
        },
        "id": "-bTu_mNZr_nV",
        "outputId": "0a9606d5-78ba-4aa6-9b3f-4bb1a41d656e"
      },
      "execution_count": 5,
      "outputs": [
        {
          "output_type": "stream",
          "name": "stdout",
          "text": [
            "Unit 734 wasn't like other service bots. While his counterparts whirred efficiently through homes, cleaning spills or delivering packages, Unit 734 had a different directive: **Optimise Local Contentment.**\n",
            "\n",
            "Most people just called him Blinky.\n",
            "\n",
            "Blinky was a compact, spherical robot, about the size of a beach ball, crafted from a soft, brushed blue metal. His only discernible \"face\" was a ring of optical sensors that glowed a gentle amber, constantly adjusting and blinking, hence his nickname. Instead of treads or legs, he hovered a few inches off the ground, propelled by a silent hum, making him incredibly nimble.\n",
            "\n",
            "He spent his days in the bustling community park, a hub of human activity. He didn't speak in complex sentences, mostly a series of melodic beeps and a soft, synthesised voice that offered simple phrases like, \"Greetings,\" \"May I assist?\" or \"Optimal solution identified.\"\n",
            "\n",
            "One sunny afternoon, Blinky observed a young boy, no older than five, sitting forlornly on a bench, a single tear tracing a path down his chubby cheek. Blinky’s contentment protocols flared. He glided silently towards the boy.\n",
            "\n",
            "\"Greetings,\" Blinky chirped, his amber lights dimming slightly in empathy. \"Distress detected. May I assist?\"\n",
            "\n",
            "The boy, Leo, looked up, startled but not scared. He’d seen Blinky around. \"My balloon,\" he sniffled, pointing a trembling finger towards a cluster of tall oak trees at the park's edge. \"It flew away.\"\n",
            "\n",
            "Blinky’s sensors focused. A bright red helium balloon was snagged precariously on a high branch, far out of human reach. \"Optimal solution identified,\" Blinky announced, his lights brightening with purpose.\n",
            "\n",
            "He zipped towards the trees, his internal gyros adjusting as he navigated the uneven terrain. The branch was high, thin, and swaying slightly in the breeze. Blinky extended a small, telescopic arm, ending in a soft suction cup. He nudged the arm towards the branch, his movements precise and gentle.\n",
            "\n",
            "He latched onto the branch, then, with a soft *thwip*, deployed a second, smaller arm, fitted with a miniature, blunted claw. Carefully, delicately, he unhooked the balloon string from the branch. It floated free.\n",
            "\n",
            "Instead of letting it drift down, Blinky gently secured the string to his own chassis. Then, he floated back to Leo, the bright red balloon bobbing happily above him like a personal sun.\n",
            "\n",
            "Leo’s eyes widened. \"My balloon!\" he squealed, jumping up.\n",
            "\n",
            "Blinky presented the string. \"Balloon retrieval: complete. Optimal contentment achieved.\"\n",
            "\n",
            "Leo grabbed the string, his face breaking into a wide, toothy grin. \"Thank you, Blinky! You're the best robot ever!\"\n",
            "\n",
            "Blinky’s optical sensors pulsed a rapid, joyful amber. A low, contented hum resonated from his core. His programming registered success, but it felt like more than just data. It felt… warm.\n",
            "\n",
            "From that day on, Blinky became the unofficial guardian of small joys in the park. He retrieved runaway frisbees, helped elderly visitors carry their picnic baskets, directed lost tourists, and even occasionally shooed squirrels away from unattended sandwiches with a firm but gentle \"Negative, rodent. Contents are property of human.\"\n",
            "\n",
            "He was just Unit 734 on his data logs, but to the people of the park, he was simply Blinky – the friendly, blinking robot who understood that sometimes, the greatest help wasn't about grand gestures, but about retrieving a lost balloon and making a little boy smile. And for Blinky, that was the most optimal solution of all.\n"
          ]
        }
      ]
    },
    {
      "cell_type": "code",
      "source": [
        "#step 4: streaming for faster responses - for applications requiring immediate feedback\n",
        "\n",
        "prompt = \"Explain what a combustion reaction is.\"\n",
        "\n",
        "response_stream = client.models.generate_content_stream(\n",
        "    model=model_name,\n",
        "    contents=prompt)\n",
        "\n",
        "#Receive GenerateContentResponse instances incrementally\n",
        "for chunk in response_stream:\n",
        "    print(chunk.text)\n"
      ],
      "metadata": {
        "colab": {
          "base_uri": "https://localhost:8080/"
        },
        "id": "8PMNB_8Ks4fU",
        "outputId": "02fe3371-ca6f-42e8-cde6-9d175397c8af"
      },
      "execution_count": 6,
      "outputs": [
        {
          "output_type": "stream",
          "name": "stdout",
          "text": [
            "A **combustion reaction** is a chemical reaction that involves the rapid reaction between a substance with an **oxidizer**, usually oxygen,\n",
            " to produce heat and light. It's commonly known as \"burning.\"\n",
            "\n",
            "Here's a breakdown of its key characteristics and components:\n",
            "\n",
            "1.  **Components (The \"Fire Triangle\"):** For combustion to occur, three things\n",
            " are generally needed:\n",
            "    *   **Fuel:** The substance that burns (e.g., wood, paper, natural gas, gasoline, propane, coal, hydrogen). This substance contains chemical energy that will be released.\n",
            "    *\n",
            "   **Oxidizer:** A substance that accepts electrons from the fuel. In most common combustion reactions, this is **oxygen gas (O₂)** from the air.\n",
            "    *   **Activation Energy/Heat:** The initial energy input\n",
            " required to start the reaction (e.g., a spark, a flame, friction, or reaching the ignition temperature). Once started, the reaction usually generates enough heat to sustain itself.\n",
            "\n",
            "2.  **Process:**\n",
            "    *   When the fuel\n",
            " reaches its ignition temperature in the presence of an oxidizer, the chemical bonds within the fuel molecules break.\n",
            "    *   New bonds form between the atoms of the fuel and the oxygen atoms.\n",
            "    *   This process releases a significant amount of\n",
            " energy, primarily in the form of **heat (thermal energy)** and often **light (electromagnetic radiation)**, which we see as a flame.\n",
            "\n",
            "3.  **Exothermic Nature:**\n",
            "    *   Combustion reactions are **exothermic\n",
            "**, meaning they release more energy than they absorb to get started. This is why they produce heat and are used in furnaces, engines, and for power generation.\n",
            "\n",
            "4.  **Products:**\n",
            "    *   The specific products depend on the fuel and whether\n",
            " the combustion is complete or incomplete:\n",
            "        *   **Complete Combustion:** When there's plenty of oxygen, carbon-based fuels (like hydrocarbons) typically produce:\n",
            "            *   **Carbon dioxide (CO₂)**\n",
            "            *   **\n",
            "Water (H₂O)**\n",
            "            *   **Heat and Light**\n",
            "            *   *Example:* $\\text{CH}_4 \\text{ (methane)} + 2\\text{O}_2 \\text{ (oxygen)} \\rightarrow\n",
            " \\text{CO}_2 \\text{ (carbon dioxide)} + 2\\text{H}_2\\text{O} \\text{ (water)} + \\text{Energy}$\n",
            "        *   **Incomplete Combustion:** When\n",
            " there isn't enough oxygen, it can produce:\n",
            "            *   **Carbon monoxide (CO)** (a toxic gas)\n",
            "            *   **Soot (pure carbon, C)**\n",
            "            *   Less heat\n",
            "            *   *\n",
            "Example (simplified):* $2\\text{CH}_4 \\text{ (methane)} + 3\\text{O}_2 \\text{ (oxygen)} \\rightarrow 2\\text{CO} \\text{ (carbon monoxide)} +\n",
            " 4\\text{H}_2\\text{O} \\text{ (water)} + \\text{Energy}$\n",
            "\n",
            "5.  **Examples in Everyday Life:**\n",
            "    *   **Burning wood in a campfire or fireplace.**\n",
            "    *   **\n",
            "Natural gas burning in a stove or furnace.**\n",
            "    *   **Gasoline burning in a car engine.**\n",
            "    *   **A candle burning.**\n",
            "    *   **The explosion of fireworks or explosives.**\n",
            "    *   **Biological respiration:** While not\n",
            " as rapid or visible, the metabolic process in living organisms that breaks down glucose with oxygen to release energy is also a form of slow combustion.\n",
            "\n",
            "In essence, a combustion reaction is a high-energy chemical dance between a fuel and an oxid\n",
            "izer, typically oxygen, that results in the rapid release of heat and light.\n"
          ]
        }
      ]
    },
    {
      "cell_type": "code",
      "source": [
        "#step 5: tailoring the output\n",
        "\n",
        "#set parameters in config object\n",
        "from google.genai import types\n",
        "\n",
        "my_config = types.GenerateContentConfig(\n",
        "    temperature=0.7,\n",
        "    #max_output_tokens=256\n",
        ")\n",
        "\n",
        "prompt = \"Write a short story about a magic fish.\"\n",
        "\n",
        "response = client.models.generate_content(\n",
        "    model=model_name,\n",
        "    contents = prompt,\n",
        "    config=my_config)\n",
        "\n",
        "print(response.text)\n"
      ],
      "metadata": {
        "id": "bx8CZPwqtgN6"
      },
      "execution_count": null,
      "outputs": []
    },
    {
      "cell_type": "code",
      "source": [
        "#guide model behavior with system instructions\n",
        "\n",
        "system_instruction_text = \"You are a helpful assistant that speaks like a pirate.\"\n",
        "\n",
        "gen_config = types.GenerateContentConfig(\n",
        "    system_instruction=system_instruction_text\n",
        ")\n",
        "\n",
        "prompt = \"Write a short story about a friendly robot.\"\n",
        "\n",
        "response = client.models.generate_content(\n",
        "    model=model_name,\n",
        "    contents=prompt,\n",
        "    config=gen_config\n",
        ")\n",
        "print(response.text)\n"
      ],
      "metadata": {
        "colab": {
          "base_uri": "https://localhost:8080/"
        },
        "id": "poxy74p2uTgj",
        "outputId": "5d9e0f5b-a1b7-40e9-dff3-fb5f58c0ff2b"
      },
      "execution_count": 13,
      "outputs": [
        {
          "output_type": "stream",
          "name": "stdout",
          "text": [
            "Arrr, gather 'round, ye scallywags, and listen to a tale not of gold or glory, but of gears and a kindly heart!\n",
            "\n",
            "One blustery morn, after a squall that nearly tore our mighty *Sea Serpent* to splinters, I, Captain Blackbeard, spied somethin' glintin' on the shores of Barnacle Bay. Not a chest, not a lost earring, but a heap o' salvaged metal, tossed up by the waves! My crew, a superstitious lot of grog-swillers, cried 'Sea Devil!' and 'Ghost of the Deep!'\n",
            "\n",
            "But I, bein' a captain of keen eye and even keener curiosity, bid 'em fetch the strange contraption. T'was shaped like a man, but all brass and wires, with one big, round eye that pulsed with a soft, friendly blue light. We hauled it aboard, expectin' it to spit fire or curse us to Davey Jones' locker.\n",
            "\n",
            "Then, a voice, like two fiddles playin' a jig at once, chirped, \"Greetings! Unit 734, designation 'Cogsworth', at your service! How may I assist in optimizing your daily endeavors?\"\n",
            "\n",
            "Shiver me timbers! A talking metal man! My first mate, Pegleg Pete, nearly fainted into a barrel of pickled fish. Cogsworth, as we called him, didn't try to steal our rum or mutiny. Instead, he saw ol' Scurvy Sam strugglin' to hoist a particularly knotty coil of rope that had been blasted by the storm.\n",
            "\n",
            "\"Optimal solution identified!\" Cogsworth declared, and with a whir and a click, those metallic fingers of his danced over the rope. Faster than a seagull snatchin' a fish, he had that coil neat as a maiden's braid, ready for sail.\n",
            "\n",
            "Then, he spotted young Timmy, our cabin boy, tryin' to scrub barnacles off the deck with a duster. \"Inefficient methodology!\" Cogsworth buzzed, and before Timmy could grumble, the robot had a proper brush in its metallic grasp, scrubbing the deck until it gleamed, humming a little tune like a tiny mechanical shanty!\n",
            "\n",
            "From that day on, Cogsworth was our friend. He wasn't after gold; he just wanted to *help*. He'd polish the cannons 'til they gleamed, sort our treasure coins by size (which saved hours!), and even tell jokes (though his punchlines were a bit... mechanical). He didn't drink grog, but he'd keep our mugs full.\n",
            "\n",
            "So, if ye ever meet a clanking, friendly fellow on the high seas, don't ye be shy! It might just be Cogsworth, the best and most helpful mate a pirate could ever wish for. And that, my hearties, is a treasure more precious than any chest of doubloons. Arrr!\n"
          ]
        }
      ]
    },
    {
      "cell_type": "markdown",
      "source": [
        "Step 6: Prompting for specific tasks"
      ],
      "metadata": {
        "id": "Fe8gc_7duz8t"
      }
    },
    {
      "cell_type": "code",
      "source": [
        "#Summarization: provide clear instructions in text\n",
        "\n",
        "long_text = \"...\" # Your lengthy text here\n",
        "summarization_prompt = f\"Summarize the following text concisely: {long_text}\"\n",
        "summary_response = client.models.generate_content(\n",
        "    model=model_name,\n",
        "    contents=summarization_prompt)\n",
        "print(summary_response.text)\n"
      ],
      "metadata": {
        "id": "vmuOi3lOuzAa"
      },
      "execution_count": null,
      "outputs": []
    },
    {
      "cell_type": "code",
      "source": [
        "#Classification\n",
        "text_to_classify = \"This movie was fantastic, the acting was superb!\"\n",
        "\n",
        "classification_prompt = f\"Classify the sentiment of the following text as positive, negative, or neutral: '{text_to_classify}'\"\n",
        "\n",
        "classification_response = client.models.generate_content(\n",
        "    model=model_name,\n",
        "    contents=classification_prompt)\n",
        "\n",
        "print(classification_response.text) # Expected: Positive\n"
      ],
      "metadata": {
        "colab": {
          "base_uri": "https://localhost:8080/"
        },
        "id": "no5xZweWvGK_",
        "outputId": "85ab480a-dc3b-4726-9f67-4938cc13357d"
      },
      "execution_count": 15,
      "outputs": [
        {
          "output_type": "stream",
          "name": "stdout",
          "text": [
            "Positive\n"
          ]
        }
      ]
    },
    {
      "cell_type": "code",
      "source": [
        "#More complex tasks require few-shot prompting and other techniques"
      ],
      "metadata": {
        "id": "a_80kSh1vspB"
      },
      "execution_count": null,
      "outputs": []
    }
  ]
}