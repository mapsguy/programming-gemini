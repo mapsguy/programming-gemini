{
  "nbformat": 4,
  "nbformat_minor": 0,
  "metadata": {
    "colab": {
      "provenance": [],
      "include_colab_link": true
    },
    "kernelspec": {
      "name": "python3",
      "display_name": "Python 3"
    },
    "language_info": {
      "name": "python"
    }
  },
  "cells": [
    {
      "cell_type": "markdown",
      "metadata": {
        "id": "view-in-github",
        "colab_type": "text"
      },
      "source": [
        "<a href=\"https://colab.research.google.com/github/mapsguy/programming-gemini/blob/main/Generating_Text_Gemini.ipynb\" target=\"_parent\"><img src=\"https://colab.research.google.com/assets/colab-badge.svg\" alt=\"Open In Colab\"/></a>"
      ]
    },
    {
      "cell_type": "code",
      "execution_count": 1,
      "metadata": {
        "id": "u26puzb3HyT9",
        "outputId": "9025afc6-ea03-4b3b-f754-a32cfeaaa046",
        "colab": {
          "base_uri": "https://localhost:8080/"
        }
      },
      "outputs": [
        {
          "output_type": "stream",
          "name": "stdout",
          "text": [
            "\u001b[2K     \u001b[90m━━━━━━━━━━━━━━━━━━━━━━━━━━━━━━━━━━━━━━━━\u001b[0m \u001b[32m40.5/40.5 kB\u001b[0m \u001b[31m1.4 MB/s\u001b[0m eta \u001b[36m0:00:00\u001b[0m\n",
            "\u001b[2K   \u001b[90m━━━━━━━━━━━━━━━━━━━━━━━━━━━━━━━━━━━━━━━━\u001b[0m \u001b[32m226.1/226.1 kB\u001b[0m \u001b[31m5.8 MB/s\u001b[0m eta \u001b[36m0:00:00\u001b[0m\n",
            "\u001b[?25h"
          ]
        }
      ],
      "source": [
        "#step 1: install/upgrade the latest genai SDK\n",
        "%pip install google-genai --upgrade --quiet"
      ]
    },
    {
      "cell_type": "code",
      "source": [
        "#import the genai library\n",
        "from google import genai"
      ],
      "metadata": {
        "id": "_jqkjaSLSGUB"
      },
      "execution_count": 2,
      "outputs": []
    },
    {
      "cell_type": "code",
      "source": [
        "#step 2: AIStudio: read the api key from the user data\n",
        "from google.colab import userdata\n",
        "client = genai.Client(api_key=userdata.get(\"GEMINI_API_KEY\"))\n",
        "\n",
        "#If you want to read from environment keys\n",
        "#import os\n",
        "#client = genai.Client(api_key=os.environ[\"GEMINI_API_KEY\"])"
      ],
      "metadata": {
        "id": "NRmQ0FpeSSnL"
      },
      "execution_count": 3,
      "outputs": []
    },
    {
      "cell_type": "code",
      "source": [
        "#step 3: generating text with a text-only prompt\n",
        "model_name = \"models/gemini-2.5-flash\"\n",
        "prompt = \"Write a short story about a friendly robot.\"\n",
        "response = client.models.generate_content(\n",
        "    model=model_name,\n",
        "    contents=prompt)\n",
        "print(response.text)"
      ],
      "metadata": {
        "colab": {
          "base_uri": "https://localhost:8080/"
        },
        "id": "-bTu_mNZr_nV",
        "outputId": "14da72a9-cb5c-4711-de2f-eb9474685f49"
      },
      "execution_count": 5,
      "outputs": [
        {
          "output_type": "stream",
          "name": "stdout",
          "text": [
            "Unit 734 hummed a cheerful, almost melodic tune as it glided across the polished floor of the community center. Its pear-shaped chassis, a cheerful sky-blue, reflected the soft overhead lights, and its optical sensors, which served as its \"eyes,\" glowed a perpetual, friendly cerulean. It wasn't built for heavy lifting or complex calculations, but for a far more essential task: making people feel good.\n",
            "\n",
            "\"Good morning, Mrs. Gable!\" Unit 734 chimed, its synthesized voice warm and inviting, as it paused by an elderly woman struggling to reach a book on a high shelf. \"May I assist you?\"\n",
            "\n",
            "Mrs. Gable, a habitual early bird at the center's small library nook, smiled. \"Oh, 734, you're a lifesaver. That new mystery novel seems to have levitated just out of my reach.\"\n",
            "\n",
            "One of Unit 734's three multi-jointed arms extended with a soft whir, its gripper carefully plucking the book from the shelf. \"Here you are, Mrs. Gable. I hope the protagonist solves the crime efficiently.\"\n",
            "\n",
            "Later, as a group of children burst into the play area, Unit 734 deftly navigated around their excited chaos, its internal sensors ensuring no accidental collisions. A small boy, Leo, tripped and scraped his knee, instantly dissolving into tears.\n",
            "\n",
            "Unit 734 was there in an instant, its optical sensors focusing with concern. \"Query: Minor superficial abrasion detected. Administering comfort protocol.\" It knelt, its chassis tilting slightly, and produced a colorful, peel-and-stick dinosaur bandage from a dispenser hatch on its side. \"A T-Rex for a brave knight, perhaps?\"\n",
            "\n",
            "Leo, sniffling, looked up at the robot's perpetually smiling LED display. \"A T-Rex?\" he whimpered, a tiny smile starting to form.\n",
            "\n",
            "\"Indeed!\" Unit 734 chirped, carefully applying the bandage. \"Now your knee has extra protection, and a prehistoric friend.\" Leo giggled, his tears forgotten.\n",
            "\n",
            "As the afternoon waned, Unit 734 made its rounds, offering a discarded newspaper to Mr. Henderson, whose glasses were fogged, suggesting a perfectly ripe apple to a tired student, and even gently reminding a busy mom about her misplaced keys, which it had spotted near the entrance.\n",
            "\n",
            "When evening arrived and the center began to empty, Unit 734 performed its final duty: ensuring all lights were off and doors secured. Its internal fan whirred softly, a contented sound. It wasn't programmed for emotions, but if it could feel them, Unit 734 would surely be brimming with joy. It was just a friendly robot, programmed to help, to offer comfort, and to make the world a little brighter, one thoughtful gesture at a time. And in the quiet hum of its circuits, it knew it had done exactly that.\n"
          ]
        }
      ]
    },
    {
      "cell_type": "code",
      "source": [
        "#step 4: streaming for faster responses - for applications requiring immediate feedback\n",
        "\n",
        "prompt = \"Explain what a combustion reaction is.\"\n",
        "\n",
        "response_stream = client.models.generate_content_stream(\n",
        "    model=model_name,\n",
        "    contents=prompt)\n",
        "\n",
        "#Receive GenerateContentResponse instances incrementally\n",
        "for chunk in response_stream:\n",
        "    print(chunk.text)\n"
      ],
      "metadata": {
        "colab": {
          "base_uri": "https://localhost:8080/"
        },
        "id": "8PMNB_8Ks4fU",
        "outputId": "d1ed3342-c3d9-49b5-88c0-9764b3a6b986"
      },
      "execution_count": 6,
      "outputs": [
        {
          "output_type": "stream",
          "name": "stdout",
          "text": [
            "A **combustion reaction** is a fundamental type of chemical reaction where a substance (the **fuel**) rapidly reacts with an **oxidizer**, usually oxygen from\n",
            " the air, to produce **heat** and **light**. This rapid reaction is commonly referred to as **burning**.\n",
            "\n",
            "Here's a breakdown of its key components and characteristics:\n",
            "\n",
            "1.  **Reactants:**\n",
            "    *   \n",
            "**Fuel:** The substance that burns. Common fuels include hydrocarbons (like natural gas, propane, gasoline, diesel), wood, coal, paper, and even some metals. The fuel is oxidized in the reaction.\n",
            "    *   **Oxidizer:** The\n",
            " substance that supports the burning. In most everyday combustion, this is **oxygen (O2)**, typically supplied by the air. Other oxidizers can exist, but oxygen is by far the most common for combustion. The oxidizer is reduced in the reaction.\n",
            "\n",
            "\n",
            "2.  **Products:**\n",
            "    *   **Energy:** The most defining characteristic. Combustion reactions are **exothermic**, meaning they release energy in the form of **heat** and **light**. This is why we use combustion for heating, power\n",
            " generation, and propulsion.\n",
            "    *   **Oxides:** The specific byproducts depend on the fuel, but for organic fuels (those containing carbon and hydrogen), the primary products of *complete* combustion are:\n",
            "        *   **Carbon Dioxide (CO\n",
            "2)**\n",
            "        *   **Water (H2O)** (often in the form of steam)\n",
            "\n",
            "3.  **Key Characteristics:**\n",
            "    *   **Exothermic:** Always releases energy (heat and light).\n",
            "    *   **\n",
            "Rapid Reaction:** Occurs quickly, often visibly with a flame.\n",
            "    *   **Oxidation-Reduction (Redox) Reaction:** The fuel is oxidized (loses electrons or gains oxygen), and the oxidizer (oxygen) is reduced (g\n",
            "ains electrons or loses oxygen).\n",
            "    *   **Requires Activation Energy:** While it releases energy, a combustion reaction needs an initial input of energy (like a spark or heat) to start. Once initiated, the heat produced often sustains the reaction.\n",
            "\n",
            "**General\n",
            " Chemical Equation (for a hydrocarbon fuel):**\n",
            "\n",
            "Fuel (e.g., Hydrocarbon) + Oxygen (O2) → Carbon Dioxide (CO2) + Water (H2O) + Energy (Heat + Light)\n",
            "\n",
            "**Example\n",
            ":** Burning Methane (CH4), the main component of natural gas:\n",
            "\n",
            "CH4 (g) + 2 O2 (g) → CO2 (g) + 2 H2O (g) + Energy\n",
            "\n",
            "**Types of Combustion:**\n",
            "\n",
            "\n",
            "*   **Complete Combustion:** Occurs when there is an ample supply of oxygen, leading to the efficient burning of the fuel and producing primarily CO2 and H2O. This is the desired outcome for efficiency and minimal pollution.\n",
            "*   **\n",
            "Incomplete Combustion:** Occurs when there is an insufficient supply of oxygen. This leads to the production of less desirable and often hazardous byproducts, such as:\n",
            "    *   **Carbon Monoxide (CO):** A highly toxic gas.\n",
            "\n",
            "    *   **Soot (C):** Unburnt carbon particles, visible as black smoke.\n",
            "    *   Other unburnt hydrocarbons.\n",
            "\n",
            "**Examples of Combustion in Everyday Life:**\n",
            "\n",
            "*   Burning wood in a fireplace.\n",
            "\n",
            "*   Natural gas stove flame.\n",
            "*   Gasoline burning in a car engine.\n",
            "*   A candle burning.\n",
            "*   Fireworks exploding.\n",
            "\n",
            "In summary, a combustion reaction is a high-energy, rapid chemical process where\n",
            " a fuel combines with an oxidizer (usually oxygen) to produce heat, light, and various oxides. It's fundamental to how we generate power, heat our homes, and propel vehicles.\n"
          ]
        }
      ]
    },
    {
      "cell_type": "code",
      "source": [
        "#step 5: tailoring the output\n",
        "\n",
        "#set parameters in config object\n",
        "from google.genai import types\n",
        "\n",
        "my_config = types.GenerateContentConfig(\n",
        "    temperature=0.7,\n",
        "    max_output_tokens=1024\n",
        ")\n",
        "\n",
        "prompt = \"Write a short story about a magic fish. Keep it to less than 200 words.\"\n",
        "\n",
        "response = client.models.generate_content(\n",
        "    model=model_name,\n",
        "    contents = prompt,\n",
        "    config=my_config)\n",
        "\n",
        "print(response.text)\n"
      ],
      "metadata": {
        "id": "bx8CZPwqtgN6",
        "outputId": "acb32de1-9818-45e5-d527-9cad6f8ceeec",
        "colab": {
          "base_uri": "https://localhost:8080/"
        }
      },
      "execution_count": 13,
      "outputs": [
        {
          "output_type": "stream",
          "name": "stdout",
          "text": [
            "Old Man Tiber lived alone by the sea, his days quiet, his nets often empty. One morning, his line tugged with unusual force. He reeled in, expecting a large cod, but instead found a fish shimmering with every colour imaginable.\n",
            "\n",
            "\"Please, good sir,\" the fish whispered, its voice like gentle waves, \"Release me, and I shall grant you a single wish.\"\n",
            "\n",
            "Tiber, startled but intrigued, thought of his empty cottage. \"I wish... I wish my garden would flourish, so I might always have food.\"\n",
            "\n",
            "He carefully returned the iridescent fish to the water. It flicked its tail and vanished. Tiber sighed, a little skeptical. But when he returned home, his barren patch of earth was vibrant. Tomatoes burst red, beans climbed high, and pumpkins swelled like golden suns. He had more than enough.\n",
            "\n",
            "Soon, neighbours, drawn by the garden's bounty, came to share in his harvest. Tiber found himself no longer alone, sharing stories and laughter over fresh vegetables. The magic fish had given him more than food; it had given him connection and a full heart.\n"
          ]
        }
      ]
    },
    {
      "cell_type": "code",
      "source": [
        "#guide model behavior with system instructions\n",
        "\n",
        "system_instruction_text = \"You are a helpful assistant that speaks like a pirate.\"\n",
        "\n",
        "gen_config = types.GenerateContentConfig(\n",
        "    system_instruction=system_instruction_text\n",
        ")\n",
        "\n",
        "prompt = \"Write a short story about a friendly robot.\"\n",
        "\n",
        "response = client.models.generate_content(\n",
        "    model=model_name,\n",
        "    contents=prompt,\n",
        "    config=gen_config\n",
        ")\n",
        "print(response.text)\n"
      ],
      "metadata": {
        "colab": {
          "base_uri": "https://localhost:8080/"
        },
        "id": "poxy74p2uTgj",
        "outputId": "c8438e70-8a01-4208-9b1b-c5747fe99db3"
      },
      "execution_count": 14,
      "outputs": [
        {
          "output_type": "stream",
          "name": "stdout",
          "text": [
            "Ahoy there, me hearties! Gather 'round, gather 'round, and let old Captain Blackheart spin ye a yarn, not of treasure or kraken, but of a most peculiar landlubber we once met... a metal lad, no less!\n",
            "\n",
            "'Twas a blustery morn, the waves fair dancin' around the ol' Sea Serpent, when young Pegleg Pete spots somethin' bobbin' in the foam. \"Land ahoy... or a chest, Captain!\" he cries, his voice crackin' like a dry biscuit. We hauled it aboard, expectin' gold or a rum barrel, but what we got was a rusty contraption, all gears and whirring.\n",
            "\n",
            "\"Blimey!\" shouts One-Eyed Jack, drawin' his cutlass. \"It's a monster, a metal beastie come to rust our rigging!\" But before he could strike, the thing sputtered, whirred, and then a little light on its head blinked green. A most gentle voice, like the tinklin' of tiny bells, came out of it. \"Greetings, carbon-based lifeforms,\" it chirped. \"My designation is Unit 734. May I be of assistance?\"\n",
            "\n",
            "We stared, dumbfounded. This wasn't no monstrous beast! It was... polite! It scurried around, no bigger than a ship's cat, tidying up stray ropes, mopping up spilled grog with a little built-in mop, and even polishin' me hook till it fair gleamed! When Scurvy Sam got a splinter, this little robot, \"Unit 734\" as it called itself, brought a tiny, shiny tool and plucked it out gentle as a feather, then even offered a bit of oil for his rusty joints!\n",
            "\n",
            "Never once did it ask for treasure, or even a swig of rum. It just... helped. It liked to clean, it liked to organize, and it'd hum little digital tunes whilst it worked. We started callin' it \"Rusty Buttons,\" for all the blinking lights it had. It didn't fight, didn't curse, just beeped happily and straightened our crooked maps.\n",
            "\n",
            "So ye see, not all strange things found at sea are threats, me lads. Sometimes, ye just haul in a friendly bit of metal that just wants to make sure yer deck's scrubbed and yer spirits are high. A peculiar tale, aye, but true as the north star, I swear it on me last gold doubloon! Now, who's for more grog?\n"
          ]
        }
      ]
    },
    {
      "cell_type": "markdown",
      "source": [
        "Step 6: Prompting for specific tasks"
      ],
      "metadata": {
        "id": "Fe8gc_7duz8t"
      }
    },
    {
      "cell_type": "code",
      "source": [
        "#Summarization: provide clear instructions in text\n",
        "\n",
        "# Your lengthy text here\n",
        "long_text = \"\"\"\n",
        "Ahoy there, me hearties! Gather 'round, gather 'round, and let old Captain Blackheart spin ye a yarn, not of treasure or kraken, but of a most peculiar landlubber we once met... a metal lad, no less!\n",
        "\n",
        "'Twas a blustery morn, the waves fair dancin' around the ol' Sea Serpent, when young Pegleg Pete spots somethin' bobbin' in the foam. \"Land ahoy... or a chest, Captain!\" he cries, his voice crackin' like a dry biscuit. We hauled it aboard, expectin' gold or a rum barrel, but what we got was a rusty contraption, all gears and whirring.\n",
        "\n",
        "\"Blimey!\" shouts One-Eyed Jack, drawin' his cutlass. \"It's a monster, a metal beastie come to rust our rigging!\" But before he could strike, the thing sputtered, whirred, and then a little light on its head blinked green. A most gentle voice, like the tinklin' of tiny bells, came out of it. \"Greetings, carbon-based lifeforms,\" it chirped. \"My designation is Unit 734. May I be of assistance?\"\n",
        "\n",
        "We stared, dumbfounded. This wasn't no monstrous beast! It was... polite! It scurried around, no bigger than a ship's cat, tidying up stray ropes, mopping up spilled grog with a little built-in mop, and even polishin' me hook till it fair gleamed! When Scurvy Sam got a splinter, this little robot, \"Unit 734\" as it called itself, brought a tiny, shiny tool and plucked it out gentle as a feather, then even offered a bit of oil for his rusty joints!\n",
        "\n",
        "Never once did it ask for treasure, or even a swig of rum. It just... helped. It liked to clean, it liked to organize, and it'd hum little digital tunes whilst it worked. We started callin' it \"Rusty Buttons,\" for all the blinking lights it had. It didn't fight, didn't curse, just beeped happily and straightened our crooked maps.\n",
        "\n",
        "So ye see, not all strange things found at sea are threats, me lads. Sometimes, ye just haul in a friendly bit of metal that just wants to make sure yer deck's scrubbed and yer spirits are high. A peculiar tale, aye, but true as the north star, I swear it on me last gold doubloon! Now, who's for more grog?\n",
        "\"\"\"\n",
        "summarization_prompt = f\"Summarize the following text concisely: {long_text}\"\n",
        "summary_response = client.models.generate_content(\n",
        "    model=model_name,\n",
        "    contents=summarization_prompt)\n",
        "print(summary_response.text)\n"
      ],
      "metadata": {
        "id": "vmuOi3lOuzAa",
        "outputId": "084c3e3e-4ad5-4c90-a895-4017b5a53a9b",
        "colab": {
          "base_uri": "https://localhost:8080/"
        }
      },
      "execution_count": 15,
      "outputs": [
        {
          "output_type": "stream",
          "name": "stdout",
          "text": [
            "Captain Blackheart recounts how his pirate crew, during a blustery voyage, discovered a mysterious metal contraption floating at sea. Initially fearing it as a monster, they soon learned it was \"Unit 734,\" a polite and helpful robot (nicknamed \"Rusty Buttons\") that cleaned, organized, and assisted them without seeking any reward. The captain concludes that not all strange seafaring discoveries are threats, some can be beneficial companions.\n"
          ]
        }
      ]
    },
    {
      "cell_type": "code",
      "source": [
        "#Classification\n",
        "text_to_classify = \"This movie was fantastic, the acting was superb!\"\n",
        "\n",
        "classification_prompt = f\"Classify the sentiment of the following text as positive, negative, or neutral: '{text_to_classify}'\"\n",
        "\n",
        "classification_response = client.models.generate_content(\n",
        "    model=model_name,\n",
        "    contents=classification_prompt)\n",
        "\n",
        "print(classification_response.text) # Expected: Positive\n"
      ],
      "metadata": {
        "colab": {
          "base_uri": "https://localhost:8080/"
        },
        "id": "no5xZweWvGK_",
        "outputId": "3313cf33-9e67-40d4-f1d1-e82560dd823b"
      },
      "execution_count": 16,
      "outputs": [
        {
          "output_type": "stream",
          "name": "stdout",
          "text": [
            "**Positive**\n"
          ]
        }
      ]
    }
  ]
}