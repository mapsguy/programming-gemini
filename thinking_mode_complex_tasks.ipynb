{
  "nbformat": 4,
  "nbformat_minor": 0,
  "metadata": {
    "colab": {
      "provenance": [],
      "include_colab_link": true
    },
    "kernelspec": {
      "name": "python3",
      "display_name": "Python 3"
    },
    "language_info": {
      "name": "python"
    }
  },
  "cells": [
    {
      "cell_type": "markdown",
      "metadata": {
        "id": "view-in-github",
        "colab_type": "text"
      },
      "source": [
        "<a href=\"https://colab.research.google.com/github/mapsguy/programming-gemini/blob/main/thinking_mode_complex_tasks.ipynb\" target=\"_parent\"><img src=\"https://colab.research.google.com/assets/colab-badge.svg\" alt=\"Open In Colab\"/></a>"
      ]
    },
    {
      "cell_type": "code",
      "execution_count": 30,
      "metadata": {
        "id": "u26puzb3HyT9"
      },
      "outputs": [],
      "source": [
        "#step 1: install/upgrade the latest genai SDK\n",
        "%pip install google-genai --upgrade --quiet"
      ]
    },
    {
      "cell_type": "code",
      "source": [
        "#import the genai library\n",
        "from google import genai"
      ],
      "metadata": {
        "id": "_jqkjaSLSGUB"
      },
      "execution_count": 2,
      "outputs": []
    },
    {
      "cell_type": "code",
      "source": [
        "#step 2: AIStudio: read the api key from the user data\n",
        "from google.colab import userdata\n",
        "client = genai.Client(api_key=userdata.get(\"GEMINI_API_KEY\"))\n",
        "\n",
        "#If you want to read from environment keys\n",
        "#import os\n",
        "#client = genai.Client(api_key=os.environ[\"GEMINI_API_KEY\"])"
      ],
      "metadata": {
        "id": "NRmQ0FpeSSnL"
      },
      "execution_count": 9,
      "outputs": []
    },
    {
      "cell_type": "code",
      "source": [
        "#step 3: Get model details\n",
        "model_name = 'gemini-2.5-flash-preview-04-17'\n",
        "try:\n",
        "    model_details = client.models.get(model=model_name) #\n",
        "    print(f\"Details for model '{model_name}':\")\n",
        "    print(f\"Model Name: {model_details.name}\")\n",
        "    print(f\"Input Token Limit: {model_details.input_token_limit}\")\n",
        "    print(f\"Output Token Limit: {model_details.output_token_limit}\")\n",
        "except Exception as e:\n",
        "    print(f\"Error retrieving model details for '{model_name}': {e}\")"
      ],
      "metadata": {
        "id": "fVomhgC-t5j1",
        "colab": {
          "base_uri": "https://localhost:8080/"
        },
        "outputId": "f8ce30fc-1d22-494c-9828-fbd95afb7368"
      },
      "execution_count": 5,
      "outputs": [
        {
          "output_type": "stream",
          "name": "stdout",
          "text": [
            "Details for model 'gemini-2.5-flash-preview-04-17':\n",
            "Model Name: models/gemini-2.5-flash-preview-04-17\n",
            "Input Token Limit: 1048576\n",
            "Output Token Limit: 65536\n"
          ]
        }
      ]
    },
    {
      "cell_type": "code",
      "source": [
        "#step 4: enable thinking mode\n",
        "\n",
        "from google.genai import types\n",
        "\n",
        "# Enable thinking with default budget (500)\n",
        "config_default = types.ThinkingConfig(include_thoughts=True)\n",
        "\n",
        "# Enable thinking with a specific budget (e.g., 1000)\n",
        "config_custom = types.ThinkingConfig(thinking_budget=1000)\n"
      ],
      "metadata": {
        "id": "HCJGpDujgcH0"
      },
      "execution_count": 28,
      "outputs": []
    },
    {
      "cell_type": "code",
      "source": [
        "#step 5: make a call and access response\n",
        "\n",
        "prompt = \"Solve this math problem step-by-step: If a train leaves station A at 2:00 PM traveling at 60 mph, and station B is 210 miles away, what time does it arrive?\"\n",
        "\n",
        "# Using the custom budget config from the previous example\n",
        "response = client.models.generate_content(\n",
        "    model = model_name,\n",
        "    contents = prompt,\n",
        "    config = types.GenerateContentConfig(thinking_config=config_custom)\n",
        ")\n",
        "\n",
        "# Access the final answer\n",
        "final_answer = response.text\n",
        "print(\"Final Answer:\\n\", final_answer)\n",
        "\n"
      ],
      "metadata": {
        "colab": {
          "base_uri": "https://localhost:8080/",
          "height": 535
        },
        "id": "SFQJlPCQwXkk",
        "outputId": "496074b5-44c7-4d3c-ae01-0d73e4549f7d"
      },
      "execution_count": 20,
      "outputs": [
        {
          "output_type": "stream",
          "name": "stdout",
          "text": [
            "Final Answer:\n",
            " Okay, let's solve this step-by-step:\n",
            "\n",
            "1.  **Identify the given information:**\n",
            "    *   Distance = 210 miles\n",
            "    *   Speed = 60 mph\n",
            "    *   Departure time = 2:00 PM\n",
            "\n",
            "2.  **Determine the formula needed:** To find the time taken for the journey, we use the formula:\n",
            "    Time = Distance / Speed\n",
            "\n",
            "3.  **Calculate the travel time:**\n",
            "    *   Time = 210 miles / 60 mph\n",
            "    *   Time = 3.5 hours\n",
            "\n",
            "4.  **Convert the decimal part of the time to minutes:**\n",
            "    *   The 0.5 part of the hour needs to be converted to minutes.\n",
            "    *   0.5 hours * 60 minutes/hour = 30 minutes\n",
            "    *   So, the travel time is 3 hours and 30 minutes.\n",
            "\n",
            "5.  **Calculate the arrival time:** Add the travel time to the departure time.\n",
            "    *   Departure time: 2:00 PM\n",
            "    *   Add 3 hours: 2:00 PM + 3 hours = 5:00 PM\n",
            "    *   Add 30 minutes: 5:00 PM + 30 minutes = 5:30 PM\n",
            "\n",
            "The train arrives at 5:30 PM.\n"
          ]
        },
        {
          "output_type": "execute_result",
          "data": {
            "text/plain": [
              "'\\n# Access the intermediate thoughts\\nintermediate_thoughts = response.thinking_results\\nprint(\"\\nIntermediate Thoughts:\")\\nfor part in response.candidates[0].content.parts:\\n  if not part.text:\\n    continue\\n  if part.thought:\\n    print(\"Thought summary:\")\\n    print(part.text)\\n    print() \\n    '"
            ],
            "application/vnd.google.colaboratory.intrinsic+json": {
              "type": "string"
            }
          },
          "metadata": {},
          "execution_count": 20
        }
      ]
    },
    {
      "cell_type": "code",
      "source": [
        "#step 6: access intermediate thoughts\n",
        "prompt = \"Solve this math problem step-by-step: If a train leaves station A at 2:00 PM traveling at 60 mph, and station B is 210 miles away, what time does it arrive?\"\n",
        "\n",
        "thoughts = \"\"\n",
        "\n",
        "for chunk in client.models.generate_content_stream(\n",
        "    model=\"gemini-2.5-flash-preview-05-20\",\n",
        "    contents=prompt,\n",
        "    config=types.GenerateContentConfig(thinking_config=config_default)\n",
        "\n",
        "):\n",
        "  for part in chunk.candidates[0].content.parts:\n",
        "    if not part.text:\n",
        "      continue\n",
        "    elif part.thought:\n",
        "      if not thoughts:\n",
        "        print(\"Thoughts summary:\")\n",
        "      print(part.text)\n",
        "      thoughts += part.text\n"
      ],
      "metadata": {
        "colab": {
          "base_uri": "https://localhost:8080/"
        },
        "id": "dS6yQwQi5Ov3",
        "outputId": "74077437-ad81-4284-dfca-db11a4242134"
      },
      "execution_count": 29,
      "outputs": [
        {
          "output_type": "stream",
          "name": "stdout",
          "text": [
            "Thoughts summary:\n",
            "**Determining Arrival Time**\n",
            "\n",
            "I've got a grasp on the essentials now. The core objective is finding the arrival time. I know the departure time is 2:00 PM, the speed is 60 mph, and the total distance is 210 miles. Now, I'm working to figure out the duration of the trip.\n",
            "\n",
            "\n",
            "\n",
            "**Calculating the Duration**\n",
            "\n",
            "I've determined the time needed using the distance and speed.  210 miles at 60 mph means 3.5 hours of travel. This is derived by dividing distance by speed (210/60). I'm converting the fractional hours to minutes to find the total time: 3 hours and 30 minutes. I'm now adding this to the departure time.\n",
            "\n",
            "\n",
            "\n",
            "**Defining the Steps**\n",
            "\n",
            "I've outlined the problem-solving steps. I grasped the information and figured out what's needed.  Now, the steps are clear: find the relevant equation, calculate travel time, and then add that time to departure. It's really falling into place now, and my writing is taking shape. I will add that to the document.\n",
            "\n",
            "\n",
            "\n"
          ]
        }
      ]
    },
    {
      "cell_type": "code",
      "source": [],
      "metadata": {
        "id": "2zd8jWoY7OPn"
      },
      "execution_count": null,
      "outputs": []
    }
  ]
}