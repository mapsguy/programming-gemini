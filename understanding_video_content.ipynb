{
  "nbformat": 4,
  "nbformat_minor": 0,
  "metadata": {
    "colab": {
      "provenance": [],
      "include_colab_link": true
    },
    "kernelspec": {
      "name": "python3",
      "display_name": "Python 3"
    },
    "language_info": {
      "name": "python"
    }
  },
  "cells": [
    {
      "cell_type": "markdown",
      "metadata": {
        "id": "view-in-github",
        "colab_type": "text"
      },
      "source": [
        "<a href=\"https://colab.research.google.com/github/mapsguy/programming-gemini/blob/main/understanding_video_content.ipynb\" target=\"_parent\"><img src=\"https://colab.research.google.com/assets/colab-badge.svg\" alt=\"Open In Colab\"/></a>"
      ]
    },
    {
      "cell_type": "code",
      "source": [
        "#import the genai library\n",
        "from google import genai"
      ],
      "metadata": {
        "id": "_jqkjaSLSGUB"
      },
      "execution_count": 4,
      "outputs": []
    },
    {
      "cell_type": "code",
      "source": [
        "#step 2: AIStudio: read the api key from the user data\n",
        "from google.colab import userdata\n",
        "client = genai.Client(api_key=userdata.get(\"GEMINI_API_KEY\"))\n",
        "\n",
        "#If you want to read from environment keys\n",
        "#import os\n",
        "#client = genai.Client(api_key=os.environ[\"GEMINI_API_KEY\"])"
      ],
      "metadata": {
        "id": "NRmQ0FpeSSnL"
      },
      "execution_count": 5,
      "outputs": []
    },
    {
      "cell_type": "markdown",
      "source": [
        "Implementing Video Understanding Tasks"
      ],
      "metadata": {
        "id": "hnyYB8tyoNoZ"
      }
    },
    {
      "cell_type": "code",
      "source": [
        "#1. Uploading video using the File API\n",
        "\n",
        "video_file_path = \"/content/2min.mp4\"\n",
        "\n",
        "video_file = client.files.upload(file=video_file_path)\n",
        "\n",
        "print(f\"Uploaded file as: {video_file.uri}\")\n"
      ],
      "metadata": {
        "colab": {
          "base_uri": "https://localhost:8080/"
        },
        "id": "Fc9Yl6NSn-hF",
        "outputId": "154c056b-8b4b-4246-a61f-74990c198ff5"
      },
      "execution_count": 20,
      "outputs": [
        {
          "output_type": "stream",
          "name": "stdout",
          "text": [
            "Uploaded file as: https://generativelanguage.googleapis.com/v1beta/files/jx0efj7i8vrs\n"
          ]
        }
      ]
    },
    {
      "cell_type": "code",
      "source": [
        "#2. Generating a transcript\n",
        "model_name=\"gemini-2.5-flash-preview-05-20\"\n",
        "\n",
        "prompt = \"Please transcribe this video and replace any names of individuals and schools/universities with an underscore.\"\n",
        "response = client.models.generate_content(\n",
        "    model=model_name,\n",
        "    contents=[prompt, video_file])\n",
        "\n",
        "print(response.text)\n"
      ],
      "metadata": {
        "colab": {
          "base_uri": "https://localhost:8080/"
        },
        "id": "-Vxcm2uVp_j2",
        "outputId": "159b9472-8d05-449a-ed87-c30aa7cf1d53"
      },
      "execution_count": 16,
      "outputs": [
        {
          "output_type": "stream",
          "name": "stdout",
          "text": [
            "Hi _, my name is _ and I'm a senior at the _ . Today, I just wanted to take the chance to walk you through some of the most impactful books I've ever read, just because books have been a pretty significant part of my life since I was very young. So, just to start off, I have The History Book, which I kind of read sporadically on and off between second and third grade. But why I remembered this one so well was that it basically presents every single historical event across all regions throughout the world in one really interconnected narrative. And that's why I loved it so much, because it's so rare to have a class that covers such a wide, long timeline in one year. And so this book really presented history in a singular, accessible timeline and it just, it's stuck with me ever since. So, and next up, I have Sita, which is a retelling of The Ramayana, um, and I read this in sixth grade. And why I loved this so much was that it's a retelling of an ancient epic that I've heard so many times, but all those times I heard it, it was only from the male perspective. So, reading this from the female perspective really gave me a deeper understanding of the themes of the book, specifically sacrifice. And it really helped me learn that, you know, understanding and learning about the multiple perspectives for each event is super important. And I think each time you do learn something new. And finally, I just wanted to introduce Scaling Altruism. So this is a book that I read last summer as I was interning for Mr. _'s altruist nonprofit accelerator. And in this book, he kind of starts from every single practice you need from day one, even with a single person to really build a successful nonprofit organization and the practices you need to take if you want to be a true altruist in society. And so this is pretty eye-opening, knowing that change, and altruistic change, can just start with one person. At _, I really hope to kind of explore that same wide-ranging areas of studies and subjects. And as a student, I'll continue to kind of explore different subjects and topics the same way I have with reading my whole life.\n"
          ]
        }
      ]
    },
    {
      "cell_type": "code",
      "source": [
        "#3. Summarizing a video\n",
        "prompt = \"Provide a concise summary of this video, and omit any names.\"\n",
        "response = client.models.generate_content(\n",
        "    model=model_name,\n",
        "    contents=[prompt, video_file])\n",
        "\n",
        "print(response.text)"
      ],
      "metadata": {
        "colab": {
          "base_uri": "https://localhost:8080/"
        },
        "id": "AiezO1QWrjOw",
        "outputId": "3ed99ec7-6e44-42aa-9b3c-8b0c6a3c01c4"
      },
      "execution_count": 18,
      "outputs": [
        {
          "output_type": "stream",
          "name": "stdout",
          "text": [
            "A student discusses three impactful books. \"The History Book\" provided an interconnected, global timeline of history, fostering an early appreciation for broad historical understanding. \"Sita: An Illustrated Retelling of the Ramayana\" offered a female perspective on the ancient epic, deepening her understanding of themes like sacrifice and the importance of diverse viewpoints. Finally, \"Scaling Altruism,\" read during a nonprofit internship, taught her how to build successful organizations and highlighted that altruistic change can begin with one person. She aims to continue exploring a wide range of subjects in her future academic pursuits.\n"
          ]
        }
      ]
    },
    {
      "cell_type": "code",
      "source": [
        "#4. Question answering with timestamps.\n",
        "prompt = \"What is happening at the 0 minute 30 second mark in the video? Omit any names.\"\n",
        "response = client.models.generate_content(\n",
        "    model=model_name,\n",
        "    contents=[prompt, video_file])\n",
        "print(response.text)\n",
        "\n",
        "# To get timestamps in the response for events\n",
        "prompt_with_timestamps = \"Describe the key events in this video and include their timestamps. Omit any names.\"\n",
        "response_with_timestamps = client.models.generate_content(\n",
        "    model=model_name,\n",
        "    contents=[prompt_with_timestamps, video_file])\n",
        "print(response_with_timestamps.text)\n"
      ],
      "metadata": {
        "colab": {
          "base_uri": "https://localhost:8080/"
        },
        "id": "gJveoX9lvGYD",
        "outputId": "c98a0ce1-cac7-462d-96f6-7182964e39ed"
      },
      "execution_count": 19,
      "outputs": [
        {
          "output_type": "stream",
          "name": "stdout",
          "text": [
            "At the 0 minute 30 second mark, the person in the video is holding up a book titled \"The History Book\" and discussing how it presents historical events from around the world in an interconnected narrative.\n",
            "Here are the key events in the video with their timestamps:\n",
            "\n",
            "*   **0:00-0:05:** A person introduces themselves and states they will discuss impactful books they have read.\n",
            "*   **0:15-0:45:** The person displays \"The History Book\" and explains how it presented historical events from around the world in a singular, interconnected narrative, which resonated with them due to its comprehensive timeline.\n",
            "*   **0:47-1:20:** The person presents \"Sita: An Illustrated Retelling of The Ramayana.\" They describe reading it in sixth grade and how it provided a female perspective on the epic, offering a deeper understanding of themes like sacrifice and the importance of multiple viewpoints.\n",
            "*   **1:22-1:53:** The person holds up \"Scaling Altruism\" and explains they read it during an internship for a nonprofit accelerator. They highlight how the book provided insights into building successful non-profit organizations and the practices needed to be a true altruist, emphasizing that change can start with one person.\n",
            "*   **1:54-2:07:** The person concludes by expressing their desire to continue exploring a wide range of studies and subjects in their academic future, mirroring their lifelong exploration through reading.\n"
          ]
        }
      ]
    }
  ]
}