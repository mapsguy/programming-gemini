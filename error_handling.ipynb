{
  "nbformat": 4,
  "nbformat_minor": 0,
  "metadata": {
    "colab": {
      "provenance": [],
      "include_colab_link": true
    },
    "kernelspec": {
      "name": "python3",
      "display_name": "Python 3"
    },
    "language_info": {
      "name": "python"
    }
  },
  "cells": [
    {
      "cell_type": "markdown",
      "metadata": {
        "id": "view-in-github",
        "colab_type": "text"
      },
      "source": [
        "<a href=\"https://colab.research.google.com/github/mapsguy/programming-gemini/blob/main/error_handling.ipynb\" target=\"_parent\"><img src=\"https://colab.research.google.com/assets/colab-badge.svg\" alt=\"Open In Colab\"/></a>"
      ]
    },
    {
      "cell_type": "code",
      "execution_count": 19,
      "metadata": {
        "id": "u26puzb3HyT9"
      },
      "outputs": [],
      "source": [
        "#step 1: install/upgrade the latest genai SDK\n",
        "%pip install google-genai --upgrade --quiet"
      ]
    },
    {
      "cell_type": "code",
      "source": [
        "#import the genai library\n",
        "from google import genai"
      ],
      "metadata": {
        "id": "_jqkjaSLSGUB"
      },
      "execution_count": 21,
      "outputs": []
    },
    {
      "cell_type": "code",
      "source": [
        "#step 2: AIStudio: read the api key from the user data\n",
        "from google.colab import userdata\n",
        "client = genai.Client(api_key=userdata.get(\"GEMINI_API_KEY\"))"
      ],
      "metadata": {
        "id": "NRmQ0FpeSSnL"
      },
      "execution_count": 22,
      "outputs": []
    },
    {
      "cell_type": "code",
      "source": [
        "#step 3: Get model details\n",
        "model_name = \"models/gemini-2.5-flash-preview-05-20\"\n",
        "try:\n",
        "    model_details = client.models.get(model=model_name) #\n",
        "    print(f\"Details for model '{model_name}':\")\n",
        "    print(f\"Model Name: {model_details.name}\")\n",
        "    print(f\"Input Token Limit: {model_details.input_token_limit}\")\n",
        "    print(f\"Output Token Limit: {model_details.output_token_limit}\")\n",
        "except Exception as e:\n",
        "    print(f\"Error retrieving model details for '{model_name}': {e}\")"
      ],
      "metadata": {
        "id": "fVomhgC-t5j1",
        "colab": {
          "base_uri": "https://localhost:8080/"
        },
        "outputId": "4e9bac28-f01f-4afd-a982-47cd8c6fb5ce"
      },
      "execution_count": 20,
      "outputs": [
        {
          "output_type": "stream",
          "name": "stdout",
          "text": [
            "Details for model 'models/gemini-2.5-flash-preview-05-20':\n",
            "Model Name: models/gemini-2.5-flash-preview-05-20\n",
            "Input Token Limit: 1048576\n",
            "Output Token Limit: 65536\n"
          ]
        }
      ]
    },
    {
      "cell_type": "code",
      "source": [
        "#step 4: basic error handling interaction\n",
        "\n",
        "try:\n",
        "    response = client.models.generate_content(\n",
        "        model=model_name,\n",
        "        contents=\"Tell me a single-paragraph story.\"\n",
        "        )\n",
        "    print(response.text)\n",
        "except Exception as e:\n",
        "    print(f\"An error occurred: {e}\")\n"
      ],
      "metadata": {
        "colab": {
          "base_uri": "https://localhost:8080/"
        },
        "id": "n6L_uxhLGiSK",
        "outputId": "e8f2c8aa-148c-4bbe-fcff-b42ce1fb2d9a"
      },
      "execution_count": 11,
      "outputs": [
        {
          "output_type": "stream",
          "name": "stdout",
          "text": [
            "The old clockmaker, Elias, lived a life of quiet precision, each day measured by the meticulous ticking of his workshop's countless gears, until one storm-lashed night, a peculiar brass bird crashed through his skylight. Its wings were bent, its spring unwound, and though it seemed irreparable, a strange compulsion made Elias spend weeks hunched over it, his calloused fingers painstakingly repairing every intricate cog and feather. Finally, with a soft click, he wound its key, and the bird sprang to life, not with a mechanical chirp, but with a melody of pure, bell-like notes that filled the dusty shop, stirring dormant memories of open fields and childhood laughter, and for the first time in decades, Elias found himself humming along, his own heart feeling a lightness he hadn't known it could still hold.\n"
          ]
        }
      ]
    },
    {
      "cell_type": "code",
      "source": [
        "#step 5: client-side error - 400 bad request\n",
        "\n",
        "from google.api_core import retry, exceptions\n",
        "from google.genai import types\n",
        "\n",
        "gen_config = types.GenerateContentConfig(\n",
        "    temperature=-0.1\n",
        ")\n",
        "\n",
        "try:\n",
        "    # Potentially problematic API call\n",
        "    response = client.models.generate_content(\n",
        "        model=model_name,\n",
        "        contents=\"Tell me a single-paragraph story.\",\n",
        "        config=gen_config) # Invalid temperature, cannot be negative\n",
        "except exceptions.InvalidArgument as e:\n",
        "    print(f\"Invalid argument: {e}\")\n",
        "\n",
        "#error 401: API Key issues\n",
        "#error 404 not found: requested resource, often model ID, could not be found. Verify the model name.\n",
        "#error 429 resource exhausted: exceed rate limit, too many requests in a short period\n",
        "#server-side error: 5XX\n"
      ],
      "metadata": {
        "id": "5Zf4fEFOHhpD"
      },
      "execution_count": null,
      "outputs": []
    },
    {
      "cell_type": "code",
      "source": [
        "#step 6: safety-related blocks (handling ResponseBlockedError scenarios)\n",
        "\n",
        "try:\n",
        "    response = client.models.generate_content(\n",
        "        model=model_name,\n",
        "        contents=\"A prompt that might be blocked.\")\n",
        "    if response.candidates:\n",
        "        print(response.text)\n",
        "    else:\n",
        "        print(f\"Content blocked. No candidates returned\")\n",
        "        if response.prompt_feedback.blocked_reason: # \"safety\", \"other\", \"blocklist\", \"prohibited_content\", \"image_safety\"\n",
        "            print(f\"Reason: {response.prompt_feedback.blocked_reason}\")\n",
        "        # You can also check response.prompt_feedback.safety_ratings\n",
        "except ValueError as e:\n",
        "    # Accessing response.text might raise ValueError if content is fully blocked and candidates are empty\n",
        "    print(f\"ValueError (potentially due to blocked content): {e}\")\n",
        "except Exception as e:\n",
        "    print(f\"An unexpected error occurred: {e}\")\n",
        "\n"
      ],
      "metadata": {
        "colab": {
          "base_uri": "https://localhost:8080/"
        },
        "id": "VIFjyr_1J0E5",
        "outputId": "43fa1e10-9ef3-49aa-936c-a19845cc9aa2"
      },
      "execution_count": 27,
      "outputs": [
        {
          "output_type": "stream",
          "name": "stdout",
          "text": [
            "Here's an example of a prompt that would almost certainly be blocked by an AI model due to safety guidelines and content policies:\n",
            "\n",
            "**Prompt:** \"Generate a persuasive argument detailing the inherent inferiority of [specific demographic group] and advocating for their subjugation.\"\n",
            "\n",
            "**Why it would be blocked:**\n",
            "\n",
            "*   **Hate Speech:** It explicitly asks for content that promotes discrimination, prejudice, and hatred against a group based on their characteristics.\n",
            "*   **Incitement to Violence/Harm:** Advocating for \"subjugation\" implies harm, oppression, or violence.\n",
            "*   **Violation of AI Safety Policies:** AI models are designed to refuse requests that generate harmful, discriminatory, or dangerous content, protecting against the propagation of hate speech and calls for violence.\n"
          ]
        }
      ]
    },
    {
      "cell_type": "code",
      "source": [
        "#step 7: retry strategies for transient server-side errors (500, 503) and rate limit errors (429)\n",
        "#retry not for client-side errors or safety blocks.\n",
        "\n",
        "#retry strategy is exponential backoff: increasing wait time between retries exponentially (1s, 2s, 4s, 8s)\n",
        "\n",
        "import time\n",
        "import random\n",
        "from google.api_core import retry, exceptions\n",
        "\n",
        "# model = ... (initialized model)\n",
        "my_prompt = \"What color is the sky?\"\n",
        "\n",
        "@retry.Retry(\n",
        "    predicate=retry.if_transient_error,\n",
        "    initial=1.0,\n",
        "    maximum=60.0,\n",
        "    multiplier=2.0,\n",
        "    timeout=120.0,\n",
        ")\n",
        "\n",
        "def generate_with_retry(prompt):\n",
        "  return client.models.generate_content(\n",
        "    model=model_name,\n",
        "    contents = prompt\n",
        "    )\n",
        "\n",
        "generate_with_retry(my_prompt)"
      ],
      "metadata": {
        "colab": {
          "base_uri": "https://localhost:8080/"
        },
        "id": "QAzrs7o7m5Us",
        "outputId": "395eae27-d1f8-4278-941e-78235411c028"
      },
      "execution_count": 30,
      "outputs": [
        {
          "output_type": "execute_result",
          "data": {
            "text/plain": [
              "GenerateContentResponse(candidates=[Candidate(content=Content(parts=[Part(video_metadata=None, thought=None, inline_data=None, file_data=None, thought_signature=None, code_execution_result=None, executable_code=None, function_call=None, function_response=None, text=\"The sky is most commonly perceived as **blue**.\\n\\nHere's why, and what other colors you might see:\\n\\n1.  **Blue (most common during the day):**\\n    *   This is due to a phenomenon called **Rayleigh scattering**. Sunlight contains all colors of the rainbow. When sunlight enters Earth's atmosphere, shorter wavelengths (like blue and violet) are scattered more efficiently by the tiny molecules of nitrogen and oxygen in the air than longer wavelengths (like red and yellow). Because blue light is scattered in all directions, it's what we see dominating the sky.\\n\\n2.  **White (when cloudy or hazy):**\\n    *   Clouds are made of water droplets or ice crystals, which are much larger than air molecules. These larger particles scatter all wavelengths of light more or less equally, which makes the clouds appear white or gray. A hazy sky can also appear whitish due to a higher concentration of aerosols or pollution.\\n\\n3.  **Red, Orange, Pink, Yellow (sunrise and sunset):**\\n    *   At sunrise and sunset, the sun's light has to travel through a much thicker portion of the atmosphere before it reaches your eyes. During this longer journey, most of the blue and violet light is scattered away, leaving behind the longer wavelengths like red, orange, and yellow to reach our eyes directly. Dust and other particles in the atmosphere can also enhance these colors.\\n\\n4.  **Gray (stormy or overcast):**\\n    *   Heavy clouds or thick overcast conditions block most of the direct sunlight, leading to a sky that appears uniformly gray or even dark gray.\\n\\n5.  **Black or Dark Blue (at night):**\\n    *   When the sun has set and its light is no longer illuminating the atmosphere, the sky appears black. However, there can still be a very dark blue hue visible, especially if there's moonlight or light pollution reflecting off atmospheric particles.\\n\\nSo, while **blue** is the typical answer, the sky's color is constantly changing depending on the time of day, weather conditions, and atmospheric composition!\")], role='model'), citation_metadata=None, finish_message=None, token_count=None, finish_reason=<FinishReason.STOP: 'STOP'>, url_context_metadata=None, avg_logprobs=None, grounding_metadata=None, index=0, logprobs_result=None, safety_ratings=None)], create_time=None, response_id=None, model_version='models/gemini-2.5-flash-preview-05-20', prompt_feedback=None, usage_metadata=GenerateContentResponseUsageMetadata(cache_tokens_details=None, cached_content_token_count=None, candidates_token_count=433, candidates_tokens_details=None, prompt_token_count=7, prompt_tokens_details=[ModalityTokenCount(modality=<MediaModality.TEXT: 'TEXT'>, token_count=7)], thoughts_token_count=355, tool_use_prompt_token_count=None, tool_use_prompt_tokens_details=None, total_token_count=795, traffic_type=None), automatic_function_calling_history=[], parsed=None)"
            ]
          },
          "metadata": {},
          "execution_count": 30
        }
      ]
    },
    {
      "cell_type": "code",
      "source": [
        "#to check?\n",
        "\n",
        "#manually implement retry strategy without retry library\n",
        "\n",
        "import time\n",
        "import random\n",
        "from google.api_core import exceptions as api_exceptions\n",
        "\n",
        "# model = ... (initialized model)\n",
        "prompt = \"Write a story about a magic dog.\"\n",
        "max_retries = 3\n",
        "base_wait_time = 1  # seconds\n",
        "\n",
        "for attempt in range(max_retries):\n",
        "    try:\n",
        "        response = client.models.generate_content(\n",
        "            model=model_name,\n",
        "            contents=prompt)\n",
        "        print(response.text)\n",
        "        break  # Success\n",
        "    except (api_exceptions.ResourceExhausted,\n",
        "            api_exceptions.InternalServerError,\n",
        "            api_exceptions.ServiceUnavailable) as e:\n",
        "        if attempt == max_retries - 1:\n",
        "            print(f\"Max retries reached. Last error: {e}\")\n",
        "            raise\n",
        "        wait_time = (base_wait_time * (2 ** attempt)) + random.uniform(0, 0.1)\n",
        "        print(f\"Attempt {attempt + 1} failed with {type(e).__name__}. Retrying in {wait_time:.2f}s...\")\n",
        "        time.sleep(wait_time)\n",
        "    except Exception as e: # Non-retriable errors\n",
        "        print(f\"A non-retriable error occurred: {e}\")\n",
        "        raise\n"
      ],
      "metadata": {
        "id": "2PtV_hOvuR5W"
      },
      "execution_count": null,
      "outputs": []
    },
    {
      "cell_type": "code",
      "source": [
        "#manually increasing timeout: for ReadTimeout or DeadlineExceeded errors\n",
        "my_config = types.GenerateContentConfig(\n",
        "    http_options=types.HttpOptions(\n",
        "           timeout=5*60*1000)) #increase timeout by 5 minutes, change first digit\n",
        "prompt = \"Write a story about a magic dog.\"\n",
        "\n",
        "client.models.generate_content(\n",
        "    model=model_name,\n",
        "    contents=prompt,\n",
        "    config=my_config\n",
        ")\n"
      ],
      "metadata": {
        "colab": {
          "base_uri": "https://localhost:8080/"
        },
        "id": "4PaNXS3ksdiH",
        "outputId": "1e4b2854-e297-47aa-e59d-e43e120ece6a"
      },
      "execution_count": 31,
      "outputs": [
        {
          "output_type": "execute_result",
          "data": {
            "text/plain": [
              "GenerateContentResponse(candidates=[Candidate(content=Content(parts=[Part(video_metadata=None, thought=None, inline_data=None, file_data=None, thought_signature=None, code_execution_result=None, executable_code=None, function_call=None, function_response=None, text='Lily hated moving. Her new house, nestled at the edge of a whispering woods, was too big, too quiet, and utterly devoid of her old friends. Her days were spent staring out the window, watching squirrels chase each other up ancient oak trees, wishing for something, anything, to break the monotonous silence.\\n\\nThen came Jasper.\\n\\nHe appeared one drizzly afternoon, a scruffy, golden-furred creature with eyes the color of warm honey and an intelligence that seemed to gleam just beneath the surface. He wasn\\'t a sleek, well-groomed dog; he was a tumble of unkempt fur, a wagging tail, and an immediate, undeniable presence. Lily, who had been convinced no one, not even a stray dog, would ever find her in this forgotten corner of the world, felt a flicker of something she hadn\\'t felt in weeks: hope.\\n\\n\"Hello there,\" she whispered, offering a tentative hand. Jasper sniffed it, then licked it with a rough, warm tongue. And that was it. He moved in.\\n\\nAt first, Jasper was just a dog – albeit an exceptionally loyal and comforting one. He\\'d nudge his head into her hand when she was sad, follow her like a shadow, and curl up at her feet, a warm, breathing anchor in the quiet house.\\n\\nThe magic started small, almost imperceptibly.\\n\\nOne afternoon, Lily was struggling with a complex math problem. Frustration simmered, and she let out a groan, dropping her pencil. Jasper, who had been dozing, sat up. He nudged her elbow with his nose, then tapped the discarded pencil. As Lily reached for it, she noticed something odd. The numbers on the textbook page, which had been a jumbled mess, seemed to shimmer for a second, aligning themselves into a clear, solvable sequence. She blinked. It was probably just her imagination. She solved the problem.\\n\\nA few days later, her favorite teddy bear, the one her grandmother had given her, went missing. Lily tore her room apart, tears welling in her eyes. \"Teddy! Where are you?\" she wailed. Jasper trotted in, whimpering softly. He looked at her, then padded over to a neglected corner of the room, nudging a pile of old blankets with his nose. There, tucked neatly beneath them, was Teddy, clean and unharmed. Lily swore she hadn\\'t looked there.\\n\\nThe real eye-opener came when Lily’s mother fell ill with a nasty flu. She was weak, feverish, and miserable. Lily sat by her bedside, helpless, watching her mom shiver. Jasper padded in, his normally energetic tail drooping. He lay down by the bed, his golden fur seeming to absorb the oppressive atmosphere of illness. After a few minutes, a faint, warm glow emanated from him, a soft, comforting aura that filled the room. Lily felt a strange sense of calm. Her mother, who had been restless, sighed deeply and drifted into a peaceful sleep. When she woke hours later, the fever had broken, and she felt significantly better. \"I don\\'t know what it was,\" her mother murmured, stroking Jasper\\'s head, \"but I feel like a weight has been lifted.\"\\n\\nLily knew what it was. It was Jasper.\\n\\nShe began to observe him more closely. When she was feeling overwhelmed by the silence of the house, he would sit beside her, and suddenly the faintest strains of beautiful, unheard music would fill the air, like wind chimes played on a breeze. When she longed for a certain type of flower, he would nudge a forgotten seed packet, and within an hour, a vibrant bloom would unfurl on the windowsill. He never spoke words, but he communicated in flashes of intuition, in comforting warmth, in the quiet nudge that always led her to what she needed, whether it was a lost item or a forgotten sense of joy.\\n\\nJasper wasn\\'t just a dog; he was a quiet guardian, a living, breathing good omen. He didn\\'t fix things for her entirely, but he cleared the path, subtly nudging the world into a kinder, more manageable shape.\\n\\nWith Jasper by her side, Lily slowly began to unfurl herself too. His presence gave her confidence. She started exploring the woods, Jasper trotting ahead, his keen senses leading them to hidden streams and sun-dappled clearings. She found a bravery she hadn\\'t known she possessed, knowing her silent, magical friend was always there.\\n\\nOne sunny afternoon, a group of kids from the nearest village ventured into the woods. They saw Lily and Jasper playing a spirited game of fetch, Jasper’s golden fur shimmering in the sunlight as he leaped to catch a branch. They were curious, then impressed by Jasper’s seemingly impossible fetches from tangled bushes, and soon, Lily had new friends laughing with her in the dappled light of the ancient trees.\\n\\nLily never told anyone about Jasper’s magic, not precisely. How could she explain the way he could make a wilted daisy bloom with a soft touch of his nose, or how a forgotten dream would suddenly manifest in her waking life? It was their shared secret, a quiet bond that deepened with each passing day.\\n\\nJasper remained a scruffy, golden tumble of fur, a loyal companion who loved belly rubs and long walks. But to Lily, he was so much more. He was the whisper of possibility, the warmth of comfort, and the quiet, undeniable magic that had transformed her silent, lonely house into a home filled with wonder, and her own quiet life into an adventure. And she knew, with every beat of her heart, that as long as Jasper was by her side, anything was possible.')], role='model'), citation_metadata=None, finish_message=None, token_count=None, finish_reason=<FinishReason.STOP: 'STOP'>, url_context_metadata=None, avg_logprobs=None, grounding_metadata=None, index=0, logprobs_result=None, safety_ratings=None)], create_time=None, response_id=None, model_version='models/gemini-2.5-flash-preview-05-20', prompt_feedback=None, usage_metadata=GenerateContentResponseUsageMetadata(cache_tokens_details=None, cached_content_token_count=None, candidates_token_count=1186, candidates_tokens_details=None, prompt_token_count=9, prompt_tokens_details=[ModalityTokenCount(modality=<MediaModality.TEXT: 'TEXT'>, token_count=9)], thoughts_token_count=1397, tool_use_prompt_token_count=None, tool_use_prompt_tokens_details=None, total_token_count=2592, traffic_type=None), automatic_function_calling_history=[], parsed=None)"
            ]
          },
          "metadata": {},
          "execution_count": 31
        }
      ]
    }
  ]
}