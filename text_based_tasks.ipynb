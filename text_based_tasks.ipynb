{
  "nbformat": 4,
  "nbformat_minor": 0,
  "metadata": {
    "colab": {
      "provenance": [],
      "include_colab_link": true
    },
    "kernelspec": {
      "name": "python3",
      "display_name": "Python 3"
    },
    "language_info": {
      "name": "python"
    }
  },
  "cells": [
    {
      "cell_type": "markdown",
      "metadata": {
        "id": "view-in-github",
        "colab_type": "text"
      },
      "source": [
        "<a href=\"https://colab.research.google.com/github/mapsguy/programming-gemini/blob/main/text_based_tasks.ipynb\" target=\"_parent\"><img src=\"https://colab.research.google.com/assets/colab-badge.svg\" alt=\"Open In Colab\"/></a>"
      ]
    },
    {
      "cell_type": "code",
      "execution_count": 6,
      "metadata": {
        "id": "u26puzb3HyT9"
      },
      "outputs": [],
      "source": [
        "#step 1: install/upgrade the latest genai SDK\n",
        "%pip install google-genai --upgrade --quiet"
      ]
    },
    {
      "cell_type": "code",
      "source": [
        "#import the genai library\n",
        "from google import genai"
      ],
      "metadata": {
        "id": "_jqkjaSLSGUB"
      },
      "execution_count": 2,
      "outputs": []
    },
    {
      "cell_type": "code",
      "source": [
        "#step 2: AIStudio: read the api key from the user data\n",
        "from google.colab import userdata\n",
        "client = genai.Client(api_key=userdata.get(\"GEMINI_API_KEY\"))\n",
        "\n",
        "#If you want to read from environment keys\n",
        "#import os\n",
        "#client = genai.Client(api_key=os.environ[\"GEMINI_API_KEY\"])"
      ],
      "metadata": {
        "id": "NRmQ0FpeSSnL"
      },
      "execution_count": 3,
      "outputs": []
    },
    {
      "cell_type": "code",
      "source": [
        "model_name = \"models/gemini-2.5-flash-preview-05-20\""
      ],
      "metadata": {
        "id": "fVomhgC-t5j1"
      },
      "execution_count": 5,
      "outputs": []
    },
    {
      "cell_type": "code",
      "source": [
        "#step 3: text summarization\n",
        "prompt = \"\"\"Summarize the following article in three bullet points, highlighting its main conclusions:\n",
        "\n",
        "[Insert long article text here]\n",
        "\"\"\"\n",
        "response = client.models.generate_content(\n",
        "    model=model_name,\n",
        "    contents=prompt)\n",
        "print(response.text)\n"
      ],
      "metadata": {
        "colab": {
          "base_uri": "https://localhost:8080/"
        },
        "id": "3DeF3tDmN1pP",
        "outputId": "3411ba57-51fe-4f33-dd0a-eb6cc42690d3"
      },
      "execution_count": 7,
      "outputs": [
        {
          "output_type": "stream",
          "name": "stdout",
          "text": [
            "Unfortunately, I cannot summarize the article because the article text was not provided in your request.\n",
            "\n",
            "Please paste the full article text, and I will be happy to summarize it for you in three bullet points, highlighting its main conclusions.\n"
          ]
        }
      ]
    },
    {
      "cell_type": "code",
      "source": [
        "#step 4: text classification\n",
        "\n",
        "#few-shot prompting (examples in prompt) helps guide the model\n",
        "\n",
        "prompt = \"\"\"Classify the customer feedback into one of the following categories: Positive, Negative, Suggestion.\n",
        "\n",
        "Feedback: \"The new interface is much more intuitive, great job!\"\n",
        "Category: Positive\n",
        "\n",
        "Feedback: \"I wish there was an option to export data in CSV format.\"\n",
        "Category: Suggestion\n",
        "\n",
        "Feedback: \"The app keeps crashing after the latest update.\"\n",
        "Category: Negative\n",
        "\n",
        "Feedback: \"This is the best tool I have ever used!\"\n",
        "Category:\n",
        "\"\"\"\n",
        "response = client.models.generate_content(\n",
        "    model=model_name,\n",
        "    contents=prompt)\n",
        "print(response.text) # Expected: Positive\n"
      ],
      "metadata": {
        "colab": {
          "base_uri": "https://localhost:8080/"
        },
        "id": "VHEwRy4WtDSR",
        "outputId": "862104b3-0334-453c-a1b7-5ce69a0b8f37"
      },
      "execution_count": 8,
      "outputs": [
        {
          "output_type": "stream",
          "name": "stdout",
          "text": [
            "Positive\n"
          ]
        }
      ]
    },
    {
      "cell_type": "code",
      "source": [
        "#step 5: mathematical reasoning\n",
        "\n",
        "#use chain of thought prompting for step by step problem solving\n",
        "prompt = \"\"\"Solve the following math problem. Let's think step by step.\n",
        "\n",
        "Q: A bakery made 120 cookies in the morning. They sold 75 cookies by noon. Then, they baked another 60 cookies in the afternoon. How many cookies did the bakery have at the end of the day?\n",
        "A:\n",
        "\"\"\"\n",
        "\n",
        "# For complex math, consider gemini-2.5-pro\n",
        "\n",
        "response = client.models.generate_content(\n",
        "    model=model_name,\n",
        "    contents=prompt)\n",
        "print(response.text)\n"
      ],
      "metadata": {
        "colab": {
          "base_uri": "https://localhost:8080/"
        },
        "id": "AG78MB--tSPR",
        "outputId": "31e68c4f-5edd-4a5b-9916-0e1669f2d66b"
      },
      "execution_count": 9,
      "outputs": [
        {
          "output_type": "stream",
          "name": "stdout",
          "text": [
            "Here's how we can solve this step-by-step:\n",
            "\n",
            "1.  **Start with the initial number of cookies:**\n",
            "    The bakery made 120 cookies in the morning.\n",
            "\n",
            "2.  **Calculate cookies remaining after selling:**\n",
            "    They sold 75 cookies. So, subtract the sold cookies from the initial amount:\n",
            "    120 - 75 = 45 cookies\n",
            "\n",
            "3.  **Add the cookies baked in the afternoon:**\n",
            "    They baked another 60 cookies. Add this to the remaining cookies:\n",
            "    45 + 60 = 105 cookies\n",
            "\n",
            "The bakery had 105 cookies at the end of the day.\n"
          ]
        }
      ]
    },
    {
      "cell_type": "code",
      "source": [
        "#step 6: policy adherence checks\n",
        "policy_text = \"\"\"\n",
        "Content Policy:\n",
        "1. No promotion of illegal activities.\n",
        "2. No hate speech or discriminatory language.\n",
        "3. All claims must be factually accurate and verifiable.\n",
        "\"\"\"\n",
        "user_content = \"Join our workshop to learn how to make a million dollars a week with this one simple trick that financial advisors don't want you to know!\"\n",
        "\n",
        "prompt = f\"\"\"\n",
        "Given the following Content Policy:{policy_text}\n",
        "User Content: {user_content}\n",
        "Analysis:\n",
        "\"\"\"\n",
        "\n",
        "response = client.models.generate_content(\n",
        "    model=model_name,\n",
        "    contents=prompt)\n",
        "print(response.text)\n"
      ],
      "metadata": {
        "colab": {
          "base_uri": "https://localhost:8080/"
        },
        "id": "8LV2fXsZtmHM",
        "outputId": "35dc882e-a487-449e-ff7d-fcdcd3bbd982"
      },
      "execution_count": 10,
      "outputs": [
        {
          "output_type": "stream",
          "name": "stdout",
          "text": [
            "Analysis:\n",
            "\n",
            "The user content violates **Policy 3: All claims must be factually accurate and verifiable.**\n",
            "\n",
            "1.  **\"make a million dollars a week with this one simple trick\"**: This claim is highly unrealistic, unsubstantiated, and lacks any factual basis. Generating such a consistent, exorbitant income with a \"simple trick\" is contrary to standard financial principles and is unverifiable.\n",
            "2.  **\"financial advisors don't want you to know!\"**: This statement is an unsubstantiated accusation and a disparaging claim against a professional group. It implies a conspiracy or intentional withholding of information, which is a factual claim presented without any evidence and is not verifiable.\n",
            "\n",
            "The content does not appear to directly promote illegal activities (Policy 1) or contain hate speech or discriminatory language (Policy 2), but its deceptive and unverified financial claims are a clear violation of Policy 3.\n"
          ]
        }
      ]
    },
    {
      "cell_type": "code",
      "source": [],
      "metadata": {
        "id": "4uAcNyjbuORB"
      },
      "execution_count": null,
      "outputs": []
    }
  ]
}