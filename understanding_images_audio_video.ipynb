{
  "nbformat": 4,
  "nbformat_minor": 0,
  "metadata": {
    "colab": {
      "provenance": [],
      "include_colab_link": true
    },
    "kernelspec": {
      "name": "python3",
      "display_name": "Python 3"
    },
    "language_info": {
      "name": "python"
    }
  },
  "cells": [
    {
      "cell_type": "markdown",
      "metadata": {
        "id": "view-in-github",
        "colab_type": "text"
      },
      "source": [
        "<a href=\"https://colab.research.google.com/github/mapsguy/programming-gemini/blob/main/understanding_images_audio_video.ipynb\" target=\"_parent\"><img src=\"https://colab.research.google.com/assets/colab-badge.svg\" alt=\"Open In Colab\"/></a>"
      ]
    },
    {
      "cell_type": "code",
      "execution_count": 32,
      "metadata": {
        "id": "u26puzb3HyT9"
      },
      "outputs": [],
      "source": [
        "#step 1: install/upgrade the latest genai SDK\n",
        "%pip install google-genai --upgrade --quiet"
      ]
    },
    {
      "cell_type": "code",
      "source": [
        "#import the genai library\n",
        "from google import genai"
      ],
      "metadata": {
        "id": "_jqkjaSLSGUB"
      },
      "execution_count": 2,
      "outputs": []
    },
    {
      "cell_type": "code",
      "source": [
        "#step 2: AIStudio: read the api key from the user data\n",
        "from google.colab import userdata\n",
        "client = genai.Client(api_key=userdata.get(\"GEMINI_API_KEY\"))\n",
        "\n",
        "#If you want to read from environment keys\n",
        "#import os\n",
        "#client = genai.Client(api_key=os.environ[\"GEMINI_API_KEY\"])"
      ],
      "metadata": {
        "id": "NRmQ0FpeSSnL"
      },
      "execution_count": 4,
      "outputs": []
    },
    {
      "cell_type": "code",
      "source": [
        "#step 3: Get model details\n",
        "model_name = \"models/gemini-2.5-flash-preview-05-20\"\n",
        "try:\n",
        "    model_details = client.models.get(model=model_name) #\n",
        "    print(f\"Details for model '{model_name}':\")\n",
        "    print(f\"Model Name: {model_details.name}\")\n",
        "    print(f\"Input Token Limit: {model_details.input_token_limit}\")\n",
        "    print(f\"Output Token Limit: {model_details.output_token_limit}\")\n",
        "except Exception as e:\n",
        "    print(f\"Error retrieving model details for '{model_name}': {e}\")"
      ],
      "metadata": {
        "id": "fVomhgC-t5j1",
        "colab": {
          "base_uri": "https://localhost:8080/"
        },
        "outputId": "db0bddff-76e5-4b79-cfe7-fe8739641161"
      },
      "execution_count": 5,
      "outputs": [
        {
          "output_type": "stream",
          "name": "stdout",
          "text": [
            "Details for model 'models/gemini-2.5-flash-preview-05-20':\n",
            "Model Name: models/gemini-2.5-flash-preview-05-20\n",
            "Input Token Limit: 1048576\n",
            "Output Token Limit: 65536\n"
          ]
        }
      ]
    },
    {
      "cell_type": "code",
      "source": [
        "#step 4: inline image example (smaller, single-use images)\n",
        "\n",
        "import PIL.Image\n",
        "img = PIL.Image.open('/content/geostationaryimage.jpeg')\n",
        "prompt = [\"What is in this picture?\", img]\n",
        "response = client.models.generate_content(\n",
        "    model=model_name,\n",
        "    contents = prompt)\n",
        "print(response.text)"
      ],
      "metadata": {
        "colab": {
          "base_uri": "https://localhost:8080/"
        },
        "id": "lC0mGAjMWrXy",
        "outputId": "623f2448-23d6-4b31-d0a4-8f24668d2574"
      },
      "execution_count": 10,
      "outputs": [
        {
          "output_type": "stream",
          "name": "stdout",
          "text": [
            "This is a picture of **Earth**, viewed from space.\n",
            "\n",
            "You can clearly see the continents of Africa and parts of Europe and Asia, surrounded by oceans and swirling white clouds.\n"
          ]
        }
      ]
    },
    {
      "cell_type": "code",
      "source": [
        "#step 5: File API Image example (for files > 4MB, or needed for multiple references\n",
        "# 1. Upload the file\n",
        "sample_file = client.files.upload(file=\"/content/geostationaryimage.jpeg\")\n",
        "\n",
        "# 2. Include the file in the prompt\n",
        "prompt = [\"Describe this drawing.\", sample_file]\n",
        "response = client.models.generate_content(\n",
        "    model = model_name,\n",
        "    contents = prompt)\n",
        "\n",
        "print(response.text)"
      ],
      "metadata": {
        "colab": {
          "base_uri": "https://localhost:8080/"
        },
        "id": "Xmox_zyOXEZ0",
        "outputId": "3e8ba8d9-26fd-4eee-e125-f70e50560ab4"
      },
      "execution_count": 15,
      "outputs": [
        {
          "output_type": "stream",
          "name": "stdout",
          "text": [
            "This drawing depicts a vibrant, full-disc view of **planet Earth** set against a solid black background, suggesting the vastness of space.\n",
            "\n",
            "Here are the key features:\n",
            "\n",
            "*   **Shape and Background:** The Earth is rendered as a perfect sphere, taking up most of the frame, with the deep black background providing a stark contrast that highlights its features.\n",
            "*   **Continents:**\n",
            "    *   **Africa** is prominently centered, showcasing its diverse terrains from the arid browns of the Sahara Desert in the north to more verdant, darker shades towards the equator and south.\n",
            "    *   **Europe** is visible above Africa, partially obscured by clouds.\n",
            "    *   A portion of **South America** can be seen on the left side of the sphere, with its eastern coastline and some interior landmass.\n",
            "    *   To the right of Africa, parts of the **Arabian Peninsula** are visible, extending into what would be Asia.\n",
            "*   **Oceans:** The vast expanse of the Atlantic Ocean is visible to the west of Africa, appearing dark blue or almost black in places, reflecting the lack of direct sunlight or the deepness of the water. Clouds often obscure parts of the ocean surface.\n",
            "*   **Clouds:** Swirling patterns of bright white clouds cover significant portions of the planet, particularly over the oceans and along coastlines, giving a sense of dynamic weather systems. They appear thick and textured.\n",
            "*   **Colors:** The drawing uses a palette of earthy browns, tans, and dark greens for the landmasses, interspersed with the bright white of the clouds. The oceans are represented by deep blues and blacks. The overall impression is one of high detail and realism, almost like a satellite photograph.\n",
            "*   **Lighting:** The Earth appears to be evenly illuminated from the perspective of the viewer, suggesting a full daylight view of the visible hemisphere. There are subtle shadows and highlights that give the sphere a sense of three-dimensionality.\n",
            "\n",
            "Overall, the drawing presents a highly detailed and realistic portrayal of Earth from space, focusing on the African continent and its surrounding oceans and cloud formations.\n"
          ]
        }
      ]
    },
    {
      "cell_type": "code",
      "source": [
        "# Optional: Delete the file after use\n",
        "client.files.delete(name=sample_file.name)"
      ],
      "metadata": {
        "colab": {
          "base_uri": "https://localhost:8080/"
        },
        "id": "Fahr2NM5Yq1p",
        "outputId": "90a73701-64fe-41b1-e41b-92b8ac1006d8"
      },
      "execution_count": 16,
      "outputs": [
        {
          "output_type": "execute_result",
          "data": {
            "text/plain": [
              "DeleteFileResponse()"
            ]
          },
          "metadata": {},
          "execution_count": 16
        }
      ]
    },
    {
      "cell_type": "code",
      "source": [
        "#step 6: File API video/audio example\n",
        "\n",
        "# 1. Upload video or audio file\n",
        "media_file = client.files.upload(file=\"/content/video.mp4\")\n",
        "\n",
        "# Or: media_file = genai.upload_file(path=\"audio.mp3\", display_name=\"Sample Audio\")\n",
        "\n",
        "# 2. Wait for processing (important for video/audio)\n",
        "while media_file.state.name == \"PROCESSING\":\n",
        "    print('.', end='')\n",
        "    #time.sleep(10) # Check status periodically\n",
        "    media_file = client.files.get(name=media_file.name)\n",
        "if media_file.state.name == \"FAILED\":\n",
        "    raise ValueError(media_file.state.name)\n",
        "\n",
        "# 3. Prompt with the file\n",
        "prompt = [\"Summarize the message in this video.\", media_file]\n",
        "# Or: prompt = [\"Transcribe the first minute of this audio.\", media_file]\n",
        "response = client.models.generate_content(\n",
        "    model = model_name,\n",
        "    contents = prompt)\n",
        "\n",
        "print(response.text)"
      ],
      "metadata": {
        "colab": {
          "base_uri": "https://localhost:8080/"
        },
        "id": "-62rFRT6Yskb",
        "outputId": "1e09d54d-21f4-480d-9606-19a72365cf2c"
      },
      "execution_count": 31,
      "outputs": [
        {
          "output_type": "stream",
          "name": "stdout",
          "text": [
            "....................The speaker describes a \"healthy competitive culture\" where the success of one team motivates and drives other teams to also achieve success.\n"
          ]
        }
      ]
    },
    {
      "cell_type": "code",
      "source": [
        "prompt = [\"Transcribe the first one minute of this audio.\", media_file]\n",
        "response = client.models.generate_content(\n",
        "    model = model_name,\n",
        "    contents = prompt)\n",
        "\n",
        "print(response.text)"
      ],
      "metadata": {
        "colab": {
          "base_uri": "https://localhost:8080/"
        },
        "id": "Bt99ibkEbvig",
        "outputId": "ecdbdacf-3e95-4304-bd0e-7a765507b63b"
      },
      "execution_count": 23,
      "outputs": [
        {
          "output_type": "stream",
          "name": "stdout",
          "text": [
            "They have a very healthy competitive culture where the success of one team starts driving that that motivation to experience success on another team. Um and so they really uh benefit, I think, from that that uh\n"
          ]
        }
      ]
    },
    {
      "cell_type": "code",
      "source": [
        "#step 7: combining modalities\n",
        "prompt = [\n",
        "    \"Describe the differences between these two images.\",\n",
        "    client.files.upload(file=\"/content/tabbycat.jpeg\"), # PIL.Image object or File object\n",
        "    client.files.upload(file=\"/content/calicocat.jpeg\") # PIL.Image object or File object\n",
        "]\n",
        "response = client.models.generate_content(\n",
        "    model = model_name,\n",
        "    contents = prompt)\n",
        "print(response.text)"
      ],
      "metadata": {
        "colab": {
          "base_uri": "https://localhost:8080/"
        },
        "id": "ParD9s5wb_3B",
        "outputId": "b50fef9c-256e-4206-8e09-85db50d7131e"
      },
      "execution_count": 30,
      "outputs": [
        {
          "output_type": "stream",
          "name": "stdout",
          "text": [
            "Here are the differences between the two images:\n",
            "\n",
            "1.  **Cat's Coat Pattern and Color:**\n",
            "    *   **Image 1 (Top):** Features a **tabby cat** with a brown and grey striped (mackerel tabby) coat pattern.\n",
            "    *   **Image 2 (Bottom):** Features a **calico cat** with distinct patches of black, orange/brown, and white fur.\n",
            "\n",
            "2.  **Cat's Pose and Framing:**\n",
            "    *   **Image 1 (Top):** Shows the cat in a full body shot, sitting upright, looking directly at the viewer.\n",
            "    *   **Image 2 (Bottom):** Is a closer-up shot, focusing on the cat's head and upper body, with its head slightly tilted.\n",
            "\n",
            "3.  **Cat's Eye Color:**\n",
            "    *   **Image 1 (Top):** The tabby cat has predominantly green eyes.\n",
            "    *   **Image 2 (Bottom):** The calico cat has more yellowish-green eyes.\n",
            "\n",
            "4.  **Background Environment:**\n",
            "    *   **Image 1 (Top):** The background consists of bare tree branches against a light blue or cloudy sky, possibly indicating a cooler season (winter or early spring) or a specific type of tree. The cat appears to be sitting on a light-colored wall or ledge.\n",
            "    *   **Image 2 (Bottom):** The background is a soft, blurred mix of lush green foliage and some darker tones, suggesting a warmer, more vegetated environment (like a garden) in summer or spring.\n",
            "\n",
            "In summary, while both images depict domestic cats, they are of different coat types, captured in different poses, and set against contrasting natural backgrounds.\n"
          ]
        }
      ]
    }
  ]
}