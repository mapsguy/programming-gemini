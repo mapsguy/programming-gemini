{
  "nbformat": 4,
  "nbformat_minor": 0,
  "metadata": {
    "colab": {
      "provenance": [],
      "include_colab_link": true
    },
    "kernelspec": {
      "name": "python3",
      "display_name": "Python 3"
    },
    "language_info": {
      "name": "python"
    }
  },
  "cells": [
    {
      "cell_type": "markdown",
      "metadata": {
        "id": "view-in-github",
        "colab_type": "text"
      },
      "source": [
        "<a href=\"https://colab.research.google.com/github/mapsguy/programming-gemini/blob/main/choosing_development_playground.ipynb\" target=\"_parent\"><img src=\"https://colab.research.google.com/assets/colab-badge.svg\" alt=\"Open In Colab\"/></a>"
      ]
    },
    {
      "cell_type": "code",
      "execution_count": 29,
      "metadata": {
        "id": "u26puzb3HyT9"
      },
      "outputs": [],
      "source": [
        "#step 1: install/upgrade the latest genai SDK\n",
        "%pip install google-genai --upgrade --quiet"
      ]
    },
    {
      "cell_type": "code",
      "source": [
        "#import the genai library\n",
        "from google import genai"
      ],
      "metadata": {
        "id": "_jqkjaSLSGUB"
      },
      "execution_count": 2,
      "outputs": []
    },
    {
      "cell_type": "code",
      "source": [
        "#step 2: AIStudio: read the api key from the user data\n",
        "from google.colab import userdata\n",
        "client = genai.Client(api_key=userdata.get(\"GEMINI_API_KEY\"))"
      ],
      "metadata": {
        "id": "NRmQ0FpeSSnL"
      },
      "execution_count": 21,
      "outputs": []
    },
    {
      "cell_type": "code",
      "source": [
        "#step 3: Get model details\n",
        "model_name = \"models/gemini-2.5-flash-preview-05-20\"\n",
        "try:\n",
        "    model_details = client.models.get(model=model_name) #\n",
        "    print(f\"Details for model '{model_name}':\")\n",
        "    print(f\"Model Name: {model_details.name}\")\n",
        "    print(f\"Input Token Limit: {model_details.input_token_limit}\")\n",
        "    print(f\"Output Token Limit: {model_details.output_token_limit}\")\n",
        "except Exception as e:\n",
        "    print(f\"Error retrieving model details for '{model_name}': {e}\")"
      ],
      "metadata": {
        "id": "fVomhgC-t5j1",
        "colab": {
          "base_uri": "https://localhost:8080/"
        },
        "outputId": "7797555c-3500-4d7f-e612-686a7bddbb5d"
      },
      "execution_count": 22,
      "outputs": [
        {
          "output_type": "stream",
          "name": "stdout",
          "text": [
            "Details for model 'models/gemini-2.5-flash-preview-05-20':\n",
            "Model Name: models/gemini-2.5-flash-preview-05-20\n",
            "Input Token Limit: 1048576\n",
            "Output Token Limit: 65536\n"
          ]
        }
      ]
    },
    {
      "cell_type": "code",
      "source": [
        "import os\n",
        "\n",
        "# Handle API key carefully by using environmental variables, rather than hard-coding them\n",
        "# If the variable is not set, the Client() call might fail or expect explicit configuration.\n",
        "\n",
        "os.environ[\"GEMINI_API_KEY\"] = userdata.get(\"GEMINI_API_KEY\")"
      ],
      "metadata": {
        "id": "TioCNc4cttoo"
      },
      "execution_count": 26,
      "outputs": []
    },
    {
      "cell_type": "code",
      "source": [
        "#step 4: Generate text content by making an API call\n",
        "model_name = \"models/gemini-2.5-flash-preview-05-20\"\n",
        "response = client.models.generate_content(\n",
        "  model=model_name,\n",
        "  contents=\"Write a short story about a curious cat exploring a new city.\"\n",
        ")\n",
        "print(response.text)"
      ],
      "metadata": {
        "id": "oppq_uJCvhux",
        "colab": {
          "base_uri": "https://localhost:8080/"
        },
        "outputId": "36f9adaf-326a-4414-cb87-9656cf19f61d"
      },
      "execution_count": 27,
      "outputs": [
        {
          "output_type": "stream",
          "name": "stdout",
          "text": [
            "Milo, a sleek black cat with eyes like polished emeralds, felt the world tilt. One moment, he was in a stuffy carrier, the next, a chaotic symphony of sights, sounds, and smells exploded around him. He’d lived his whole life in a quiet house with a garden, but now, his humans had moved him to *this*.\n",
            "\n",
            "He crouched low, hugging the shadows of a towering building. The air vibrated with the rumble of unseen engines, the distant shriek of sirens, and a ceaseless cacophony of human voices. Scents he couldn't name – hot asphalt, exhaust fumes, a strange, sweet smell like burnt sugar – assaulted his sensitive nose. Skyscrapers clawed at the sky, their glass eyes reflecting the dizzying blur of traffic below.\n",
            "\n",
            "A frisson of fear rippled through his sleek black fur, but it was quickly superseded by his defining trait: insatiable curiosity. His whiskers twitched, every fiber of his being vibrating with the need to *know*.\n",
            "\n",
            "He darted across a narrow alleyway, a shadow among shadows, his paws surprisingly silent on the gritty pavement. A flash of grey caught his eye – a pigeon, plump and oblivious, pecking at a forgotten crumb. Milo tensed, his hunter's instinct kicking in, but before he could spring, the pigeon launched itself into the air with a clatter of wings, disappearing over a dumpster. *Fascinating*.\n",
            "\n",
            "Further on, a kaleidoscope of colours spilled from a shop window, rows of bright flowers he’d never seen before. A sudden gush of warm, greasy air from a bakery vent tickled his nose, carrying the intoxicating aroma of melting cheese. He padded closer, his tail held high, contemplating a daring raid, but a gruff voice startled him, and he vanished under a parked car.\n",
            "\n",
            "The city was a labyrinth, a vertical world of endless surfaces. He found a fire escape, its cold metal rungs an invitation. Up he went, agile and fearless, paw over paw, until he reached the second story. From there, he leapt to a dusty window ledge, then to a wider cornice. The higher he climbed, the more the overwhelming noise below softened into a distant hum.\n",
            "\n",
            "He found himself on a rooftop, the vast urban sprawl laid out before him like a glittering, sprawling map. The sun, a tired orange orb, dipped below the jagged skyline, painting the clouds in fiery hues. Lights began to twinkle below – streetlights, car lights, apartment windows like a million scattered gems.\n",
            "\n",
            "This was his new kingdom. No sprawling garden, no familiar trees, but a different kind of wildness. He stretched, surveying his new, overwhelming kingdom, a tiny black silhouette against the vast, illuminated canvas of the city. There were endless alleys to explore, untold rooftops to conquer, and a thousand new smells to discover. Milo settled down, a contented rumble starting deep in his chest. The city was a challenge, yes, but for a curious cat like him, it was also the greatest adventure he could imagine.\n"
          ]
        }
      ]
    },
    {
      "cell_type": "code",
      "source": [
        "#step 5: Make an API call using cURL - quick tests or non-python environments\n",
        "\n",
        "%%bash\n",
        "\n",
        "curl \"https://generativelanguage.googleapis.com/v1beta/models/gemini-2.5-flash-preview-05-20:generateContent?key=$GEMINI_API_KEY\" \\\n",
        "     -H 'Content-Type: application/json' \\\n",
        "     -X POST \\\n",
        "     -d '{\n",
        "      \"contents\": [{\n",
        "        \"parts\":[{\"text\": \"Write a short story about a curious cat exploring a new city.\"}]\n",
        "        }]\n",
        "       }' 2> /dev/null"
      ],
      "metadata": {
        "id": "qJB2D5Obw5zt",
        "colab": {
          "base_uri": "https://localhost:8080/"
        },
        "outputId": "41653065-ec3c-4f89-8773-ffd0d069f366"
      },
      "execution_count": 28,
      "outputs": [
        {
          "output_type": "stream",
          "name": "stdout",
          "text": [
            "{\n",
            "  \"candidates\": [\n",
            "    {\n",
            "      \"content\": {\n",
            "        \"parts\": [\n",
            "          {\n",
            "            \"text\": \"Whiskers, a sleek, obsidian black cat with eyes like polished emeralds, felt the unsettling rumble of the moving truck deep in his bones. For seven years, \\\"home\\\" had been a quiet cottage surrounded by whispering fields. Now, it was a box-filled apartment high up in a building that smelled of dust and unfamiliar human activity.\\n\\nThe moment the front door creaked open, offering a sliver of freedom, Whiskers didn't hesitate. He slipped out, a shadow melting into the bustling hallway. The city hit him immediately – a cacophony of unfamiliar sounds: distant sirens wailing, car horns blaring, the rhythmic clang of a tram, and the ceaseless murmur of human voices.\\n\\nHe ventured down, floor by dizzying floor, until his paws met the rough concrete of the sidewalk. This wasn't soft grass; it was a mosaic of brick and glass, stretching endlessly in every direction. His whiskers twitched, sampling the air. The pungent tang of discarded street food mingled with the sweet exhaust of distant bakeries and the damp earth from a forgotten planter.\\n\\nFirst, he navigated the narrow space between two parked cars, a steel canyon where strange, wheeled beasts roared past. He flattened himself against a cool brick wall as a delivery truck rumbled by, shaking the very ground. Fear was a fleeting thought, quickly replaced by insatiable curiosity.\\n\\nAn alley beckoned, a cool, shadowed vein running between towering buildings. Here, the smells were richer – the metallic tang of rain-washed bins, the faint scent of another cat (a rival? a friend?), and the earthy aroma of overflowing compost. He stalked a plump, oblivious pigeon near a dumpster, his body low, tail twitching, but the bird flapped away at the last second, mocking him with a flurry of feathers.\\n\\nWhiskers found a fire escape, its rusted metal ladder a tempting climb. Up he went, paws silent on the grimy rungs, his muscles rippling with agile grace. From the first landing, he peered into a brightly lit window, watching a human silhouette move about, utterly unaware of the feline observer.\\n\\nHe ascended higher, the wind picking up, ruffling his fur. At the very top, the city unfurled beneath him like a shimmering tapestry. Tiny lights twinkled like fallen stars, cars crawled like luminous beetles, and the distant river was a silver ribbon reflecting the bruised twilight sky. He saw the grand design, the pulsating heart of the metropolis. The constant noise that had once been overwhelming now seemed like a vibrant, living hum.\\n\\nThis was no longer a scary, alien place. From this dizzying height, he saw the interconnectedness of it all – the hidden nooks, the sun-drenched ledges, the intricate network of streets and alleys. He saw the green patch of a park, a small oasis, and recognized a familiar silhouette of his own building from above.\\n\\nA deep purr rumbled in his chest. He descended, tracing his paw steps back through the alley, across the now less intimidating sidewalk, and into the building. He slipped through the momentarily opened door of his apartment, a silent, knowing shadow.\\n\\nCurled on his favorite blanket, the scent of his humans a comforting balm, Whiskers closed his emerald eyes. He had explored, he had seen, and he had understood. This sprawling, vibrant, exhilarating city was now his. He knew its secrets, its smells, and its rhythm. And tomorrow, there would be new alleys to discover, new sunbeams to chase, and perhaps, that pigeon would be a little less lucky.\"\n",
            "          }\n",
            "        ],\n",
            "        \"role\": \"model\"\n",
            "      },\n",
            "      \"finishReason\": \"STOP\",\n",
            "      \"index\": 0\n",
            "    }\n",
            "  ],\n",
            "  \"usageMetadata\": {\n",
            "    \"promptTokenCount\": 13,\n",
            "    \"candidatesTokenCount\": 744,\n",
            "    \"totalTokenCount\": 2064,\n",
            "    \"promptTokensDetails\": [\n",
            "      {\n",
            "        \"modality\": \"TEXT\",\n",
            "        \"tokenCount\": 13\n",
            "      }\n",
            "    ],\n",
            "    \"thoughtsTokenCount\": 1307\n",
            "  },\n",
            "  \"modelVersion\": \"models/gemini-2.5-flash-preview-05-20\",\n",
            "  \"responseId\": \"3vlBaMivDOTB1MkP06HGoA8\"\n",
            "}\n"
          ]
        }
      ]
    }
  ]
}