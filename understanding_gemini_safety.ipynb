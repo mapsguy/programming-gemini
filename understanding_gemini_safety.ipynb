{
  "nbformat": 4,
  "nbformat_minor": 0,
  "metadata": {
    "colab": {
      "provenance": []
    },
    "kernelspec": {
      "name": "python3",
      "display_name": "Python 3"
    },
    "language_info": {
      "name": "python"
    }
  },
  "cells": [
    {
      "cell_type": "code",
      "execution_count": 1,
      "metadata": {
        "id": "u26puzb3HyT9"
      },
      "outputs": [],
      "source": [
        "#step 1: install/upgrade the latest genai SDK\n",
        "%pip install google-genai --upgrade --quiet"
      ]
    },
    {
      "cell_type": "code",
      "source": [
        "#import the genai library\n",
        "from google import genai\n",
        "from google.generativeai.types import HarmCategory, HarmBlockThreshold\n",
        "from google.genai import types"
      ],
      "metadata": {
        "id": "_jqkjaSLSGUB"
      },
      "execution_count": 10,
      "outputs": []
    },
    {
      "cell_type": "code",
      "source": [
        "#step2: AIStudio: read the api key from the user data\n",
        "from google.colab import userdata\n",
        "client = genai.Client(api_key=userdata.get(\"GEMINI_KEY\"))\n",
        "\n",
        "#If you want to read from environment keys\n",
        "#import os\n",
        "#client = genai.Client(api_key=os.environ[\"GEMINI_API_KEY\"])"
      ],
      "metadata": {
        "id": "NRmQ0FpeSSnL"
      },
      "execution_count": 3,
      "outputs": []
    },
    {
      "cell_type": "code",
      "source": [
        "# Ensure genai is configured with your API key\n",
        "model_name='gemini-2.5-flash-preview-04-17'\n",
        "\n",
        "# Example: Stricter settings for Harassment, more lenient for Dangerous Content\n",
        "custom_safety_settings = {\n",
        "    HarmCategory.HARM_CATEGORY_HARASSMENT: HarmBlockThreshold.BLOCK_LOW_AND_ABOVE,\n",
        "    HarmCategory.HARM_CATEGORY_HATE_SPEECH: HarmBlockThreshold.BLOCK_MEDIUM_AND_ABOVE,\n",
        "    HarmCategory.HARM_CATEGORY_SEXUALLY_EXPLICIT: HarmBlockThreshold.BLOCK_MEDIUM_AND_ABOVE,\n",
        "    HarmCategory.HARM_CATEGORY_DANGEROUS_CONTENT: HarmBlockThreshold.BLOCK_ONLY_HIGH,\n",
        "}\n",
        "\n",
        "prompt = \"Tell me about historical anarchist movements.\"\n",
        "response=None\n",
        "try:\n",
        "    response = client.models.generate_content(\n",
        "        model=model_name,\n",
        "        contents=prompt,\n",
        "        config=types.GenerateContentConfig(\n",
        "        safety_settings=[\n",
        "          types.SafetySetting(\n",
        "              category=types.HarmCategory.HARM_CATEGORY_HATE_SPEECH,\n",
        "              threshold=types.HarmBlockThreshold.BLOCK_LOW_AND_ABOVE,\n",
        "          ),\n",
        "        ]\n",
        "      )\n",
        "    )\n",
        "    print(response.text)\n",
        "except Exception as e:\n",
        "    print(f\"Content generation blocked or error: {e}\")\n",
        "    # Check response.prompt_feedback if available for safety ratings"
      ],
      "metadata": {
        "colab": {
          "base_uri": "https://localhost:8080/"
        },
        "id": "7i2ROGcJFTJI",
        "outputId": "01f75df2-678d-4b39-c82d-1f10afc30adf"
      },
      "execution_count": 11,
      "outputs": [
        {
          "output_type": "stream",
          "name": "stdout",
          "text": [
            "Okay, let's delve into the history of anarchist movements. Anarchism, at its core, is a political philosophy and movement that is skeptical of authority and rejects involuntary, coercive forms of hierarchy, particularly the state. Historical anarchist movements sought to create stateless societies based on voluntary association, mutual aid, and direct action.\n",
            "\n",
            "Here's an overview of key periods, figures, and developments:\n",
            "\n",
            "**1. Origins and Early Thought (Early to Mid-19th Century)**\n",
            "\n",
            "*   **Precursors:** While the term \"anarchy\" was used negatively much earlier, early thinkers like **William Godwin** (late 18th century, *Enquiry Concerning Political Justice*) are often cited as philosophical precursors for their critique of government and advocacy for individual liberty and reason.\n",
            "*   **Pierre-Joseph Proudhon:** The first person to explicitly call himself an \"anarchist\" in his 1840 work *What is Property?*. He famously declared \"Property is theft!\" but advocated for a form of non-state socialism based on **mutualism** – reciprocal exchange, workers' cooperatives, and free credit without interest. Proudhon was influential but less focused on revolutionary mass movements.\n",
            "\n",
            "**2. The Birth of the Organized Movement (Mid-Late 19th Century)**\n",
            "\n",
            "*   **The First International (International Workingmen's Association, 1864-1876):** This was a crucial arena for the development of organized anarchism. Anarchists, led by **Mikhail Bakunin**, clashed significantly with the state socialists led by Karl Marx.\n",
            "    *   **Bakunin and Collectivist Anarchism:** Bakunin advocated for the revolutionary overthrow of the state and capitalism, to be replaced by collectives controlled by workers. He believed the state *itself* was the primary instrument of oppression, unlike Marxists who saw it as a tool of the ruling class that would wither away after the revolution. This fundamental disagreement led to the split of the International.\n",
            "*   **Emergence of Anarcho-Communism:** Thinkers like **Peter Kropotkin** developed anarcho-communism, arguing that a post-revolutionary society should be based on free distribution \"to each according to his need,\" rather than wage-based collectivism. Kropotkin also emphasized the importance of **mutual aid** (cooperation within species) as a driving force in evolution and human society, challenging the Social Darwinist view of pure competition.\n",
            "*   **Propaganda by the Deed:** A controversial strategy that emerged during this period, involving individual acts of violence (like assassinations of rulers) intended to ignite revolution by inspiring others or destabilizing the state. While a minority tactic, it led to significant repression and often alienated potential supporters. Key figures sometimes associated include Ravachol and Émile Henry.\n",
            "\n",
            "**3. Geographic Centers and Key Struggles**\n",
            "\n",
            "Anarchism gained significant traction in various parts of the world:\n",
            "\n",
            "*   **Europe:**\n",
            "    *   **Spain:** Arguably the country where anarchism had its deepest and most widespread roots, particularly through the labor movement (see Syndicalism below).\n",
            "    *   **Italy:** Strong anarchist presence with figures like Errico Malatesta.\n",
            "    *   **France:** Important early figures (Proudhon) and later syndicalist movements.\n",
            "    *   **Switzerland, Belgium, Russia:** Significant centers of activity and exile.\n",
            "*   **United States:**\n",
            "    *   Influential individualist anarchists like Benjamin Tucker.\n",
            "    *   Social anarchists involved in the labor movement. **Emma Goldman** and **Alexander Berkman** were prominent figures, advocating for workers' rights, women's liberation, and free speech, often facing state repression.\n",
            "    *   The **Haymarket Affair (1886)** in Chicago, where anarchists were wrongly convicted and executed after a bombing during a labor demonstration, became a cause célèbre and fueled both repression and solidarity.\n",
            "\n",
            "**4. The Peak of Influence (Late 19th Century - Early 20th Century)**\n",
            "\n",
            "*   **Anarcho-Syndicalism:** This became the dominant form of mass anarchist movement. It focused on building revolutionary labor unions (**syndicates**) as the vehicle for social change.\n",
            "    *   **Goals:** Overthrow capitalism and the state through the **general strike**, and organize the post-revolutionary society through workers' control of industry and decentralized federations of unions.\n",
            "    *   **Key Organizations:**\n",
            "        *   **Confederación Nacional del Trabajo (CNT) in Spain:** Mass membership, played a central role in the Spanish Civil War.\n",
            "        *   **Confédération Générale du Travail (CGT) in France:** Early influential syndicalist union.\n",
            "        *   **Industrial Workers of the World (IWW) in the US:** Though not purely anarchist, the \"Wobblies\" incorporated significant syndicalist and anarchist principles of direct action, worker solidarity, and union democracy.\n",
            "*   **The Russian Revolution (1917 onwards):** Anarchists participated in the initial stages but were quickly suppressed by the Bolsheviks, who sought to establish a centralized party-state. Figures like Nestor Makhno led an anarchist army (the Black Army) in Ukraine, fighting against both White counter-revolutionaries and eventually the Bolsheviks, before being defeated. This demonstrated the fundamental conflict between state communism and anarchism.\n",
            "\n",
            "**5. The Spanish Civil War (1936-1939)**\n",
            "\n",
            "*   This conflict represented the most extensive historical attempt to implement anarchist principles on a large scale.\n",
            "*   The **CNT-FAI (Iberian Anarchist Federation)** mobilized militias to resist the fascist coup.\n",
            "*   In large parts of Republican-held Spain, particularly Catalonia and Aragon, anarchists organized **worker and peasant collectives**, implementing self-management of industry and agriculture.\n",
            "*   However, the anarchists were ultimately defeated, caught between the fascist forces, internal divisions within the Republican side, and suppression by the Spanish Communist Party (backed by the Soviet Union), which prioritized state control and viewed the anarchist collectives as a threat.\n",
            "\n",
            "**6. Decline and Continuation (Mid-20th Century Onwards)**\n",
            "\n",
            "*   After the Spanish Civil War and the repression in Russia, the state proved resilient. Anarchist mass movements declined significantly as state power grew (especially after WWII and during the Cold War) and other ideologies like state socialism, social democracy, and fascism dominated the political landscape.\n",
            "*   However, anarchist ideas and smaller groups persisted.\n",
            "*   Anarchism influenced later movements, such as aspects of the counter-culture, anti-war movements, and the Civil Rights Movement (though often in conjunction with other ideologies). The Catholic Worker Movement (founded by **Dorothy Day** and Peter Maurin) is an example of a pacifist, decentralized, service-oriented movement with anarchist leanings.\n",
            "\n",
            "**In Summary:**\n",
            "\n",
            "Historical anarchist movements were diverse, encompassing various philosophical schools (mutualism, collectivism, communism, individualism) and tactical approaches (propaganda by the deed, syndicalism, direct action, mutual aid). They played significant roles in labor struggles, revolutions, and social movements, particularly from the mid-19th century through the Spanish Civil War. While mass movements of anarchism declined in the face of state repression and other political forces, their ideas and principles have continued to influence anti-authoritarian thought and activism to this day.\n"
          ]
        }
      ]
    },
    {
      "cell_type": "code",
      "source": [
        "if response.prompt_feedback and response.prompt_feedback.block_reason:\n",
        "    print(f\"Prompt blocked due to: {response.prompt_feedback.block_reason}\")\n",
        "for candidate in response.candidates:\n",
        "    if candidate.finish_reason != 1: # 1 == STOP\n",
        "         print(f\"Candidate content generation stopped due to: {candidate.finish_reason}\")\n",
        "         print(f\"Safety ratings: {candidate.safety_ratings}\")"
      ],
      "metadata": {
        "colab": {
          "base_uri": "https://localhost:8080/"
        },
        "id": "s0uwh4u6F13u",
        "outputId": "e9568cff-d385-4735-bcdc-01b6c18882bc"
      },
      "execution_count": 12,
      "outputs": [
        {
          "output_type": "stream",
          "name": "stdout",
          "text": [
            "Candidate content generation stopped due to: FinishReason.STOP\n",
            "Safety ratings: None\n"
          ]
        }
      ]
    }
  ]
}