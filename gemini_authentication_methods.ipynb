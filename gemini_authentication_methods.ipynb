{
  "nbformat": 4,
  "nbformat_minor": 0,
  "metadata": {
    "colab": {
      "provenance": [],
      "include_colab_link": true
    },
    "kernelspec": {
      "name": "python3",
      "display_name": "Python 3"
    },
    "language_info": {
      "name": "python"
    }
  },
  "cells": [
    {
      "cell_type": "markdown",
      "metadata": {
        "id": "view-in-github",
        "colab_type": "text"
      },
      "source": [
        "<a href=\"https://colab.research.google.com/github/mapsguy/programming-gemini/blob/main/gemini_authentication_methods.ipynb\" target=\"_parent\"><img src=\"https://colab.research.google.com/assets/colab-badge.svg\" alt=\"Open In Colab\"/></a>"
      ]
    },
    {
      "cell_type": "code",
      "execution_count": 7,
      "metadata": {
        "id": "u26puzb3HyT9"
      },
      "outputs": [],
      "source": [
        "#step 1: install/upgrade the latest genai SDK\n",
        "%pip install google-genai --upgrade --quiet"
      ]
    },
    {
      "cell_type": "code",
      "source": [
        "#import the genai library\n",
        "from google import genai"
      ],
      "metadata": {
        "id": "_jqkjaSLSGUB"
      },
      "execution_count": 2,
      "outputs": []
    },
    {
      "cell_type": "code",
      "source": [
        "from google.colab import userdata"
      ],
      "metadata": {
        "id": "NRmQ0FpeSSnL"
      },
      "execution_count": 3,
      "outputs": []
    },
    {
      "cell_type": "code",
      "source": [
        "#step 2: Storing API keys securely\n",
        "import os\n",
        "\n",
        "# Best practice: Load API key from an environment variable\n",
        "# genai.configure(api_key=\"YOUR_API_KEY\") # Avoid this in production\n",
        "\n",
        "try:\n",
        "    genai.Client(api_key=os.environ['GEMINI_API_KEY'])\n",
        "    print(\"GEMINI_API_KEY environment variable is set.\")\n",
        "except KeyError:\n",
        "    print(\"GEMINI_API_KEY environment variable is not set.\")\n",
        "    # Handle the error appropriately"
      ],
      "metadata": {
        "colab": {
          "base_uri": "https://localhost:8080/"
        },
        "id": "1kD-eMlK2-Zi",
        "outputId": "0f2a99c8-962a-4a26-8ad2-65d5d459ed0b"
      },
      "execution_count": 5,
      "outputs": [
        {
          "output_type": "stream",
          "name": "stdout",
          "text": [
            "GEMINI_API_KEY environment variable is not set.\n"
          ]
        }
      ]
    },
    {
      "cell_type": "code",
      "source": [
        "os.environ[\"GEMINI_API_KEY\"] = userdata.get(\"GEMINI_API_KEY\")\n",
        "\n",
        "try:\n",
        "    genai.Client(api_key=os.environ['GEMINI_API_KEY'])\n",
        "    print(\"GEMINI_API_KEY environment variable is set.\")\n",
        "except KeyError:\n",
        "    print(\"GEMINI_API_KEY environment variable is not set.\")\n",
        "    # Handle the error appropriately"
      ],
      "metadata": {
        "colab": {
          "base_uri": "https://localhost:8080/"
        },
        "id": "3PE-LmJh_Gt7",
        "outputId": "04edee33-a894-4a80-bd91-b8f92fcd5f42"
      },
      "execution_count": 6,
      "outputs": [
        {
          "output_type": "stream",
          "name": "stdout",
          "text": [
            "GEMINI_API_KEY environment variable is set.\n"
          ]
        }
      ]
    },
    {
      "cell_type": "code",
      "source": [
        "#Security methods OAuth 2.0, service account, and ADC require Google Cloud project\n"
      ],
      "metadata": {
        "id": "q4FrzmUL_k1e"
      },
      "execution_count": null,
      "outputs": []
    }
  ]
}