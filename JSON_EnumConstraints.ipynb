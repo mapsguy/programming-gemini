{
  "nbformat": 4,
  "nbformat_minor": 0,
  "metadata": {
    "colab": {
      "provenance": [],
      "include_colab_link": true
    },
    "kernelspec": {
      "name": "python3",
      "display_name": "Python 3"
    },
    "language_info": {
      "name": "python"
    }
  },
  "cells": [
    {
      "cell_type": "markdown",
      "metadata": {
        "id": "view-in-github",
        "colab_type": "text"
      },
      "source": [
        "<a href=\"https://colab.research.google.com/github/mapsguy/programming-gemini/blob/main/JSON_EnumConstraints.ipynb\" target=\"_parent\"><img src=\"https://colab.research.google.com/assets/colab-badge.svg\" alt=\"Open In Colab\"/></a>"
      ]
    },
    {
      "cell_type": "code",
      "execution_count": 53,
      "metadata": {
        "id": "u26puzb3HyT9"
      },
      "outputs": [],
      "source": [
        "#step 1: install/upgrade the latest genai SDK\n",
        "%pip install google-genai --upgrade --quiet"
      ]
    },
    {
      "cell_type": "code",
      "source": [
        "#import the genai library\n",
        "from google import genai"
      ],
      "metadata": {
        "id": "_jqkjaSLSGUB"
      },
      "execution_count": 2,
      "outputs": []
    },
    {
      "cell_type": "code",
      "source": [
        "#step 2: AIStudio: read the api key from the user data\n",
        "from google.colab import userdata\n",
        "client = genai.Client(api_key=userdata.get(\"GEMINI_API_KEY\"))\n",
        "\n",
        "#If you want to read from environment keys\n",
        "#import os\n",
        "#client = genai.Client(api_key=os.environ[\"GEMINI_API_KEY\"])"
      ],
      "metadata": {
        "id": "NRmQ0FpeSSnL"
      },
      "execution_count": 3,
      "outputs": []
    },
    {
      "cell_type": "code",
      "source": [
        "model_name = \"models/gemini-2.5-flash-preview-05-20\""
      ],
      "metadata": {
        "id": "2ueTcR8THdKC"
      },
      "execution_count": 4,
      "outputs": []
    },
    {
      "cell_type": "code",
      "source": [
        "#step 3: ensuring valid JSON output\n",
        "\n",
        "#ensure types import\n",
        "from google.genai import types\n",
        "\n",
        "#set response_mime_type to 'application/json'\n",
        "#provide response_schema: defines JSON output structure\n",
        "\n",
        "response = client.models.generate_content(\n",
        "    model = model_name,\n",
        "    contents = \"Extract the name and quantity of all items mentioned: 3 apples, 10 bananas\",\n",
        "    config={\n",
        "        \"response_mime_type\":\"application/json\",\n",
        "        #response_schema is defined below\n",
        "    }\n",
        ")"
      ],
      "metadata": {
        "id": "i4_yPn2NBpCk"
      },
      "execution_count": 50,
      "outputs": []
    },
    {
      "cell_type": "markdown",
      "source": [
        "Defining the response schema"
      ],
      "metadata": {
        "id": "Kas-NllxDwlL"
      }
    },
    {
      "cell_type": "code",
      "source": [
        "# VERSION 1\n",
        "from google.generativeai.types import HarmCategory, HarmBlockThreshold\n",
        "import google.ai.generativelanguage as glm"
      ],
      "metadata": {
        "id": "QMc0VT-HfMis"
      },
      "execution_count": null,
      "outputs": []
    },
    {
      "cell_type": "code",
      "source": [
        "# VERSION 1: define the schema for individual items\n",
        "item_schema = glm.Schema(\n",
        "    type=glm.Type.OBJECT, #overall type usually OBJECT\n",
        "    #properties has its own schema -> type, description\n",
        "    properties={\n",
        "        'name': glm.Schema(type=glm.Type.STRING, description=\"Name of the item\"),\n",
        "        'quantity': glm.Schema(type=glm.Type.INTEGER, description=\"Quantity of the item\")\n",
        "    },\n",
        "    required=['name', 'quantity'] #a string array that lists property names that must be present\n",
        ")\n",
        "\n",
        "# Define the overall response schema containing a list of items\n",
        "response_schema = glm.Schema(\n",
        "    type=glm.Type.OBJECT, #overall type\n",
        "    properties={\n",
        "        'items': glm.Schema(\n",
        "            type=glm.Type.ARRAY,\n",
        "            description=\"List of items mentioned\",\n",
        "            items=item_schema # used because 'items' type is array; defines schema for array elements\n",
        "        )\n",
        "    }\n",
        ")\n"
      ],
      "metadata": {
        "id": "WWF-_eR6DbBC"
      },
      "execution_count": 21,
      "outputs": []
    },
    {
      "cell_type": "code",
      "source": [
        "# VERSION 2: Defining the schema\n",
        "\n",
        "from pydantic import BaseModel\n",
        "\n",
        "#defining the schema for the individual items\n",
        "class Item(BaseModel):\n",
        "    name: str\n",
        "    quantity: int\n",
        "\n",
        "#defining the schema for the list of items\n",
        "class Response(BaseModel):\n",
        "    items: list[Item]"
      ],
      "metadata": {
        "id": "kogkaRg6MpNO"
      },
      "execution_count": 27,
      "outputs": []
    },
    {
      "cell_type": "code",
      "source": [
        "# VERSION 2: Make the API call with the schema\n",
        "\n",
        "response = client.models.generate_content(\n",
        "    model = model_name,\n",
        "    contents = \"Extract the name and quantity of all items mentioned: 3 apples, 10 bananas, 1 orange\",\n",
        "    config={\n",
        "        \"response_mime_type\":\"application/json\",\n",
        "        \"response_schema\":list[Response],\n",
        "    }\n",
        ")"
      ],
      "metadata": {
        "id": "PxqYft-CD10T"
      },
      "execution_count": 48,
      "outputs": []
    },
    {
      "cell_type": "code",
      "source": [
        "# Parsing the JSON Response\n",
        "import json\n",
        "\n",
        "output_json = json.loads(response.text)\n",
        "print(output_json)\n",
        "# Example Output: {'items': [{'name': 'apples', 'quantity': 3}, {'name': 'bananas', 'quantity': 10}, {'name': 'orange', 'quantity': 1}]}\n"
      ],
      "metadata": {
        "colab": {
          "base_uri": "https://localhost:8080/"
        },
        "id": "Gu_LiU-oEZOw",
        "outputId": "51168042-ac6b-451d-c07e-7a49275d02d5"
      },
      "execution_count": 49,
      "outputs": [
        {
          "output_type": "stream",
          "name": "stdout",
          "text": [
            "[{'items': [{'name': 'apples', 'quantity': 3}, {'name': 'bananas', 'quantity': 10}, {'name': 'orange', 'quantity': 1}]}]\n"
          ]
        }
      ]
    },
    {
      "cell_type": "code",
      "source": [
        "#step 4: enum constrained output: forcing specific choices\n",
        "\n",
        "prompt = \"\"\"\n",
        "Text: This new Gemini feature is amazing!\n",
        "Sentiment:\n",
        "\"\"\"\n",
        "#define enum schema\n",
        "enum_schema = [\"POSITIVE\", \"NEGATIVE\", \"NEUTRAL\"]\n",
        "\n",
        "response = client.models.generate_content(\n",
        "    model = model_name,\n",
        "    contents = prompt,\n",
        "    config={\n",
        "       \"response_mime_type\":\"text/x.enum\",\n",
        "        \"response_schema\" : {\n",
        "            \"type\":\"STRING\",\n",
        "            \"enum\": enum_schema,\n",
        "            },\n",
        "        #candidate_count=1 # Ensure only one candidate is generated\n",
        "    },\n",
        ")\n",
        "\n",
        "print(response.text)\n"
      ],
      "metadata": {
        "colab": {
          "base_uri": "https://localhost:8080/"
        },
        "id": "duDYX5zhIESF",
        "outputId": "791ad44a-6cc9-4210-9747-bde992475137"
      },
      "execution_count": 47,
      "outputs": [
        {
          "output_type": "stream",
          "name": "stdout",
          "text": [
            "POSITIVE\n"
          ]
        }
      ]
    }
  ]
}