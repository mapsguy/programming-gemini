{
  "nbformat": 4,
  "nbformat_minor": 0,
  "metadata": {
    "colab": {
      "provenance": [],
      "include_colab_link": true
    },
    "kernelspec": {
      "name": "python3",
      "display_name": "Python 3"
    },
    "language_info": {
      "name": "python"
    }
  },
  "cells": [
    {
      "cell_type": "markdown",
      "metadata": {
        "id": "view-in-github",
        "colab_type": "text"
      },
      "source": [
        "<a href=\"https://colab.research.google.com/github/mapsguy/programming-gemini/blob/main/JSON_EnumConstraints.ipynb\" target=\"_parent\"><img src=\"https://colab.research.google.com/assets/colab-badge.svg\" alt=\"Open In Colab\"/></a>"
      ]
    },
    {
      "cell_type": "code",
      "execution_count": 2,
      "metadata": {
        "id": "u26puzb3HyT9",
        "outputId": "ba7b93df-a931-4f13-f53b-1e09119ce4c1",
        "colab": {
          "base_uri": "https://localhost:8080/"
        }
      },
      "outputs": [
        {
          "output_type": "stream",
          "name": "stdout",
          "text": [
            "\u001b[?25l   \u001b[90m━━━━━━━━━━━━━━━━━━━━━━━━━━━━━━━━━━━━━━━━\u001b[0m \u001b[32m0.0/200.0 kB\u001b[0m \u001b[31m?\u001b[0m eta \u001b[36m-:--:--\u001b[0m\r\u001b[2K   \u001b[90m━━━━━━━━━━━━━━━━━━━━━━━━━━━━━━━━━━━━━━━━\u001b[0m \u001b[32m200.0/200.0 kB\u001b[0m \u001b[31m13.0 MB/s\u001b[0m eta \u001b[36m0:00:00\u001b[0m\n",
            "\u001b[?25h"
          ]
        }
      ],
      "source": [
        "#step 1: install/upgrade the latest genai SDK\n",
        "%pip install google-genai --upgrade --quiet"
      ]
    },
    {
      "cell_type": "code",
      "source": [
        "#import the genai library\n",
        "from google import genai"
      ],
      "metadata": {
        "id": "_jqkjaSLSGUB"
      },
      "execution_count": 3,
      "outputs": []
    },
    {
      "cell_type": "code",
      "source": [
        "#step 2: AIStudio: read the api key from the user data\n",
        "from google.colab import userdata\n",
        "client = genai.Client(api_key=userdata.get(\"GEMINI_API_KEY\"))\n",
        "\n",
        "#If you want to read from environment keys\n",
        "#import os\n",
        "#client = genai.Client(api_key=os.environ[\"GEMINI_API_KEY\"])"
      ],
      "metadata": {
        "id": "NRmQ0FpeSSnL"
      },
      "execution_count": 4,
      "outputs": []
    },
    {
      "cell_type": "code",
      "source": [
        "model_name = \"models/gemini-2.5-flash-preview-05-20\""
      ],
      "metadata": {
        "id": "2ueTcR8THdKC"
      },
      "execution_count": 5,
      "outputs": []
    },
    {
      "cell_type": "code",
      "source": [
        "#step 3: define the JSON type returned by the model\n",
        "\n",
        "from pydantic import BaseModel\n",
        "#defining the schema for the individual items\n",
        "class Item(BaseModel):\n",
        "    name: str\n",
        "    approx_price_per_unit: float\n",
        "    quantity: int\n",
        "\n",
        "#defining the schema for the list of items\n",
        "class Response(BaseModel):\n",
        "    items: list[Item]"
      ],
      "metadata": {
        "id": "kogkaRg6MpNO"
      },
      "execution_count": 6,
      "outputs": []
    },
    {
      "cell_type": "code",
      "source": [
        "#step 4: call the model\n",
        "\n",
        "#ensure types import\n",
        "from google.genai import types\n",
        "\n",
        "#set response_mime_type to 'application/json'\n",
        "#provide response_schema: defines JSON output structure\n",
        "\n",
        "response = client.models.generate_content(\n",
        "    model = model_name,\n",
        "    contents = \"Extract the name and quantity of all items mentioned: 3 apples, 10 bananas, 1 apple where each costs around 2, 0.5 and 1 dollar each.\",\n",
        "    config={\n",
        "        \"response_mime_type\":\"application/json\",\n",
        "        \"response_schema\":list[Response],\n",
        "    }\n",
        ")"
      ],
      "metadata": {
        "id": "i4_yPn2NBpCk"
      },
      "execution_count": 7,
      "outputs": []
    },
    {
      "cell_type": "code",
      "source": [
        "#Step 5: Parsing the JSON Response\n",
        "import json\n",
        "output_json = json.loads(response.text)\n",
        "print(json.dumps(output_json, indent=2))"
      ],
      "metadata": {
        "colab": {
          "base_uri": "https://localhost:8080/"
        },
        "id": "Gu_LiU-oEZOw",
        "outputId": "9f09b7a1-0fac-4f6a-9071-52bb42594f50"
      },
      "execution_count": 8,
      "outputs": [
        {
          "output_type": "stream",
          "name": "stdout",
          "text": [
            "[\n",
            "  {\n",
            "    \"items\": [\n",
            "      {\n",
            "        \"name\": \"apples\",\n",
            "        \"approx_price_per_unit\": 2,\n",
            "        \"quantity\": 3\n",
            "      },\n",
            "      {\n",
            "        \"name\": \"bananas\",\n",
            "        \"approx_price_per_unit\": 0.5,\n",
            "        \"quantity\": 10\n",
            "      },\n",
            "      {\n",
            "        \"name\": \"apple\",\n",
            "        \"approx_price_per_unit\": 1,\n",
            "        \"quantity\": 1\n",
            "      }\n",
            "    ]\n",
            "  }\n",
            "]\n"
          ]
        }
      ]
    },
    {
      "cell_type": "code",
      "source": [
        "#step 6: enum constrained output: forcing specific choices\n",
        "\n",
        "#ensure enum import\n",
        "import enum\n",
        "\n",
        "#define enum schema\n",
        "class Sentiment(enum.Enum):\n",
        "  POSITIVE = \"Positive\"\n",
        "  NEGATIVE = \"Negative\"\n",
        "  NEUTRAL = \"Neutral\"\n",
        "  UNKNOWN = \"Unknown\"\n",
        "\n",
        "\n",
        "response = client.models.generate_content(\n",
        "    model = model_name,\n",
        "    contents = \"The new movie was awesome!\",\n",
        "    config={\n",
        "       \"response_mime_type\":\"text/x.enum\",\n",
        "        \"response_schema\" : Sentiment,\n",
        "        #alternative way to send enum constraint below\n",
        "        #\"response_schema\" : {\n",
        "        #    \"type\": \"STRING\",\n",
        "        #    \"enum\": [\"Positive\", \"Negative\", \"Neutral\", \"Unknown\"],\n",
        "        #}\n",
        "    },\n",
        ")\n",
        "\n",
        "print(response.text)\n"
      ],
      "metadata": {
        "colab": {
          "base_uri": "https://localhost:8080/"
        },
        "id": "duDYX5zhIESF",
        "outputId": "79230bde-b435-41cc-9982-a4f732f2c70e"
      },
      "execution_count": 41,
      "outputs": [
        {
          "output_type": "stream",
          "name": "stdout",
          "text": [
            "Positive\n"
          ]
        }
      ]
    }
  ]
}