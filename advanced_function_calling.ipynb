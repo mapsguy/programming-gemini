{
  "nbformat": 4,
  "nbformat_minor": 0,
  "metadata": {
    "colab": {
      "provenance": []
    },
    "kernelspec": {
      "name": "python3",
      "display_name": "Python 3"
    },
    "language_info": {
      "name": "python"
    }
  },
  "cells": [
    {
      "cell_type": "code",
      "execution_count": null,
      "metadata": {
        "colab": {
          "base_uri": "https://localhost:8080/"
        },
        "id": "u26puzb3HyT9",
        "outputId": "fe6b79f0-1b94-4df6-a74d-329efc7e5c91"
      },
      "outputs": [
        {
          "output_type": "stream",
          "name": "stdout",
          "text": [
            "\u001b[?25l   \u001b[90m━━━━━━━━━━━━━━━━━━━━━━━━━━━━━━━━━━━━━━━━\u001b[0m \u001b[32m0.0/200.0 kB\u001b[0m \u001b[31m?\u001b[0m eta \u001b[36m-:--:--\u001b[0m\r\u001b[2K   \u001b[90m━━━━━━━━━━━━━━━━━━━━━━━━━━━━━━━━━━━━━━━━\u001b[0m \u001b[32m200.0/200.0 kB\u001b[0m \u001b[31m7.7 MB/s\u001b[0m eta \u001b[36m0:00:00\u001b[0m\n",
            "\u001b[?25h"
          ]
        }
      ],
      "source": [
        "#step 1: install/upgrade the latest genai SDK\n",
        "%pip install google-genai --upgrade --quiet"
      ]
    },
    {
      "cell_type": "code",
      "source": [
        "#import the genai library\n",
        "from google import genai"
      ],
      "metadata": {
        "id": "_jqkjaSLSGUB"
      },
      "execution_count": null,
      "outputs": []
    },
    {
      "cell_type": "code",
      "source": [
        "#step 2: AIStudio: read the api key from the user data\n",
        "from google.colab import userdata\n",
        "client = genai.Client(api_key=userdata.get(\"GEMINI_API_KEY\"))\n",
        "\n",
        "#If you want to read from environment keys\n",
        "#import os\n",
        "#client = genai.Client(api_key=os.environ[\"GEMINI_API_KEY\"])"
      ],
      "metadata": {
        "id": "NRmQ0FpeSSnL"
      },
      "execution_count": null,
      "outputs": []
    },
    {
      "cell_type": "code",
      "source": [
        "#step 3: Get model details\n",
        "model_name = \"models/gemini-2.5-flash-preview-05-20\"\n",
        "try:\n",
        "    model_details = client.models.get(model=model_name) #\n",
        "    print(f\"Details for model '{model_name}':\")\n",
        "    print(f\"Model Name: {model_details.name}\")\n",
        "    print(f\"Input Token Limit: {model_details.input_token_limit}\")\n",
        "    print(f\"Output Token Limit: {model_details.output_token_limit}\")\n",
        "except Exception as e:\n",
        "    print(f\"Error retrieving model details for '{model_name}': {e}\")"
      ],
      "metadata": {
        "id": "fVomhgC-t5j1",
        "colab": {
          "base_uri": "https://localhost:8080/"
        },
        "outputId": "d1afa641-7c4b-456a-fb00-f98156225660"
      },
      "execution_count": null,
      "outputs": [
        {
          "output_type": "stream",
          "name": "stdout",
          "text": [
            "Details for model 'models/gemini-2.5-flash-preview-05-20':\n",
            "Model Name: models/gemini-2.5-flash-preview-05-20\n",
            "Input Token Limit: 1048576\n",
            "Output Token Limit: 65536\n"
          ]
        }
      ]
    },
    {
      "cell_type": "code",
      "source": [
        "def get_weather(location: str) -> dict:\n",
        "  \"\"\"Get the current weather in a specific location.\n",
        "\n",
        "  Args:\n",
        "    location: The city and state, e.g. San Francisco, CA\n",
        "  Returns:\n",
        "    A dictionary containing the weather information.\n",
        "  \"\"\"\n",
        "  # (Implementation of weather fetching logic would go here)\n",
        "  # for now, just returning the value hard coded\n",
        "  return {\"temperature\": \"70F\", \"condition\": \"Sunny\"}\n",
        "\n",
        "# Infer schema from the Python function\n",
        "get_weather_declaration_inferred = genai.types.FunctionDeclaration.from_callable(\n",
        "    callable=get_weather,\n",
        "    client=client\n",
        ")\n",
        "\n",
        "# Create a Tool object containing the inferred function declaration\n",
        "weather_tool = genai.types.Tool(function_declarations=[get_weather_declaration_inferred])"
      ],
      "metadata": {
        "id": "1y0UGRGVrGs9"
      },
      "execution_count": null,
      "outputs": []
    },
    {
      "cell_type": "code",
      "source": [
        "# Step 1: Send user prompt to the model\n",
        "prompt = \"What is the weather in New York City?\"\n",
        "\n",
        "# Use structured content with role and parts\n",
        "contents = [\n",
        "    genai.types.Content(role=\"user\", parts=[genai.types.Part(text=prompt)])\n",
        "]\n",
        "\n",
        "config = genai.types.GenerateContentConfig(tools=[weather_tool])\n",
        "\n",
        "response = client.models.generate_content(\n",
        "    model=model_name,\n",
        "    contents=contents,\n",
        "    config=config\n",
        ")\n",
        "\n",
        "# Step 2: Extract function call\n",
        "function_call_part = response.candidates[0].content.parts[0]  # assumes one part\n",
        "\n",
        "function_name = function_call_part.function_call.name\n",
        "args = function_call_part.function_call.args\n",
        "\n",
        "print(f\"Executing {function_name} with args: {args}\")\n",
        "\n",
        "# Step 3: Simulate API result\n",
        "api_result = {\"status\": \"success\", \"data\": f\"Weather in NYC is sunny\"}  # placeholder\n",
        "\n",
        "# Step 4: Create full conversation history including function call and response\n",
        "conversation = [\n",
        "    genai.types.Content(role=\"user\", parts=[genai.types.Part(text=prompt)]),\n",
        "    genai.types.Content(role=\"model\", parts=[function_call_part]),\n",
        "    genai.types.Content(\n",
        "        role=\"function\",\n",
        "        parts=[\n",
        "            genai.types.Part.from_function_response(\n",
        "                name=function_name,\n",
        "                response=api_result\n",
        "            )\n",
        "        ]\n",
        "    ),\n",
        "]\n",
        "\n",
        "# Step 5: Send full conversation including function response to the model\n",
        "response = client.models.generate_content(\n",
        "    model=model_name,\n",
        "    contents=conversation,\n",
        "    config=config\n",
        ")\n",
        "\n",
        "# Step 6: Get model's final response\n",
        "print(response.text)\n"
      ],
      "metadata": {
        "colab": {
          "base_uri": "https://localhost:8080/"
        },
        "id": "UpjiK3GpDrZk",
        "outputId": "848d4037-822c-40eb-db15-2cb414f6aadc"
      },
      "execution_count": null,
      "outputs": [
        {
          "output_type": "stream",
          "name": "stdout",
          "text": [
            "Executing get_weather with args: {'location': 'New York, New York'}\n",
            "The weather in NYC is sunny.\n"
          ]
        }
      ]
    },
    {
      "cell_type": "code",
      "source": [
        "from google.genai import types\n",
        "\n",
        "# Define a function that the model can call to control smart lights\n",
        "set_light_values_declaration = {\n",
        "    \"name\": \"set_light_values\",\n",
        "    \"description\": \"Sets the brightness and color temperature of a light.\",\n",
        "    \"parameters\": {\n",
        "        \"type\": \"object\",\n",
        "        \"properties\": {\n",
        "            \"brightness\": {\n",
        "                \"type\": \"integer\",\n",
        "                \"description\": \"Light level from 0 to 100. Zero is off and 100 is full brightness\",\n",
        "            },\n",
        "            \"color_temp\": {\n",
        "                \"type\": \"string\",\n",
        "                \"enum\": [\"daylight\", \"cool\", \"warm\"],\n",
        "                \"description\": \"Color temperature of the light fixture, which can be `daylight`, `cool` or `warm`.\",\n",
        "            },\n",
        "        },\n",
        "        \"required\": [\"brightness\", \"color_temp\"],\n",
        "    },\n",
        "}\n",
        "\n",
        "# This is the actual function that would be called based on the model's suggestion\n",
        "def set_light_values(brightness: int, color_temp: str) -> dict[str, int | str]:\n",
        "    \"\"\"Set the brightness and color temperature of a room light. (mock API).\n",
        "\n",
        "    Args:\n",
        "        brightness: Light level from 0 to 100. Zero is off and 100 is full brightness\n",
        "        color_temp: Color temperature of the light fixture, which can be `daylight`, `cool` or `warm`.\n",
        "\n",
        "    Returns:\n",
        "        A dictionary containing the set brightness and color temperature.\n",
        "    \"\"\"\n",
        "    return {\"brightness\": brightness, \"colorTemperature\": color_temp}\n"
      ],
      "metadata": {
        "id": "EhpwiPLNeXVV"
      },
      "execution_count": null,
      "outputs": []
    },
    {
      "cell_type": "code",
      "source": [
        "#declare find_flights and book_hotel functions\n",
        "def find_flights(origin: str, destination: str, departure_date: str, return_date: str) -> dict:\n",
        "    \"\"\"Search for available flights based on origin, destination, and dates.\n",
        "\n",
        "    Args:\n",
        "        origin: Departure city or airport code (e.g., 'JFK')\n",
        "        destination: Arrival city or airport code (e.g., 'LAX')\n",
        "        departure_date: Departure date in YYYY-MM-DD format\n",
        "        return_date: Optional return date in YYYY-MM-DD format\n",
        "\n",
        "    Returns:\n",
        "        A dictionary containing the flight search results.\n",
        "\n",
        "\n",
        "    \"\"\"\n",
        "\n",
        "    #return dummy results for fligts as a list\n",
        "    return [\n",
        "          {\n",
        "              \"airline\": \"Delta\",\n",
        "              \"flight_number\": \"123\",\n",
        "              \"departure_time\": \"12:00\",\n",
        "              \"arrival_time\": \"13:30\",\n",
        "              \"price\": 150.0\n",
        "          },\n",
        "          {\n",
        "              \"airline\": \"United\",\n",
        "              \"flight_number\": \"456\",\n",
        "              \"departure_time\": \"14:00\",\n",
        "              \"arrival_time\": \"15:45\",\n",
        "              \"price\": 200\n",
        "          }\n",
        "\n",
        "    ]\n",
        "\n",
        "def book_hotel(city: str, check_in: str, check_out: str, guests: int) -> dict:\n",
        "    \"\"\"Book a hotel room with city, dates,\n",
        "    and guest count.\n",
        "\n",
        "    Args:\n",
        "        city: City where the hotel is located\n",
        "        check_in: Check-in date in YYYY-MM-DD format\n",
        "        check_out: Check-out date in YYYY-MM-DD format\n",
        "        guests: Number of guests staying\n",
        "\n",
        "    Returns:\n",
        "        A dictionary containing the hotel booking details.\n",
        "    \"\"\"\n",
        "\n",
        "    #return dummy conformation with booking id\n",
        "    return {\"booking_id\": \"123456789\"}\n"
      ],
      "metadata": {
        "id": "VlKVrNlBDUbD"
      },
      "execution_count": null,
      "outputs": []
    },
    {
      "cell_type": "code",
      "source": [
        "#You can inspect the function declarations using the FunctionDeclaration class\n",
        "#But the python SDK automatically does this for you when you use tools list\n",
        "\n",
        "import json\n",
        "from google.genai import types # Ensure types is imported\n",
        "\n",
        "find_flights_declaration = types.FunctionDeclaration.from_callable(\n",
        "    callable = find_flights,\n",
        "    client = client,\n",
        ")\n",
        "\n",
        "book_hotel_declaration = types.FunctionDeclaration.from_callable(\n",
        "    callable = book_hotel,\n",
        "    client = client,\n",
        ")\n",
        "\n",
        "#verify\n",
        "print(json.dumps(find_flights_declaration.to_json_dict(), indent=2))\n",
        "print(json.dumps(book_hotel_declaration.to_json_dict(), indent=2))\n"
      ],
      "metadata": {
        "colab": {
          "base_uri": "https://localhost:8080/"
        },
        "id": "frfD6onoEMyW",
        "outputId": "8458675e-ef43-4115-9652-5d874d20abc6"
      },
      "execution_count": null,
      "outputs": [
        {
          "output_type": "stream",
          "name": "stdout",
          "text": [
            "{\n",
            "  \"description\": \"Search for available flights based on origin, destination, and dates.\\n\\nArgs:\\n    origin: Departure city or airport code (e.g., 'JFK')\\n    destination: Arrival city or airport code (e.g., 'LAX')\\n    departure_date: Departure date in YYYY-MM-DD format\\n    return_date: Optional return date in YYYY-MM-DD format\\n\\nReturns:\\n    A dictionary containing the flight search results.\",\n",
            "  \"name\": \"find_flights\",\n",
            "  \"parameters\": {\n",
            "    \"properties\": {\n",
            "      \"origin\": {\n",
            "        \"type\": \"STRING\"\n",
            "      },\n",
            "      \"destination\": {\n",
            "        \"type\": \"STRING\"\n",
            "      },\n",
            "      \"departure_date\": {\n",
            "        \"type\": \"STRING\"\n",
            "      },\n",
            "      \"return_date\": {\n",
            "        \"type\": \"STRING\"\n",
            "      }\n",
            "    },\n",
            "    \"required\": [\n",
            "      \"origin\",\n",
            "      \"destination\",\n",
            "      \"departure_date\",\n",
            "      \"return_date\"\n",
            "    ],\n",
            "    \"type\": \"OBJECT\"\n",
            "  }\n",
            "}\n",
            "{\n",
            "  \"description\": \"Book a hotel room with city, dates,\\nand guest count.\\n\\nArgs:\\n    city: City where the hotel is located\\n    check_in: Check-in date in YYYY-MM-DD format\\n    check_out: Check-out date in YYYY-MM-DD format\\n    guests: Number of guests staying\\n    \\nReturns:\\n    A dictionary containing the hotel booking details.\",\n",
            "  \"name\": \"book_hotel\",\n",
            "  \"parameters\": {\n",
            "    \"properties\": {\n",
            "      \"city\": {\n",
            "        \"type\": \"STRING\"\n",
            "      },\n",
            "      \"check_in\": {\n",
            "        \"type\": \"STRING\"\n",
            "      },\n",
            "      \"check_out\": {\n",
            "        \"type\": \"STRING\"\n",
            "      },\n",
            "      \"guests\": {\n",
            "        \"type\": \"INTEGER\"\n",
            "      }\n",
            "    },\n",
            "    \"required\": [\n",
            "      \"city\",\n",
            "      \"check_in\",\n",
            "      \"check_out\",\n",
            "      \"guests\"\n",
            "    ],\n",
            "    \"type\": \"OBJECT\"\n",
            "  }\n",
            "}\n"
          ]
        }
      ]
    },
    {
      "cell_type": "code",
      "source": [
        "# Send request with function declarations\n",
        "MANUALLY_CALL_FUNCTIONS = True #Set to True, if you want to manually call functions\n",
        "chat = client.chats.create(\n",
        "    model=model_name,\n",
        "    config= {\n",
        "        \"tools\" : [find_flights, book_hotel],\n",
        "        \"automatic_function_calling\" : {\"disable\": MANUALLY_CALL_FUNCTIONS}\n",
        "    }\n",
        ")\n",
        "\n",
        "response = chat.send_message(\n",
        "    \"Find flights to Paris (CDG) from San Francisco (SFO) leaving SFO on the 13th June, 2025 and returning on the 19th June, 2025; Pick the cheapest flight and then book hotel for 2.\",\n",
        ")\n",
        "\n",
        "print(response.candidates[0].content.parts[0].text)\n",
        "\n",
        "if response.candidates[0].content.parts[0].function_call:\n",
        "  print(response.candidates[0].content.parts[0].function_call)\n"
      ],
      "metadata": {
        "colab": {
          "base_uri": "https://localhost:8080/"
        },
        "collapsed": true,
        "id": "qV1cULe3IWv4",
        "outputId": "a0c405aa-6323-459c-d842-1e34a2e9f0b0"
      },
      "execution_count": null,
      "outputs": [
        {
          "output_type": "stream",
          "name": "stdout",
          "text": [
            "None\n",
            "id=None args={'destination': 'CDG', 'origin': 'SFO', 'return_date': '2025-06-19', 'departure_date': '2025-06-13'} name='find_flights'\n"
          ]
        }
      ]
    }
  ]
}