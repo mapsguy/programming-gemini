{
  "nbformat": 4,
  "nbformat_minor": 0,
  "metadata": {
    "colab": {
      "provenance": [],
      "include_colab_link": true
    },
    "kernelspec": {
      "name": "python3",
      "display_name": "Python 3"
    },
    "language_info": {
      "name": "python"
    }
  },
  "cells": [
    {
      "cell_type": "markdown",
      "metadata": {
        "id": "view-in-github",
        "colab_type": "text"
      },
      "source": [
        "<a href=\"https://colab.research.google.com/github/mapsguy/programming-gemini/blob/main/documents_and_pdfs.ipynb\" target=\"_parent\"><img src=\"https://colab.research.google.com/assets/colab-badge.svg\" alt=\"Open In Colab\"/></a>"
      ]
    },
    {
      "cell_type": "code",
      "execution_count": 17,
      "metadata": {
        "id": "u26puzb3HyT9"
      },
      "outputs": [],
      "source": [
        "#step 1: install/upgrade the latest genai SDK\n",
        "%pip install google-genai --upgrade --quiet"
      ]
    },
    {
      "cell_type": "code",
      "source": [
        "#import the genai library\n",
        "from google import genai"
      ],
      "metadata": {
        "id": "_jqkjaSLSGUB"
      },
      "execution_count": 2,
      "outputs": []
    },
    {
      "cell_type": "code",
      "source": [
        "#step 2: AIStudio: read the api key from the user data\n",
        "from google.colab import userdata\n",
        "client = genai.Client(api_key=userdata.get(\"GEMINI_API_KEY\"))\n",
        "\n",
        "#If you want to read from environment keys\n",
        "#import os\n",
        "#client = genai.Client(api_key=os.environ[\"GEMINI_API_KEY\"])"
      ],
      "metadata": {
        "id": "NRmQ0FpeSSnL"
      },
      "execution_count": 3,
      "outputs": []
    },
    {
      "cell_type": "code",
      "source": [
        "model_name = \"models/gemini-2.5-flash-preview-05-20\""
      ],
      "metadata": {
        "id": "fVomhgC-t5j1"
      },
      "execution_count": 5,
      "outputs": []
    },
    {
      "cell_type": "code",
      "source": [
        "#step 3: Upload your file\n",
        "\n",
        "myfile = client.files.upload(file='/content/Verho Lab Report (1).pdf')\n",
        "\n",
        "#myfile.uri is crucial for subsequent prompting\n",
        "print(f\"Uploaded file: {myfile.name} as {myfile.uri}\")"
      ],
      "metadata": {
        "id": "4uAcNyjbuORB",
        "colab": {
          "base_uri": "https://localhost:8080/"
        },
        "outputId": "954a56e1-e2fb-4c07-a50a-5f5c60a9839f"
      },
      "execution_count": 7,
      "outputs": [
        {
          "output_type": "stream",
          "name": "stdout",
          "text": [
            "Uploaded file: files/xpc9jbdxxbr5 as https://generativelanguage.googleapis.com/v1beta/files/xpc9jbdxxbr5\n"
          ]
        }
      ]
    },
    {
      "cell_type": "code",
      "source": [
        "#step 4: Summarize a pdf\n",
        "\n",
        "# Ensure pdf_file is the result from genai.upload_file()\n",
        "\n",
        "prompt = [\n",
        "    \"Please summarize this document.\",\n",
        "    myfile # Include the uploaded file object directly\n",
        "]\n",
        "\n",
        "response = client.models.generate_content(\n",
        "    model=model_name,\n",
        "    contents=prompt)\n",
        "\n",
        "print(response.text)\n"
      ],
      "metadata": {
        "colab": {
          "base_uri": "https://localhost:8080/"
        },
        "id": "j07qB93E7l6N",
        "outputId": "7b3f8b5b-98f2-4e70-a5b0-28560dccdd43"
      },
      "execution_count": 13,
      "outputs": [
        {
          "output_type": "stream",
          "name": "stdout",
          "text": [
            "This report details an experiment investigating electric field and voltage distribution on a 28 cm x 20 cm conducting paper sheet, comparing empirical measurements to theoretical models. The study explored two scenarios: an unmodified sheet and one with four cut-out insulators. Voltage measurements were taken at various points to generate visualizations of voltage distribution, electric fields, and charge density.\n",
            "\n",
            "The experimental findings for the unmodified paper generally corroborated theoretical predictions, exhibiting smooth voltage gradients. However, observed deviations—such as warped voltage distributions near edges and non-uniform electric field vectors—were attributed to measurement errors and environmental factors like uneven paper conductivity.\n",
            "\n",
            "A key finding was that the introduction of insulators significantly disrupted the voltage and electric field distributions, creating steep local gradients and localized distortions that the initial theoretical models did not account for. Residual analysis further confirmed that while theoretical models provided a good approximation in unaltered regions, they struggled to accurately capture phenomena near boundaries and insulators.\n",
            "\n",
            "The experiment successfully derived a refined \"Vbetter\" theoretical model for the specific setup and highlighted both the utility of theoretical models for understanding general behavior and their shortcomings in precisely predicting real-world experimental complexities, especially in the presence of perturbations like insulators. Future work is proposed to develop a theoretical model that incorporates the effects of insulators.\n"
          ]
        }
      ]
    },
    {
      "cell_type": "code",
      "source": [
        "#step 5: asking specific questions about the content (text and visuals within the pdf)\n",
        "\n",
        "prompt = [\n",
        "    \"What is Figure 1 on page 3 showing the reader?\",\n",
        "    \"What is Equation 12 on page 4 trying to explain?\",\n",
        "    \"How do Figure 9 on page 8 and Figure 11 on page 10 relate to each other?\",\n",
        "    myfile\n",
        "]\n",
        "response = client.models.generate_content(\n",
        "    model=model_name,\n",
        "    contents=prompt)\n",
        "print(response.text)\n"
      ],
      "metadata": {
        "colab": {
          "base_uri": "https://localhost:8080/"
        },
        "id": "_jYb70M38G3n",
        "outputId": "dda9c10d-5b70-41f6-b57b-c442da9fd628"
      },
      "execution_count": 14,
      "outputs": [
        {
          "output_type": "stream",
          "name": "stdout",
          "text": [
            "Here's an analysis of the figures and equation you asked about:\n",
            "\n",
            "1.  **Figure 1 on page 3:**\n",
            "    Figure 1 is a diagram of the 2D sheet of conducting paper. It shows how the source charge from the power supply is treated as a **line charge** when developing the more accurate theoretical voltage model, Vbetter.\n",
            "\n",
            "2.  **Equation 12 on page 4:**\n",
            "    Equation 12 presents the final mathematical expression for the **Vbetter theoretical voltage model** for an infinite line of charge, adapted for the 2D sheet of conducting paper. It explains how the voltage (Vbetter) at any point (x, y) on the paper is calculated based on constants (k, λ, C) and the distances (r+ and r-) from two effective line charges, derived from the original derivation on page 2 and 3 that treats the power supply as a line of charge.\n",
            "\n",
            "3.  **How Figure 9 on page 8 and Figure 11 on page 10 relate to each other:**\n",
            "    Figure 9 and Figure 11 both display the **measured voltage when an insulator is added** to the conducting paper.\n",
            "    *   **Figure 9** is a **2D contour plot** that uses color gradients (e.g., purple rectangles for extremely low voltage) to show the voltage distribution and steep decreases near the insulator edges.\n",
            "    *   **Figure 11** is a **3D plot** that provides a topographical view of the same measured voltage data. It visually represents the \"sharp drops\" and \"dent-like patterns\" in voltage within the four cut-out regions (where the insulators were added) that correspond to the low voltage areas shown in Figure 9. Essentially, Figure 11 offers a three-dimensional visualization of the voltage landscape, showing the depth of the voltage changes that Figure 9 represents with contours and colors.\n"
          ]
        }
      ]
    },
    {
      "cell_type": "code",
      "source": [
        "#Information extraction\n",
        "prompt = [\n",
        "    \"Extract the names of the authors in the cited textbook.\",\n",
        "    \"Also, list any key errors present in the experimental setup.\",\n",
        "    myfile\n",
        "]\n",
        "response = client.models.generate_content(\n",
        "    model=model_name,\n",
        "    contents=prompt)\n",
        "\n",
        "print(response.text)\n"
      ],
      "metadata": {
        "colab": {
          "base_uri": "https://localhost:8080/"
        },
        "id": "W2hIQdVY9POU",
        "outputId": "04ae85c5-86e5-4e6e-9c6b-e8183e77fbbb"
      },
      "execution_count": 16,
      "outputs": [
        {
          "output_type": "stream",
          "name": "stdout",
          "text": [
            "**Authors of the Cited Textbook:**\n",
            "\n",
            "The authors of the cited textbook, \"Fundamental of Physics,\" are:\n",
            "*   Halliday, D.\n",
            "*   Resnick, R.\n",
            "*   Walker, J.\n",
            "\n",
            "**Key Errors Present in the Experimental Setup:**\n",
            "\n",
            "Based on the provided text, the following key errors or limitations were present in the experimental setup and data collection:\n",
            "\n",
            "1.  **Inconsistent Measurements between Group Members:** Fluctuations in measured values were observed when different group members attempted to take measurements, leading to one member taking all measurements for the modified sheet.\n",
            "2.  **Incomplete Data Collection:** Due to time constraints, voltage values could not be collected for all (x,y) points past the x = 20 cm mark for the modified sheet.\n",
            "3.  **Measurement Errors from Probe Use:** A rapid decrease in voltage magnitude observed in the middle of the unmodified sheet was attributed to \"a measurement error caused by use of the probe.\" This implies inconsistencies in how the probe was applied or read.\n",
            "4.  **Uneven Surface for Conducting Sheet:** Voltage fluctuations, particularly near the sheet's edges and resulting in a \"wavy surface\" in 3D plots, were potentially caused by \"the placement of the conducting sheet on an uneven surface.\"\n",
            "5.  **Non-Uniform Paper Conductivity:** Variations in the orientation of electric field vector arrows in the experimental data (Figure 7) could be attributed to \"non-uniform paper conductivity.\"\n",
            "6.  **External Environmental Factors:** The report generally mentions \"external environmental factors\" as having a \"considerable impact on our experimental results,\" contributing to variations in voltage distribution.\n"
          ]
        }
      ]
    }
  ]
}