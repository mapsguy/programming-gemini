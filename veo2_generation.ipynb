{
  "nbformat": 4,
  "nbformat_minor": 0,
  "metadata": {
    "colab": {
      "provenance": [],
      "include_colab_link": true
    },
    "kernelspec": {
      "name": "python3",
      "display_name": "Python 3"
    },
    "language_info": {
      "name": "python"
    }
  },
  "cells": [
    {
      "cell_type": "markdown",
      "metadata": {
        "id": "view-in-github",
        "colab_type": "text"
      },
      "source": [
        "<a href=\"https://colab.research.google.com/github/mapsguy/programming-gemini/blob/main/veo2_generation.ipynb\" target=\"_parent\"><img src=\"https://colab.research.google.com/assets/colab-badge.svg\" alt=\"Open In Colab\"/></a>"
      ]
    },
    {
      "cell_type": "code",
      "source": [
        "#import the genai library\n",
        "from google import genai"
      ],
      "metadata": {
        "id": "_jqkjaSLSGUB"
      },
      "execution_count": 3,
      "outputs": []
    },
    {
      "cell_type": "code",
      "source": [
        "#step 2: AIStudio: read the api key from the user data\n",
        "from google.colab import userdata\n",
        "client = genai.Client(api_key=userdata.get(\"GEMINI_API_KEY\"))\n",
        "\n",
        "#If you want to read from environment keys\n",
        "#import os\n",
        "#client = genai.Client(api_key=os.environ[\"GEMINI_API_KEY\"])"
      ],
      "metadata": {
        "id": "NRmQ0FpeSSnL"
      },
      "execution_count": 2,
      "outputs": []
    },
    {
      "cell_type": "code",
      "source": [
        "import time\n",
        "from google.genai import types"
      ],
      "metadata": {
        "id": "ykze0KkJwZYT"
      },
      "execution_count": 5,
      "outputs": []
    },
    {
      "cell_type": "markdown",
      "source": [
        "Text to Video Generation"
      ],
      "metadata": {
        "id": "sBu-vJ73RR_Y"
      }
    },
    {
      "cell_type": "code",
      "source": [
        "#I can't run this\n",
        "\n",
        "prompt_text = \"A majestic eagle soaring through a canyon at sunset, cinematic lighting.\"\n",
        "\n",
        "gen_config = types.GenerateVideosConfig(\n",
        "    duration_seconds=10.0,\n",
        "    #style_preset=\"STYLE_PRESET_CINEMATIC\"\n",
        ")\n",
        "\n",
        "try:\n",
        "    video_operation = client.models.generate_videos(\n",
        "        model=\"veo-2.0-generate-001\", # Use the appropriate Veo model identifier\n",
        "        prompt=prompt_text,\n",
        "        config=gen_config\n",
        "    )\n",
        "    print(f\"Video generation started. Operation ID: {video_operation.operation.name}\")\n",
        "\n",
        "    print(\"Polling for completion...\")\n",
        "    while not video_operation.done():\n",
        "        print(\"Waiting for 10 seconds...\")\n",
        "        time.sleep(10)\n",
        "        video_operation = client.operations.get(video_operation)\n",
        "        # You can also refresh the operation state if needed,\n",
        "        # though the object often updates itself or has methods to wait.\n",
        "        # For explicit polling, refer to the specific Operation object's methods.\n",
        "\n",
        "    #download the video\n",
        "    for n, generated_video in enumerate(video_operation.response.generated_videos):\n",
        "      client.files.download(file=generated_video.video)\n",
        "      generated_video.video.save(f\"video{n}.mp4\")  # save the video\n",
        "\n",
        "\n",
        "\n",
        "except Exception as e:\n",
        "    print(f\"An error occurred: {e}\")"
      ],
      "metadata": {
        "id": "3uDwDUoSNLMy"
      },
      "execution_count": null,
      "outputs": []
    },
    {
      "cell_type": "code",
      "source": [
        "#display the video\n",
        "from IPython.display import Video\n",
        "\n",
        "Video(\"video-path.mp4\", embed=True)"
      ],
      "metadata": {
        "id": "blApw4SIQp33"
      },
      "execution_count": null,
      "outputs": []
    },
    {
      "cell_type": "markdown",
      "source": [
        "Image to Video Generation: Combining Imagen 3 and Veo Use"
      ],
      "metadata": {
        "id": "qsesESrQRXO1"
      }
    },
    {
      "cell_type": "code",
      "source": [
        "#Not able to test this\n",
        "\n",
        "#provide an initial image and a prompt to create a video sequence\n",
        "\n",
        "#prompt for initial image\n",
        "prompt_for_image = \"A landscape, with clouds slowly drifting and subtle light changes.\"\n",
        "\n",
        "image_config=types.GenerateImagesConfig(\n",
        "    number_of_images=1,\n",
        "    aspect_ratio=\"1:1\"\n",
        ")\n",
        "\n",
        "imagen = client.models.generate_images(\n",
        "    model=\"imagen-3.0-generate-002\",\n",
        "    prompt=prompt_for_image,\n",
        "    config=image_config\n",
        ")\n",
        "\n",
        "image_gcs_uri = imagen.images[0].gcs_uri\n",
        "\n",
        "prompt_for_video=\"Animate this landscape, with clouds slowly drifting and subtle light changes.\"\n",
        "\n",
        "vid_config=types.GenerateVideosConfig(\n",
        "    duration_seconds=8.0,\n",
        "    #style_preset=\"STYLE_PRESET_DIGITAL_ART\",\n",
        "    number_of_videos=2,\n",
        "    person_generation=\"dont_allow\"\n",
        ")"
      ],
      "metadata": {
        "id": "zydXoFk3RaC-"
      },
      "execution_count": null,
      "outputs": []
    },
    {
      "cell_type": "code",
      "source": [
        "#not able to test\n",
        "\n",
        "try:\n",
        "    video_operation_img = client.models.generate_videos(\n",
        "        model=\"imagen-3.0-generate-002\",\n",
        "        prompt=prompt_for_video,\n",
        "        image=imagen.generated_images[0].image,\n",
        "        config=vid_config\n",
        "        #image_gcs_uri=image_gcs_uri\n",
        "    )\n",
        "\n",
        "    print(f\"Image-to-video generation started. Operation ID: {video_operation_img.operation.name}\")\n",
        "\n",
        "    while not video_operation_img.done():\n",
        "        time.sleep(10)\n",
        "        video_operation_img = client.operations.get(video_operation_img)\n",
        "\n",
        "    for n, video in enumerate(video_operation_img.response.generated_videos):\n",
        "      fname = f'with_image_input{n}.mp4'\n",
        "      print(fname)\n",
        "      client.files.download(file=video.video)\n",
        "      video.video.save(fname)\n",
        "      print(f\"Generated video from image URI: {image_gcs_uri}\")\n",
        "\n",
        "except Exception as e:\n",
        "    print(f\"An error occurred during image-to-video generation: {e}\")"
      ],
      "metadata": {
        "id": "KDA5SmyrXF2B"
      },
      "execution_count": null,
      "outputs": []
    }
  ]
}