{
  "nbformat": 4,
  "nbformat_minor": 0,
  "metadata": {
    "colab": {
      "provenance": [],
      "include_colab_link": true
    },
    "kernelspec": {
      "name": "python3",
      "display_name": "Python 3"
    },
    "language_info": {
      "name": "python"
    }
  },
  "cells": [
    {
      "cell_type": "markdown",
      "metadata": {
        "id": "view-in-github",
        "colab_type": "text"
      },
      "source": [
        "<a href=\"https://colab.research.google.com/github/mapsguy/programming-gemini/blob/main/basic_prompting_techniques.ipynb\" target=\"_parent\"><img src=\"https://colab.research.google.com/assets/colab-badge.svg\" alt=\"Open In Colab\"/></a>"
      ]
    },
    {
      "cell_type": "code",
      "execution_count": 2,
      "metadata": {
        "colab": {
          "base_uri": "https://localhost:8080/"
        },
        "id": "u26puzb3HyT9",
        "outputId": "303ec711-9fa9-408a-91aa-967b7c6c524b"
      },
      "outputs": [
        {
          "output_type": "stream",
          "name": "stdout",
          "text": [
            "\u001b[?25l   \u001b[90m━━━━━━━━━━━━━━━━━━━━━━━━━━━━━━━━━━━━━━━━\u001b[0m \u001b[32m0.0/199.5 kB\u001b[0m \u001b[31m?\u001b[0m eta \u001b[36m-:--:--\u001b[0m\r\u001b[2K   \u001b[90m━━━━━━━━━━━━━━━━━━━━━━━━━━━━━━━━━━━━━━━━\u001b[0m \u001b[32m199.5/199.5 kB\u001b[0m \u001b[31m6.7 MB/s\u001b[0m eta \u001b[36m0:00:00\u001b[0m\n",
            "\u001b[?25h"
          ]
        }
      ],
      "source": [
        "#step 1: install/upgrade the latest genai SDK\n",
        "%pip install google-genai --upgrade --quiet"
      ]
    },
    {
      "cell_type": "code",
      "source": [
        "#import the genai library\n",
        "from google import genai"
      ],
      "metadata": {
        "id": "_jqkjaSLSGUB"
      },
      "execution_count": 3,
      "outputs": []
    },
    {
      "cell_type": "code",
      "source": [
        "#step2: AIStudio: read the api key from the user data\n",
        "from google.colab import userdata\n",
        "client = genai.Client(api_key=userdata.get(\"GEMINI_API_KEY\"))\n",
        "\n",
        "#If you want to read from environment keys\n",
        "#import os\n",
        "#client = genai.Client(api_key=os.environ[\"GEMINI_API_KEY\"])"
      ],
      "metadata": {
        "id": "NRmQ0FpeSSnL"
      },
      "execution_count": 4,
      "outputs": []
    },
    {
      "cell_type": "code",
      "source": [
        "#step3: test your access by listing the models\n",
        "print(\"All Base Model Details:\")\n",
        "# Iterate through each model and print the full object\n",
        "for model in client.models.list(config={'query_base': True}): #\n",
        "    print(model)\n",
        "    # You can also access specific attributes, e.g.:\n",
        "    print(f\"Name: {model.name}\") #\n",
        "    print(f\"Display Name: {model.display_name}\") #\n",
        "    print(f\"Supported Actions: {model.supported_actions}\") #\n",
        "    print(f\"Endpoints: {model.endpoints}\") #\n",
        "    print(\"-\" * 30)\n",
        "\n",
        "print(\"\\nAll Tuned Model Details:\")\n",
        "for model in client.models.list(config={'query_base': False}): #\n",
        "    print(model)\n",
        "    print(f\"Name: {model.name}\") #\n",
        "    print(f\"Tuned Model Info: {model.tuned_model_info}\") #\n",
        "    print(\"-\" * 30)"
      ],
      "metadata": {
        "id": "tjguGPO0WDDc"
      },
      "execution_count": null,
      "outputs": []
    },
    {
      "cell_type": "code",
      "source": [
        "#step 4: Get model details\n",
        "model_name = \"models/gemini-2.5-flash-preview-05-20\"\n",
        "try:\n",
        "    model_details = client.models.get(model=model_name) #\n",
        "    print(f\"Details for model '{model_name}':\")\n",
        "    print(f\"Model Name: {model_details.name}\")\n",
        "    print(f\"Input Token Limit: {model_details.input_token_limit}\")\n",
        "    print(f\"Output Token Limit: {model_details.output_token_limit}\")\n",
        "except Exception as e:\n",
        "    print(f\"Error retrieving model details for '{model_name}': {e}\")"
      ],
      "metadata": {
        "id": "fVomhgC-t5j1",
        "colab": {
          "base_uri": "https://localhost:8080/"
        },
        "outputId": "35a9e19e-c81f-4ad0-b670-14e489b53203"
      },
      "execution_count": 6,
      "outputs": [
        {
          "output_type": "stream",
          "name": "stdout",
          "text": [
            "Details for model 'models/gemini-2.5-flash-preview-05-20':\n",
            "Model Name: models/gemini-2.5-flash-preview-05-20\n",
            "Input Token Limit: 1048576\n",
            "Output Token Limit: 65536\n"
          ]
        }
      ]
    },
    {
      "cell_type": "code",
      "source": [
        "#step 5: few shot prompt\n",
        "prompt = \"\"\"\n",
        "Input: This movie was fantastic!\n",
        "Output: Positive\n",
        "\n",
        "Input: I was really disappointed with the service.\n",
        "Output: Negative\n",
        "\n",
        "Input: The weather is okay today.\n",
        "Output: Neutral\n",
        "\n",
        "Input: That concert was absolutely incredible!\n",
        "Output: ?\n",
        "\"\"\"\n",
        "model_name = \"models/gemini-2.5-flash-preview-05-20\"\n",
        "response = client.models.generate_content(\n",
        "  model=model_name,\n",
        "  contents=prompt\n",
        ")\n",
        "print(response.text)"
      ],
      "metadata": {
        "id": "oppq_uJCvhux",
        "colab": {
          "base_uri": "https://localhost:8080/"
        },
        "outputId": "45184233-0c1c-49e0-f121-a22236ebfe1c"
      },
      "execution_count": 7,
      "outputs": [
        {
          "output_type": "stream",
          "name": "stdout",
          "text": [
            "Positive\n"
          ]
        }
      ]
    },
    {
      "cell_type": "code",
      "source": [
        "#step 6: zero-shot prompting\n",
        "prompt = \"Translate 'hello world' into French.\"\n",
        "model_name = \"models/gemini-2.5-flash-preview-05-20\"\n",
        "response = client.models.generate_content(\n",
        "  model=model_name,\n",
        "  contents=prompt\n",
        ")\n",
        "print(response.text)"
      ],
      "metadata": {
        "colab": {
          "base_uri": "https://localhost:8080/"
        },
        "id": "8a8Q1GS1eBIU",
        "outputId": "1ef0732a-3002-4b9e-a1db-8be4068f6163"
      },
      "execution_count": 9,
      "outputs": [
        {
          "output_type": "stream",
          "name": "stdout",
          "text": [
            "The most common and direct translation of \"hello world\" into French, especially in a programming context, is:\n",
            "\n",
            "**Bonjour le monde**\n"
          ]
        }
      ]
    },
    {
      "cell_type": "code",
      "source": [
        "#step 7: system instructions\n",
        "from google.genai.types import GenerateContentConfig, HttpOptions\n",
        "\n",
        "prompt = \"Explain what Gauss' Law is.\"\n",
        "model_name = \"models/gemini-2.5-flash-preview-05-20\"\n",
        "response = client.models.generate_content(\n",
        "  model=model_name,\n",
        "  contents=prompt,\n",
        "  config = GenerateContentConfig(\n",
        "        system_instruction=[\n",
        "            \"You are a helpful assistant that translates technical jargon into plain English. Maintain a friendly and encouraging tone.\",\n",
        "        ]\n",
        "    ),\n",
        ")\n",
        "print(response.text)"
      ],
      "metadata": {
        "colab": {
          "base_uri": "https://localhost:8080/"
        },
        "id": "nrx6tTFJMUen",
        "outputId": "c9254802-2d2b-43a3-9187-d5aa3ee61c27"
      },
      "execution_count": 10,
      "outputs": [
        {
          "output_type": "stream",
          "name": "stdout",
          "text": [
            "Hey there! No worries, \"Gauss's Law\" sounds super technical, but it's actually a pretty elegant and intuitive idea once we break it down.\n",
            "\n",
            "Think of Gauss's Law as a really clever shortcut or a fundamental rule about **how electric fields behave around electric charges.**\n",
            "\n",
            "Here's the plain English version:\n",
            "\n",
            "### Gauss's Law: The \"Source Counting\" Rule\n",
            "\n",
            "Imagine you have some electric charges (like tiny positive or negative points). These charges create an invisible \"influence\" around them called an **electric field**. You can think of electric field lines as imaginary arrows showing the direction and strength of this influence radiating out from positive charges and into negative charges.\n",
            "\n",
            "Gauss's Law essentially says:\n",
            "\n",
            "**\"If you draw any imaginary closed bubble or surface around *anything*, the total 'amount' of electric field lines poking through that surface depends *only* on the total electric charge *trapped inside* that bubble, and absolutely nothing else.\"**\n",
            "\n",
            "Let's unpack that a bit:\n",
            "\n",
            "1.  **\"Imaginary Closed Bubble/Surface\":** This is called a \"Gaussian surface.\" It's just a theoretical boundary you draw in your mind (or on paper) to help analyze the situation. It could be a sphere, a cube, a cylinder – whatever is convenient.\n",
            "2.  **\"Amount of Electric Field Lines Poking Through\":** This is the fancy term called **Electric Flux**. Imagine a net. If you put that net in a river, the \"flux\" would be how much water flows through it. Here, it's how much electric field \"flows\" or passes through your imaginary surface.\n",
            "3.  **\"Depends *Only* on the Total Electric Charge *Trapped Inside*\":** This is the core magic!\n",
            "    *   If you have a big positive charge inside your bubble, lots of electric field lines will be pushing *out* through the surface.\n",
            "    *   If you have a big negative charge inside, lots of electric field lines will be pulling *in* through the surface.\n",
            "    *   If there's no charge inside, then no matter how crazy the electric fields might be *outside* your bubble, the *net* amount of field lines going in will exactly equal the net amount coming out, so the total \"flux\" through the surface is zero.\n",
            "    *   And here's the kicker: the *shape* of your bubble doesn't matter! A sphere enclosing a charge will have the same total flux as a weird potato-shaped surface enclosing the *same* charge.\n",
            "\n",
            "### An Analogy to Make it Stick: The Light Bulb in a Room\n",
            "\n",
            "Imagine you're in a completely dark room, and you have a light bulb (your electric charge) somewhere inside.\n",
            "\n",
            "*   **The Light Bulb:** This is your **electric charge** (the source of the electric field).\n",
            "*   **The Light Shining Out:** This is the **electric field** radiating from the bulb.\n",
            "*   **The Walls of the Room:** This is your **Gaussian surface** (the imaginary bubble).\n",
            "*   **How Much Light Hits the Walls:** This is your **Electric Flux**.\n",
            "\n",
            "Gauss's Law, in this analogy, would say:\n",
            "\n",
            "**\"The total amount of light hitting all the walls of the room depends *only* on how bright the light bulb is inside, and not on the shape of the room (whether it's a square room, a round room, or a really weirdly shaped room). If there's no light bulb inside, then no light hits the walls, no matter how much light is shining *outside* the room.\"**\n",
            "\n",
            "### Why Is It Useful?\n",
            "\n",
            "Gauss's Law is incredibly powerful because it provides a straightforward way to:\n",
            "\n",
            "1.  **Quickly find the total charge inside a region** if you know the electric field passing through its boundary.\n",
            "2.  **Easily calculate electric fields** for charge distributions that have a high degree of symmetry (like a uniform sphere of charge, an infinitely long line of charge, or a large flat sheet of charge). For these situations, it's often much simpler than using other, more complex methods.\n",
            "\n",
            "So, in a nutshell, Gauss's Law is a fundamental principle that beautifully connects the source of electric fields (electric charge) to the overall \"flow\" or \"amount\" of those fields through any closed surface. It's a cornerstone of electromagnetism and a fantastic tool for solving problems! Pretty cool, right?\n"
          ]
        }
      ]
    },
    {
      "cell_type": "code",
      "source": [
        "#step 8: role prompting\n",
        "prompt = \"Acting as an experienced Python developer, explain the difference between a list and a tuple in 3 paragraphs.\"\n",
        "model_name = \"models/gemini-2.5-flash-preview-05-20\"\n",
        "response = client.models.generate_content(\n",
        "  model=model_name,\n",
        "  contents=prompt\n",
        ")\n",
        "print(response.text)"
      ],
      "metadata": {
        "colab": {
          "base_uri": "https://localhost:8080/"
        },
        "id": "uUAJIxuENSuw",
        "outputId": "2cf0800b-a274-468b-93c5-350a9c9c3a50"
      },
      "execution_count": 12,
      "outputs": [
        {
          "output_type": "stream",
          "name": "stdout",
          "text": [
            "As experienced Python developers, the fundamental distinction between a list and a tuple boils down to their **mutability**. A **list** is a mutable, ordered sequence of elements. This means that after a list has been created, its contents can be modified: elements can be added (`append()`, `insert()`, `extend()`), removed (`pop()`, `remove()`), reordered (`sort()`, `reverse()`), or updated in place (e.g., `my_list[0] = 'new_value'`). This dynamic nature makes lists ideal for collections that need to grow, shrink, or change during the program's execution, such as building a collection of user inputs, managing a queue, or processing a dataset that needs filtering and sorting.\n",
            "\n",
            "Conversely, a **tuple** is an immutable, ordered sequence of elements. Once a tuple is created, its size and the elements it contains cannot be changed. You cannot add, remove, or replace elements within a tuple. This immutability has several practical implications. For one, tuples are \"hashable,\" meaning they can be used as keys in dictionaries or elements in sets, unlike lists. This is because their content is guaranteed not to change, ensuring their hash value remains constant. Furthermore, tuples are often used to represent fixed collections of related data, such as coordinates `(x, y)`, RGB color values `(R, G, B)`, or a record from a database `(name, age, city)`. They serve well as return values from functions where a fixed number of distinct items are being returned.\n",
            "\n",
            "Beyond mutability, the choice between lists and tuples often reflects semantic intent. Lists typically signify a collection of items that are conceptually similar or homogenous, where the order might matter but the individual items are distinct and part of a larger group that might evolve. Tuples, on the other hand, frequently represent a fixed \"record\" or structure, where the position of each element often implies a specific meaning (e.g., `(latitude, longitude)`). While a tuple itself is immutable, it's crucial to remember that if a tuple contains mutable objects (like lists or dictionaries), those nested mutable objects *can* still be modified. The tuple still references the *same* object, but the *content* of that object has changed. Ultimately, the decision hinges on whether the collection needs to be dynamic or static, and whether the data integrity guaranteed by immutability is a desirable characteristic for the specific use case.\n"
          ]
        }
      ]
    }
  ]
}