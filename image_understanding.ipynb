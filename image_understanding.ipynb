{
  "nbformat": 4,
  "nbformat_minor": 0,
  "metadata": {
    "colab": {
      "provenance": [],
      "include_colab_link": true
    },
    "kernelspec": {
      "name": "python3",
      "display_name": "Python 3"
    },
    "language_info": {
      "name": "python"
    }
  },
  "cells": [
    {
      "cell_type": "markdown",
      "metadata": {
        "id": "view-in-github",
        "colab_type": "text"
      },
      "source": [
        "<a href=\"https://colab.research.google.com/github/mapsguy/programming-gemini/blob/main/image_understanding.ipynb\" target=\"_parent\"><img src=\"https://colab.research.google.com/assets/colab-badge.svg\" alt=\"Open In Colab\"/></a>"
      ]
    },
    {
      "cell_type": "code",
      "execution_count": 15,
      "metadata": {
        "id": "u26puzb3HyT9"
      },
      "outputs": [],
      "source": [
        "#step 1: install/upgrade the latest genai SDK\n",
        "%pip install google-genai --upgrade --quiet"
      ]
    },
    {
      "cell_type": "code",
      "source": [
        "#import the genai library\n",
        "from google import genai"
      ],
      "metadata": {
        "id": "_jqkjaSLSGUB"
      },
      "execution_count": 2,
      "outputs": []
    },
    {
      "cell_type": "code",
      "source": [
        "#step 2: AIStudio: read the api key from the user data\n",
        "from google.colab import userdata\n",
        "client = genai.Client(api_key=userdata.get(\"GEMINI_API_KEY\"))\n",
        "\n",
        "#If you want to read from environment keys\n",
        "#import os\n",
        "#client = genai.Client(api_key=os.environ[\"GEMINI_API_KEY\"])"
      ],
      "metadata": {
        "id": "NRmQ0FpeSSnL"
      },
      "execution_count": 3,
      "outputs": []
    },
    {
      "cell_type": "code",
      "source": [
        "model_name = \"models/gemini-2.5-flash-preview-05-20\""
      ],
      "metadata": {
        "id": "fVomhgC-t5j1"
      },
      "execution_count": 4,
      "outputs": []
    },
    {
      "cell_type": "markdown",
      "source": [
        "Methods for Providing Images to Gemini"
      ],
      "metadata": {
        "id": "cSB_bEKKISFi"
      }
    },
    {
      "cell_type": "code",
      "source": [
        "#PIL Objects: convenient for local image files\n",
        "import PIL.Image\n",
        "img = PIL.Image.open(\"/content/cat.jpeg\")\n",
        "\n",
        "prompt = [\"What is in this image?\", img]\n",
        "\n",
        "response = client.models.generate_content(\n",
        "    model=model_name,\n",
        "    contents=prompt)\n",
        "\n",
        "print(response.text)"
      ],
      "metadata": {
        "colab": {
          "base_uri": "https://localhost:8080/"
        },
        "id": "EgjbunHbIJ6b",
        "outputId": "cd35e6e8-3337-4e90-a53a-afacc167e023"
      },
      "execution_count": 5,
      "outputs": [
        {
          "output_type": "stream",
          "name": "stdout",
          "text": [
            "This image contains a close-up of a **cat's face**.\n",
            "\n",
            "It appears to be a brown and black tabby cat with prominent stripes, especially on its forehead. It has striking yellow or amber eyes and long white whiskers. The cat is looking directly at the viewer with a somewhat serious or intense expression.\n"
          ]
        }
      ]
    },
    {
      "cell_type": "code",
      "source": [
        "#Inline Base64 Strings: embed image data into request as a base64 encoded string\n",
        "import base64\n",
        "\n",
        "with open(\"/content/cat.jpeg\", \"rb\") as image_file:\n",
        "    image_data = base64.b64encode(image_file.read()).decode('utf-8')\n",
        "\n",
        "image_part = {\"inline_data\": {\"mime_type\": \"image/jpeg\", \"data\": image_data}}\n",
        "\n",
        "response = client.models.generate_content(\n",
        "    model=model_name,\n",
        "    contents=[\"Describe this scene.\", image_part])\n",
        "\n",
        "print(response.text)\n"
      ],
      "metadata": {
        "colab": {
          "base_uri": "https://localhost:8080/"
        },
        "id": "B8cRqSkiI1Yr",
        "outputId": "557caee4-6763-45a2-91c9-6af16d230434"
      },
      "execution_count": 6,
      "outputs": [
        {
          "output_type": "stream",
          "name": "stdout",
          "text": [
            "This is a striking close-up portrait of a domestic cat, focusing on its head and upper chest.\n",
            "\n",
            "Here's a breakdown of the scene:\n",
            "\n",
            "*   **Subject:** The central figure is a beautiful **brown tabby cat**. Its fur features distinct dark brown/black stripes and swirls against a lighter, warm brown or tan base. The classic \"M\" pattern is visible on its forehead.\n",
            "*   **Eyes:** The most captivating feature is its large, round, **amber or golden eyes**, which stare directly forward with an intense, almost stern, or unimpressed expression. The slight narrowing of the eyelids contributes to a look often described as \"grumpy\" or \"thoughtful.\"\n",
            "*   **Facial Features:** The cat has a broad, somewhat rounded face. A small, pinkish-brown nose sits centrally. Numerous long, prominent white whiskers fan out widely from its muzzle. Its ears are erect, pointed, and covered in fur, with some lighter tufts visible inside.\n",
            "*   **Body:** Only the cat's head and upper chest are clearly visible, suggesting it might be lying down or resting comfortably. The fur appears thick and soft.\n",
            "*   **Background:** The background is softly blurred (bokeh), creating a shallow depth of field that keeps the focus entirely on the cat. The upper part of the background is a light, almost white or very pale grey, while the lower part appears to be a textured, muted blue or light grey fabric, possibly a blanket or cushion, on which the cat seems to be resting.\n",
            "*   **Lighting:** The lighting is soft and even, highlighting the intricate fur patterns and the luminous quality of its eyes, with no harsh shadows.\n",
            "\n",
            "The overall scene is intimate and captivating, portraying a cat with a strong, distinct personality, likely caught in a moment of deep contemplation or mild displeasure.\n"
          ]
        }
      ]
    },
    {
      "cell_type": "code",
      "source": [
        "#File API: larger files, reuse across calls\n",
        "\n",
        "#Upload the file first\n",
        "sample_file = client.files.upload(file=\"/content/cat.jpeg\")\n",
        "\n",
        "#Then use the file in a prompt\n",
        "response = client.models.generate_content(\n",
        "    model=model_name,\n",
        "     contents=[\"Caption this image:\", sample_file])\n",
        "\n",
        "print(response.text)\n"
      ],
      "metadata": {
        "colab": {
          "base_uri": "https://localhost:8080/"
        },
        "id": "zWsWWsRSKCSV",
        "outputId": "0ff3f954-afcc-42cb-f290-63dc121c4760"
      },
      "execution_count": 9,
      "outputs": [
        {
          "output_type": "stream",
          "name": "stdout",
          "text": [
            "Here are a few options for a caption, playing on the cat's very serious expression:\n",
            "\n",
            "**Playing on Disapproval/Judgment:**\n",
            "\n",
            "*   \"I'm not mad, I'm just disappointed.\"\n",
            "*   \"The ultimate judge of your life choices.\"\n",
            "*   \"We need to talk.\"\n",
            "*   \"That look when you've clearly messed up.\"\n",
            "*   \"My face when I hear unsolicited advice.\"\n",
            "*   \"Pretty sure this cat just audited my life.\"\n",
            "\n",
            "**Relatable & Humorous:**\n",
            "\n",
            "*   \"Monday morning vibes.\"\n",
            "*   \"When the Zoom meeting could have been an email.\"\n",
            "*   \"The librarian cat who shushes you with a glare.\"\n",
            "*   \"Still waiting for that second breakfast.\"\n",
            "*   \"Plotting world domination, one glare at a time.\"\n",
            "\n",
            "**Short & Punchy:**\n",
            "\n",
            "*   \"Unimpressed.\"\n",
            "*   \"Serious business.\"\n",
            "*   \"The intense stare.\"\n",
            "*   \"Judging you silently.\"\n",
            "*   \"No nonsense.\"\n",
            "\n",
            "Choose the one that best fits the vibe you're going for!\n"
          ]
        }
      ]
    },
    {
      "cell_type": "markdown",
      "source": [
        "Image Interpretation: Captioning, VQA, and Spatial Awareness"
      ],
      "metadata": {
        "id": "PJCY1BiyLRIY"
      }
    },
    {
      "cell_type": "code",
      "source": [
        "#image captioning\n",
        "img = PIL.Image.open(\"/content/cat.jpeg\")\n",
        "\n",
        "response = client.models.generate_content(\n",
        "    model=model_name,\n",
        "    contents=[\"Generate a short caption for this image.\", img])\n",
        "\n",
        "print(response.text)\n"
      ],
      "metadata": {
        "colab": {
          "base_uri": "https://localhost:8080/"
        },
        "id": "2ZcsnKUcLPGu",
        "outputId": "475217c2-1315-4c35-d4aa-6538ec9d28eb"
      },
      "execution_count": 10,
      "outputs": [
        {
          "output_type": "stream",
          "name": "stdout",
          "text": [
            "Here are a few short caption options:\n",
            "\n",
            "*   Those piercing golden eyes.\n",
            "*   Serious cat is serious.\n",
            "*   Silently judging.\n",
            "*   Intense gaze.\n",
            "*   Not amused.\n"
          ]
        }
      ]
    },
    {
      "cell_type": "code",
      "source": [
        "#visual question answering (VQA): ask specific questions about content\n",
        "\n",
        "response = client.models.generate_content(\n",
        "    model=model_name,\n",
        "    contents=[\"What is the main color of the cat in the image?\", img])\n",
        "print(response.text)"
      ],
      "metadata": {
        "colab": {
          "base_uri": "https://localhost:8080/"
        },
        "id": "QlNSrYz0Lxy8",
        "outputId": "9a3ccbb0-1943-4ad5-f5ef-cf9c48e6291f"
      },
      "execution_count": 13,
      "outputs": [
        {
          "output_type": "stream",
          "name": "stdout",
          "text": [
            "The cat in the image is a **dark brown and black tabby**.\n",
            "\n",
            "*   Its fur is predominantly **dark brown** with distinct **black stripes** (characteristic of a tabby pattern).\n",
            "*   There are also lighter brown/tan areas, particularly around its muzzle and under its chin.\n",
            "*   Its eyes are a striking **amber/gold** color.\n"
          ]
        }
      ]
    },
    {
      "cell_type": "code",
      "source": [
        "#spatial awareness and object recognition\n",
        "img = PIL.Image.open(\"/content/animals.png\")\n",
        "\n",
        "response = client.models.generate_content(\n",
        "    model=model_name,\n",
        "    contents=[\"What is the animal to the left of the dog called?\", img])\n",
        "print(response.text)\n"
      ],
      "metadata": {
        "colab": {
          "base_uri": "https://localhost:8080/"
        },
        "id": "KJyG2PEFL_-8",
        "outputId": "171f8ff1-459c-49e2-cda9-8446947ed1be"
      },
      "execution_count": 14,
      "outputs": [
        {
          "output_type": "stream",
          "name": "stdout",
          "text": [
            "The animal to the left of the dog is a **cat**.\n"
          ]
        }
      ]
    }
  ]
}