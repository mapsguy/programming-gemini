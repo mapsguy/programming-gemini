{
  "nbformat": 4,
  "nbformat_minor": 0,
  "metadata": {
    "colab": {
      "provenance": [],
      "include_colab_link": true
    },
    "kernelspec": {
      "name": "python3",
      "display_name": "Python 3"
    },
    "language_info": {
      "name": "python"
    }
  },
  "cells": [
    {
      "cell_type": "markdown",
      "metadata": {
        "id": "view-in-github",
        "colab_type": "text"
      },
      "source": [
        "<a href=\"https://colab.research.google.com/github/mapsguy/programming-gemini/blob/main/understand_embeddings.ipynb\" target=\"_parent\"><img src=\"https://colab.research.google.com/assets/colab-badge.svg\" alt=\"Open In Colab\"/></a>"
      ]
    },
    {
      "cell_type": "code",
      "source": [
        "#import the genai library\n",
        "from google import genai"
      ],
      "metadata": {
        "id": "_jqkjaSLSGUB"
      },
      "execution_count": 1,
      "outputs": []
    },
    {
      "cell_type": "code",
      "source": [
        "#step 2: AIStudio: read the api key from the user data\n",
        "from google.colab import userdata\n",
        "client = genai.Client(api_key=userdata.get(\"GEMINI_API_KEY\"))\n",
        "\n",
        "#If you want to read from environment keys\n",
        "#import os\n",
        "#client = genai.Client(api_key=os.environ[\"GEMINI_API_KEY\"])"
      ],
      "metadata": {
        "id": "NRmQ0FpeSSnL"
      },
      "execution_count": 2,
      "outputs": []
    },
    {
      "cell_type": "code",
      "source": [
        "model_name = 'models/text-embedding-004' #text only, English\n",
        "text_to_embed = \"Embed this text!\"\n",
        "embedding_result = client.models.embed_content(model=model_name, contents=text_to_embed)\n",
        "\n",
        "#Only printing first five values\n",
        "print(\n",
        "    f\"Embedding values for '{text_to_embed}': {embedding_result.embeddings[0].values[:5]}\"\n",
        ")\n",
        "\n",
        "#print(f\"Embedding statistics for '{text_to_embed}: {embedding_result.embeddings[0].statistics}\")\n",
        "\n"
      ],
      "metadata": {
        "id": "mq1WXsB0VI9R",
        "colab": {
          "base_uri": "https://localhost:8080/"
        },
        "outputId": "2e58d1ea-e5b3-48c7-816d-4fc5b0fc3947"
      },
      "execution_count": 22,
      "outputs": [
        {
          "output_type": "stream",
          "name": "stdout",
          "text": [
            "Embedding values for 'Embed this text!': [-0.017279506, 0.044484228, -0.0705657, 0.02847399, 0.05678764]\n"
          ]
        }
      ]
    },
    {
      "cell_type": "code",
      "source": [
        "#Using elastic embeddings - key feature of text-embedding-004\n",
        "from google.genai import types\n",
        "\n",
        "config=types.EmbedContentConfig(\n",
        "    task_type=\"RETRIEVAL_DOCUMENT\", #generate embeddings optimized for document search/info retrieval\n",
        "    output_dimensionality=256) # Requesting smaller embedding dimension than 768\n",
        "\n",
        "embedding_result = client.models.embed_content(\n",
        "    model=model_name,\n",
        "    contents=\"This is a document to embed for retrieval.\",\n",
        "    config=config\n",
        ")\n",
        "print(f\"Length of elastic embedding: {len(embedding_result.embeddings[0].values)}\")\n"
      ],
      "metadata": {
        "id": "Ax5gHmCItKNj",
        "colab": {
          "base_uri": "https://localhost:8080/"
        },
        "outputId": "cd76f047-4434-4498-8671-c0c4a1194bf8"
      },
      "execution_count": 29,
      "outputs": [
        {
          "output_type": "stream",
          "name": "stdout",
          "text": [
            "Length of elastic embedding: 256\n"
          ]
        }
      ]
    },
    {
      "cell_type": "code",
      "source": [
        "#use cases include info retrieval, clustering, classification"
      ],
      "metadata": {
        "id": "Snm0tRP-JA3F"
      },
      "execution_count": null,
      "outputs": []
    }
  ]
}