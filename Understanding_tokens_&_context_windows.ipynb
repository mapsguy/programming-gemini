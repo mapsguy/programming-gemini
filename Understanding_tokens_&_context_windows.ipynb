{
  "nbformat": 4,
  "nbformat_minor": 0,
  "metadata": {
    "colab": {
      "provenance": [],
      "include_colab_link": true
    },
    "kernelspec": {
      "name": "python3",
      "display_name": "Python 3"
    },
    "language_info": {
      "name": "python"
    }
  },
  "cells": [
    {
      "cell_type": "markdown",
      "metadata": {
        "id": "view-in-github",
        "colab_type": "text"
      },
      "source": [
        "<a href=\"https://colab.research.google.com/github/mapsguy/programming-gemini/blob/main/Understanding_tokens_%26_context_windows.ipynb\" target=\"_parent\"><img src=\"https://colab.research.google.com/assets/colab-badge.svg\" alt=\"Open In Colab\"/></a>"
      ]
    },
    {
      "cell_type": "code",
      "execution_count": 9,
      "metadata": {
        "id": "u26puzb3HyT9"
      },
      "outputs": [],
      "source": [
        "#step 1: install/upgrade the latest genai SDK\n",
        "%pip install google-genai --upgrade --quiet"
      ]
    },
    {
      "cell_type": "code",
      "source": [
        "#import the genai library\n",
        "from google import genai"
      ],
      "metadata": {
        "id": "_jqkjaSLSGUB"
      },
      "execution_count": 2,
      "outputs": []
    },
    {
      "cell_type": "code",
      "source": [
        "#step 2: Configure with your API key\n",
        "from google.colab import userdata\n",
        "client = genai.Client(api_key=userdata.get(\"GEMINI_API_KEY\"))\n",
        "\n",
        "#If you want to read from environment keys\n",
        "#import os\n",
        "#client = genai.Client(api_key=os.environ[\"GEMINI_API_KEY\"])"
      ],
      "metadata": {
        "id": "NRmQ0FpeSSnL"
      },
      "execution_count": 3,
      "outputs": []
    },
    {
      "cell_type": "code",
      "source": [
        "#step 3: Get model details\n",
        "model_name = \"models/gemini-2.5-flash-preview-05-20\"\n",
        "try:\n",
        "    model_details = client.models.get(model=model_name) #\n",
        "    print(f\"Details for model '{model_name}':\")\n",
        "    print(f\"Model Name: {model_details.name}\")\n",
        "    print(f\"Input Token Limit: {model_details.input_token_limit}\")\n",
        "    print(f\"Output Token Limit: {model_details.output_token_limit}\")\n",
        "except Exception as e:\n",
        "    print(f\"Error retrieving model details for '{model_name}': {e}\")"
      ],
      "metadata": {
        "id": "fVomhgC-t5j1",
        "colab": {
          "base_uri": "https://localhost:8080/"
        },
        "outputId": "355c10a6-8966-44ad-8f83-d1a7d70db875"
      },
      "execution_count": 4,
      "outputs": [
        {
          "output_type": "stream",
          "name": "stdout",
          "text": [
            "Details for model 'models/gemini-2.5-flash-preview-05-20':\n",
            "Model Name: models/gemini-2.5-flash-preview-05-20\n",
            "Input Token Limit: 1048576\n",
            "Output Token Limit: 65536\n"
          ]
        }
      ]
    },
    {
      "cell_type": "code",
      "source": [
        "#step 4: Determining the token count for the intended prompt\n",
        "\n",
        "#count tokens for text\n",
        "response = client.models.count_tokens(\n",
        "  model=model_name,\n",
        "  contents=\"Why is the sky blue?\"\n",
        ")\n",
        "print(f\"Token count: {response.total_tokens}\")"
      ],
      "metadata": {
        "id": "oppq_uJCvhux",
        "colab": {
          "base_uri": "https://localhost:8080/"
        },
        "outputId": "95eb4549-176c-4def-aee2-cedf1c2605d1"
      },
      "execution_count": 5,
      "outputs": [
        {
          "output_type": "stream",
          "name": "stdout",
          "text": [
            "Token count: 7\n"
          ]
        }
      ]
    },
    {
      "cell_type": "code",
      "source": [
        "#step 5: count tokens for multimodal input (text and image)\n",
        "# Note: Requires image data loaded appropriately\n",
        "from PIL import Image\n",
        "\n",
        "cat = Image.open(\"/content/cat.jpeg\")\n",
        "response = client.models.generate_content(\n",
        "  model=model_name,\n",
        "  contents=[\"Explain this image:\", cat]\n",
        ")\n",
        "response1 = client.models.count_tokens(\n",
        "  model=model_name,\n",
        "  contents=[\"Explain this image:\", cat]\n",
        ")\n",
        "print(response.text)\n",
        "print(f\"Token count: {response1.total_tokens}\")\n"
      ],
      "metadata": {
        "colab": {
          "base_uri": "https://localhost:8080/"
        },
        "id": "2gYx4gOWfSCA",
        "outputId": "82142d2b-29b3-4ad4-ce4b-31ba73aaf516"
      },
      "execution_count": 8,
      "outputs": [
        {
          "output_type": "stream",
          "name": "stdout",
          "text": [
            "This image is a close-up portrait of a cat, focused primarily on its head and upper chest.\n",
            "\n",
            "Here's a breakdown of what's visible and the impression it conveys:\n",
            "\n",
            "*   **Subject:** The main subject is a domestic shorthair cat with distinct tabby markings. Its fur is a mix of browns, tans, and dark blackish-brown stripes, characteristic of a classic brown tabby.\n",
            "*   **Eyes:** The cat's eyes are a striking feature. They are a bright, piercing yellow-amber color and appear slightly narrowed, giving the cat an intense, focused gaze. The pupils are fairly small.\n",
            "*   **Facial Expression:** The combination of the narrowed eyes, the direct stare, and the slight downturn of the mouth (or natural shape) lends the cat a distinctly serious, intense, or even slightly \"grumpy\" or \"disapproving\" expression. It looks as though it's contemplating something deeply or scrutinizing the viewer.\n",
            "*   **Whiskers:** Long, prominent white or light-colored whiskers fan out from its muzzle.\n",
            "*   **Ears:** Its ears are erect and pointed, typical of a domestic cat, covered in fur that matches its head.\n",
            "*   **Composition:** The image is tightly cropped, centering the cat's face and drawing all attention to its features.\n",
            "*   **Background:** The background is softly blurred (bokeh effect), which helps to isolate the cat and make it stand out. The colors in the background are light, appearing to be a pale wall or soft fabric at the top, transitioning to a light blue or grey textured surface (perhaps a blanket) at the bottom where the cat's body rests.\n",
            "*   **Lighting:** The lighting is soft and even, illuminating the cat's face well and highlighting the textures of its fur and the intensity of its eyes.\n",
            "\n",
            "Overall, the image captures a moment of intense feline focus, and the cat's expression is often interpreted as one of seriousness or mild displeasure, making it a very engaging and relatable portrait.\n",
            "Token count: 263\n"
          ]
        }
      ]
    },
    {
      "cell_type": "code",
      "source": [],
      "metadata": {
        "id": "5YTLg6gHiSGr"
      },
      "execution_count": null,
      "outputs": []
    }
  ]
}