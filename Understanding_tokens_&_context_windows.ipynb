{
  "nbformat": 4,
  "nbformat_minor": 0,
  "metadata": {
    "colab": {
      "provenance": [],
      "include_colab_link": true
    },
    "kernelspec": {
      "name": "python3",
      "display_name": "Python 3"
    },
    "language_info": {
      "name": "python"
    }
  },
  "cells": [
    {
      "cell_type": "markdown",
      "metadata": {
        "id": "view-in-github",
        "colab_type": "text"
      },
      "source": [
        "<a href=\"https://colab.research.google.com/github/mapsguy/programming-gemini/blob/main/Understanding_tokens_%26_context_windows.ipynb\" target=\"_parent\"><img src=\"https://colab.research.google.com/assets/colab-badge.svg\" alt=\"Open In Colab\"/></a>"
      ]
    },
    {
      "cell_type": "code",
      "execution_count": 1,
      "metadata": {
        "id": "u26puzb3HyT9",
        "outputId": "60509bd6-f4d5-4524-d772-b1fea6630a92",
        "colab": {
          "base_uri": "https://localhost:8080/"
        }
      },
      "outputs": [
        {
          "output_type": "stream",
          "name": "stdout",
          "text": [
            "\u001b[?25l   \u001b[90m━━━━━━━━━━━━━━━━━━━━━━━━━━━━━━━━━━━━━━━━\u001b[0m \u001b[32m0.0/200.0 kB\u001b[0m \u001b[31m?\u001b[0m eta \u001b[36m-:--:--\u001b[0m\r\u001b[2K   \u001b[91m━━━━━━━━━━━━━━━━━━━━━━━━━━━━━━━━━━━━━\u001b[0m\u001b[91m╸\u001b[0m\u001b[90m━\u001b[0m \u001b[32m194.6/200.0 kB\u001b[0m \u001b[31m103.4 MB/s\u001b[0m eta \u001b[36m0:00:01\u001b[0m\r\u001b[2K   \u001b[90m━━━━━━━━━━━━━━━━━━━━━━━━━━━━━━━━━━━━━━━━\u001b[0m \u001b[32m200.0/200.0 kB\u001b[0m \u001b[31m3.0 MB/s\u001b[0m eta \u001b[36m0:00:00\u001b[0m\n",
            "\u001b[?25h"
          ]
        }
      ],
      "source": [
        "#step 1: install/upgrade the latest genai SDK\n",
        "%pip install google-genai --upgrade --quiet"
      ]
    },
    {
      "cell_type": "code",
      "source": [
        "#import the genai library\n",
        "from google import genai"
      ],
      "metadata": {
        "id": "_jqkjaSLSGUB"
      },
      "execution_count": 2,
      "outputs": []
    },
    {
      "cell_type": "code",
      "source": [
        "#step 2: Configure with your API key\n",
        "from google.colab import userdata\n",
        "client = genai.Client(api_key=userdata.get(\"GEMINI_API_KEY\"))\n",
        "\n",
        "#If you want to read from environment keys\n",
        "#import os\n",
        "#client = genai.Client(api_key=os.environ[\"GEMINI_API_KEY\"])"
      ],
      "metadata": {
        "id": "NRmQ0FpeSSnL"
      },
      "execution_count": 4,
      "outputs": []
    },
    {
      "cell_type": "code",
      "source": [
        "#step 3: Get model details\n",
        "model_name = \"models/gemini-2.5-flash-preview-05-20\"\n",
        "try:\n",
        "    model_details = client.models.get(model=model_name) #\n",
        "    print(f\"Details for model '{model_name}':\")\n",
        "    print(f\"Model Name: {model_details.name}\")\n",
        "    print(f\"Input Token Limit: {model_details.input_token_limit}\")\n",
        "    print(f\"Output Token Limit: {model_details.output_token_limit}\")\n",
        "except Exception as e:\n",
        "    print(f\"Error retrieving model details for '{model_name}': {e}\")"
      ],
      "metadata": {
        "id": "fVomhgC-t5j1",
        "colab": {
          "base_uri": "https://localhost:8080/"
        },
        "outputId": "6e0fe567-0e55-4a21-e810-ab1ef5c45160"
      },
      "execution_count": 7,
      "outputs": [
        {
          "output_type": "stream",
          "name": "stdout",
          "text": [
            "Details for model 'models/gemini-2.5-flash-preview-05-20':\n",
            "Model Name: models/gemini-2.5-flash-preview-05-20\n",
            "Input Token Limit: 1048576\n",
            "Output Token Limit: 65536\n"
          ]
        }
      ]
    },
    {
      "cell_type": "code",
      "source": [
        "#step 4: Determining the token count for the intended prompt\n",
        "\n",
        "#count tokens for text\n",
        "response = client.models.count_tokens(\n",
        "  model=model_name,\n",
        "  contents=\"Why is the sky blue?\"\n",
        ")\n",
        "print(f\"Token count: {response.total_tokens}\")"
      ],
      "metadata": {
        "id": "oppq_uJCvhux",
        "colab": {
          "base_uri": "https://localhost:8080/"
        },
        "outputId": "241057d5-6286-4e62-ef57-a680010011e3"
      },
      "execution_count": 12,
      "outputs": [
        {
          "output_type": "stream",
          "name": "stdout",
          "text": [
            "Token count: 7\n"
          ]
        }
      ]
    },
    {
      "cell_type": "code",
      "source": [
        "#step 5: count tokens for multimodal input (text and image)\n",
        "# Note: Requires image data loaded appropriately\n",
        "from PIL import Image\n",
        "\n",
        "cat = Image.open(\"/content/cat.jpeg\")\n",
        "response = client.models.generate_content(\n",
        "  model=model_name,\n",
        "  contents=[\"Explain this image:\", cat]\n",
        ")"
      ],
      "metadata": {
        "id": "2gYx4gOWfSCA"
      },
      "execution_count": null,
      "outputs": []
    },
    {
      "cell_type": "code",
      "source": [
        "print(response.text)"
      ],
      "metadata": {
        "id": "5YTLg6gHiSGr",
        "outputId": "8b4277e3-e2da-4bef-de68-fe649351fc0c",
        "colab": {
          "base_uri": "https://localhost:8080/"
        }
      },
      "execution_count": 19,
      "outputs": [
        {
          "output_type": "stream",
          "name": "stdout",
          "text": [
            "This image is a striking, high-quality close-up portrait of a domestic cat.\n",
            "\n",
            "Here's a detailed explanation:\n",
            "\n",
            "1.  **Subject:** The central subject is a domestic cat, likely a **lynx point Siamese** or a similar colorpoint breed, given its distinct features.\n",
            "    *   **Coat:** The cat has a beautiful coat pattern, featuring light cream or white fur on its body, transitioning to darker grey/brown tabby stripes (points) on its head, ears, and likely its legs and tail (though less visible in this crop). The fur appears soft and well-groomed, with visible texture.\n",
            "    *   **Eyes:** The most captivating feature is its large, round, and remarkably **vibrant blue eyes**. The pupils are noticeably dilated, giving the cat an expression of intense focus, curiosity, or perhaps surprise. Catchlights are visible in its eyes, indicating a light source reflecting.\n",
            "    *   **Nose:** It has a small, delicate **pink nose**.\n",
            "    *   **Whiskers:** Long, prominent white whiskers fan out from its muzzle, particularly visible on the right side of its face (our left), adding to its delicate appearance.\n",
            "    *   **Ears:** Its ears are erect and pointed, typical of a cat, with matching tabby markings on the outside.\n",
            "\n",
            "2.  **Pose and Expression:** The cat's head is turned slightly to its right (our left), and its gaze is directed intently in that direction. Its wide, alert eyes and slightly tilted head convey a strong sense of curiosity, attention, or readiness to react to something off-camera.\n",
            "\n",
            "3.  **Composition and Lighting:**\n",
            "    *   **Composition:** The image is a tight portrait, focusing primarily on the cat's head and a portion of its upper body. The framing emphasizes the cat's face and eyes, making them the clear focal point.\n",
            "    *   **Background:** The background is a solid, deep **black**. This stark contrast isolates the cat and makes its light fur and blue eyes stand out dramatically, eliminating any distractions.\n",
            "    *   **Lighting:** The lighting is soft, even, and appears to be studio-quality. It illuminates the cat beautifully, highlighting the textures of its fur and the depth of its eyes without harsh shadows.\n",
            "\n",
            "**Overall Impression:** The image is a captivating and endearing portrait that highlights the unique beauty and inquisitive nature of the cat. The sharp focus, contrasting background, and striking eye color combine to create a compelling and memorable photograph.\n"
          ]
        }
      ]
    },
    {
      "cell_type": "code",
      "source": [
        "print(f\"Input Tokens\")\n",
        "for modality_tokens in response.usage_metadata.prompt_tokens_details:\n",
        "  print(f\"\\tModality: {modality_tokens.modality}, Token count: {modality_tokens.token_count}\")\n",
        "\n",
        "print(\"Output Tokens\")\n",
        "print(f\"\\tCandidate Token count: {response.usage_metadata.candidates_token_count}\")\n",
        "print(f\"\\tThought Token count: {response.usage_metadata.thoughts_token_count}\")\n",
        "print(f\"\\tTool Use Token count: {response.usage_metadata.tool_use_prompt_token_count}\")\n",
        "\n",
        "print(f\"Cached token count: {response.usage_metadata.cached_content_token_count}\")\n",
        "\n",
        "print(\"---\")\n",
        "print(f\"Total Token count: {response.usage_metadata.total_token_count}\")\n",
        "\n"
      ],
      "metadata": {
        "id": "chiwezhDDlkf",
        "outputId": "361d2bdb-f755-4806-e468-974dba560541",
        "colab": {
          "base_uri": "https://localhost:8080/"
        }
      },
      "execution_count": 35,
      "outputs": [
        {
          "output_type": "stream",
          "name": "stdout",
          "text": [
            "Input Tokens\n",
            "\tModality: MediaModality.TEXT, Token count: 5\n",
            "\tModality: MediaModality.IMAGE, Token count: 258\n",
            "Output Tokens\n",
            "\tCandidate Token count: 522\n",
            "\tThought Token count: 1208\n",
            "\tTool Use Token count: None\n",
            "Cached token count: None\n",
            "---\n",
            "Total Token count: 1993\n"
          ]
        }
      ]
    }
  ]
}