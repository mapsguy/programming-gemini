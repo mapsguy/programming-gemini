{
  "nbformat": 4,
  "nbformat_minor": 0,
  "metadata": {
    "colab": {
      "provenance": [],
      "include_colab_link": true
    },
    "kernelspec": {
      "name": "python3",
      "display_name": "Python 3"
    },
    "language_info": {
      "name": "python"
    }
  },
  "cells": [
    {
      "cell_type": "markdown",
      "metadata": {
        "id": "view-in-github",
        "colab_type": "text"
      },
      "source": [
        "<a href=\"https://colab.research.google.com/github/mapsguy/programming-gemini/blob/main/gemini_compatibility_openAI.ipynb\" target=\"_parent\"><img src=\"https://colab.research.google.com/assets/colab-badge.svg\" alt=\"Open In Colab\"/></a>"
      ]
    },
    {
      "cell_type": "code",
      "source": [
        "pip install openai"
      ],
      "metadata": {
        "id": "7AGfA0ZwlNpa"
      },
      "execution_count": null,
      "outputs": []
    },
    {
      "cell_type": "code",
      "source": [
        "#step 1: OpenAI library compatibility\n",
        "from openai import OpenAI\n",
        "from google.colab import userdata\n",
        "\n",
        "# Client configured with new key and base URL\n",
        "client = OpenAI(\n",
        "    api_key = userdata.get(\"GEMINI_API_KEY\"),\n",
        "    base_url = \"https://generativelanguage.googleapis.com/v1beta/\"\n",
        ")"
      ],
      "metadata": {
        "id": "6UaRqfLhlTCm"
      },
      "execution_count": 12,
      "outputs": []
    },
    {
      "cell_type": "code",
      "source": [
        "#step 2: using Gemini with OpenAI Python library\n",
        "try:\n",
        "  completion = client.chat.completions.create(\n",
        "    model=\"gemini-2.5-flash-preview-05-20\", # Use your desired Gemini model\n",
        "    messages=[\n",
        "      {\"role\": \"system\", \"content\": \"You are a second grade teacher.\"},\n",
        "      {\n",
        "          \"role\": \"user\",\n",
        "          \"content\": \"Explain what the sun is.\",\n",
        "      }\n",
        "    ]\n",
        "  )\n",
        "  print(completion.choices[0].message.content)\n",
        "except Exception as e:\n",
        "  print(f\"An error occurred: {e}\")"
      ],
      "metadata": {
        "colab": {
          "base_uri": "https://localhost:8080/"
        },
        "id": "3fg0rV8PmViT",
        "outputId": "b8332743-05e5-49a8-99bc-6887fb40c890"
      },
      "execution_count": 13,
      "outputs": [
        {
          "output_type": "stream",
          "name": "stdout",
          "text": [
            "Alright friends, gather 'round! Let's talk about that big, bright, shiny thing we see in the sky almost every day!\n",
            "\n",
            "**(Point upwards as if to the sky)**\n",
            "\n",
            "That, my dears, is called the **Sun**!\n",
            "\n",
            "And guess what? The Sun is actually a **star**! Just like the tiny little stars we see at night, but our Sun is super, duper, gigantically, unbelievably big and super close to us! That's why it looks so big and bright, unlike those tiny little twinkle stars far, far away.\n",
            "\n",
            "**What does the Sun do for us?**\n",
            "\n",
            "1.  **It gives us light!** When the Sun is out, it's daytime! We can see everything clearly because of the Sun's light. It's like the biggest flashlight in the whole wide world!\n",
            "\n",
            "2.  **It gives us warmth!** The Sun makes us feel warm and cozy. On a chilly morning, when the Sun peeks out, it feels so nice, right? It's like a giant warm blanket for our whole planet!\n",
            "\n",
            "3.  **It helps things grow!** Plants, flowers, trees, and even the yummy fruits and vegetables we eat – they all need the Sun's light and warmth to grow big and strong. Without the Sun, our world would be cold, dark, and empty!\n",
            "\n",
            "So, the Sun is our very own special star that helps us see, keeps us warm, and makes sure our world has lots of plants and food. It's super important!\n",
            "\n",
            "**(Hold up a hand to shield your eyes a little, as if looking at the sun)**\n",
            "\n",
            "But remember, friends, the Sun is so, SO bright and powerful that we should **never look directly at it** with our eyes, okay? It's like looking at a super bright light bulb, it can hurt your eyes!\n",
            "\n",
            "Isn't the Sun amazing? It helps make our world such a wonderful place to live!\n"
          ]
        }
      ]
    },
    {
      "cell_type": "code",
      "source": [
        "#step 2: another request\n",
        "try:\n",
        "  completion = client.chat.completions.create(\n",
        "    model=\"gemini-2.5-flash-preview-05-20\", # Use your desired Gemini model\n",
        "    messages=[\n",
        "      {\"role\": \"user\", \"content\": \"Suggest a name for a new AI newsletter.\"}\n",
        "    ]\n",
        "  )\n",
        "  print(completion.choices[0].message.content)\n",
        "except Exception as e:\n",
        "  print(f\"An error occurred: {e}\")\n"
      ],
      "metadata": {
        "colab": {
          "base_uri": "https://localhost:8080/"
        },
        "id": "BewMl-v9nrAm",
        "outputId": "32e2ae0b-0739-4d6a-9012-7ec5232f0ed2"
      },
      "execution_count": 15,
      "outputs": [
        {
          "output_type": "stream",
          "name": "stdout",
          "text": [
            "Here are a variety of name suggestions for a new AI newsletter, categorized by their style and focus, to help you find the perfect fit:\n",
            "\n",
            "---\n",
            "\n",
            "**1. Direct & Informative:** (Clear, professional, straightforward)\n",
            "\n",
            "*   **The AI Brief**\n",
            "*   **AI Insights**\n",
            "*   **The Intelligence Report**\n",
            "*   **Machine Learning Daily / Weekly**\n",
            "*   **The Algorithmic Update**\n",
            "*   **The AI Digest**\n",
            "*   **Neural News**\n",
            "*   **The AI Dispatch**\n",
            "\n",
            "**2. Cutting-Edge & Future-Focused:** (Emphasizes innovation, what's next)\n",
            "\n",
            "*   **The AI Frontier**\n",
            "*   **NextGen AI**\n",
            "*   **Beyond Human**\n",
            "*   **The Edge of AI**\n",
            "*   **Quantum AI**\n",
            "*   **Horizon AI**\n",
            "*   **The Digital Brain**\n",
            "*   **Future Intelligence**\n",
            "*   **The Algorithm's Edge**\n",
            "\n",
            "**3. Insightful & Analytical:** (Focuses on understanding, deeper dives)\n",
            "\n",
            "*   **AI Unpacked**\n",
            "*   **Decoding AI**\n",
            "*   **The AI Lens**\n",
            "*   **Algorithmic Insights**\n",
            "*   **The Intelligence Map**\n",
            "*   **Deep Dive AI**\n",
            "*   **The AI Explainer**\n",
            "*   **Data & Decisions**\n",
            "\n",
            "**4. Actionable & Practical:** (Highlights application, business, and real-world impact)\n",
            "\n",
            "*   **AI in Action**\n",
            "*   **Applied AI**\n",
            "*   **The AI Playbook**\n",
            "*   **Smart Solutions**\n",
            "*   **Building with AI**\n",
            "*   **The AI Advantage**\n",
            "*   **Innovate with AI**\n",
            "*   **AI For Business**\n",
            "\n",
            "**5. Human-Centric & Ethical:** (Focuses on the interaction between AI and humanity)\n",
            "\n",
            "*   **AI & Humanity**\n",
            "*   **The Human AI**\n",
            "*   **Conscious AI**\n",
            "*   **Mindful AI**\n",
            "*   **Intelligence & Society**\n",
            "*   **The AI Ethicist**\n",
            "*   **Human + AI**\n",
            "\n",
            "**6. Short, Catchy & Evocative:** (Memorable, often uses metaphors)\n",
            "\n",
            "*   **The AI Pulse**\n",
            "*   **Synapse**\n",
            "*   **Cognito**\n",
            "*   **Aether** (meaning upper air/heavens, often associated with purity/light)\n",
            "*   **The Core**\n",
            "*   **The Loop**\n",
            "*   **Vector AI**\n",
            "*   **The Grid**\n",
            "*   **The Prompt**\n",
            "*   **Byte-Sized AI**\n",
            "\n",
            "**7. Playful / Clever:** (Lighthearted, uses puns or wordplay)\n",
            "\n",
            "*   **Bot's Up?**\n",
            "*   **AI-mazing**\n",
            "*   **Mind Over Machine**\n",
            "*   **CTRL+AI+DEL** (A bit long, but clever for tech audience)\n",
            "*   **The Neural Nudge**\n",
            "*   **Hello, World! (AI Edition)**\n",
            "\n",
            "---\n",
            "\n",
            "**Tips for Choosing:**\n",
            "\n",
            "*   **Consider your target audience:** Are they experts, general enthusiasts, or business professionals?\n",
            "*   **What's the primary focus/tone?** News, tutorials, ethical discussions, business applications?\n",
            "*   **Check availability:** Does the name (and a corresponding domain/social handle) exist?\n",
            "*   **Say it out loud:** Does it roll off the tongue? Is it easy to remember and spell?\n",
            "\n",
            "Good luck with your new newsletter!\n"
          ]
        }
      ]
    }
  ]
}