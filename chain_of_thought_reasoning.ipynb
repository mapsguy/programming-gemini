{
  "nbformat": 4,
  "nbformat_minor": 0,
  "metadata": {
    "colab": {
      "provenance": [],
      "include_colab_link": true
    },
    "kernelspec": {
      "name": "python3",
      "display_name": "Python 3"
    },
    "language_info": {
      "name": "python"
    }
  },
  "cells": [
    {
      "cell_type": "markdown",
      "metadata": {
        "id": "view-in-github",
        "colab_type": "text"
      },
      "source": [
        "<a href=\"https://colab.research.google.com/github/mapsguy/programming-gemini/blob/main/chain_of_thought_reasoning.ipynb\" target=\"_parent\"><img src=\"https://colab.research.google.com/assets/colab-badge.svg\" alt=\"Open In Colab\"/></a>"
      ]
    },
    {
      "cell_type": "code",
      "execution_count": 7,
      "metadata": {
        "id": "u26puzb3HyT9"
      },
      "outputs": [],
      "source": [
        "#step 1: install/upgrade the latest genai SDK\n",
        "%pip install google-genai --upgrade --quiet"
      ]
    },
    {
      "cell_type": "code",
      "source": [
        "#import the genai library\n",
        "from google import genai"
      ],
      "metadata": {
        "id": "_jqkjaSLSGUB"
      },
      "execution_count": 2,
      "outputs": []
    },
    {
      "cell_type": "code",
      "source": [
        "#step 2: AIStudio: configure with your API Key\n",
        "from google.colab import userdata\n",
        "client = genai.Client(api_key=userdata.get(\"GEMINI_API_KEY\"))\n",
        "\n",
        "#If you want to read from environment keys\n",
        "#import os\n",
        "#client = genai.Client(api_key=os.environ[\"GEMINI_API_KEY\"])"
      ],
      "metadata": {
        "id": "NRmQ0FpeSSnL"
      },
      "execution_count": 3,
      "outputs": []
    },
    {
      "cell_type": "code",
      "source": [
        "#step 3: Get model details\n",
        "model_name = \"models/gemini-2.5-flash-preview-05-20\"\n",
        "try:\n",
        "    model_details = client.models.get(model=model_name) #\n",
        "    print(f\"Details for model '{model_name}':\")\n",
        "    print(f\"Model Name: {model_details.name}\")\n",
        "    print(f\"Input Token Limit: {model_details.input_token_limit}\")\n",
        "    print(f\"Output Token Limit: {model_details.output_token_limit}\")\n",
        "except Exception as e:\n",
        "    print(f\"Error retrieving model details for '{model_name}': {e}\")"
      ],
      "metadata": {
        "colab": {
          "base_uri": "https://localhost:8080/"
        },
        "id": "4GXY3zFs_0Ko",
        "outputId": "2bcb0d2a-ed97-496b-d3fa-fc412711b7c2"
      },
      "execution_count": 4,
      "outputs": [
        {
          "output_type": "stream",
          "name": "stdout",
          "text": [
            "Details for model 'models/gemini-2.5-flash-preview-05-20':\n",
            "Model Name: models/gemini-2.5-flash-preview-05-20\n",
            "Input Token Limit: 1048576\n",
            "Output Token Limit: 65536\n"
          ]
        }
      ]
    },
    {
      "cell_type": "code",
      "source": [
        "#step 4: zero-shot CoT\n",
        "prompt = \"\"\"\n",
        "Q: Roger has 5 tennis balls. He buys 2 more cans of tennis balls.\n",
        "Each can has 3 tennis balls. How many tennis balls does he have now?\n",
        "A: Let's think step by step.\n",
        "\"\"\"\n",
        "response = client.models.generate_content(\n",
        "  model=model_name,\n",
        "  contents=prompt\n",
        ")\n",
        "print(response.text)"
      ],
      "metadata": {
        "colab": {
          "base_uri": "https://localhost:8080/"
        },
        "id": "bTTLsKViVy73",
        "outputId": "4dae8b5f-eebe-4254-e8ba-ea8ea52ce4a9"
      },
      "execution_count": 5,
      "outputs": [
        {
          "output_type": "stream",
          "name": "stdout",
          "text": [
            "Let's think step by step.\n",
            "\n",
            "1.  **How many tennis balls does Roger have initially?**\n",
            "    Roger has 5 tennis balls.\n",
            "\n",
            "2.  **How many tennis balls does Roger buy in total?**\n",
            "    He buys 2 cans, and each can has 3 tennis balls.\n",
            "    So, he buys 2 cans * 3 tennis balls/can = 6 tennis balls.\n",
            "\n",
            "3.  **How many tennis balls does he have now?**\n",
            "    He started with 5 balls and bought 6 more.\n",
            "    Total = 5 + 6 = 11 tennis balls.\n",
            "\n",
            "**Answer:** Roger has 11 tennis balls now.\n"
          ]
        }
      ]
    },
    {
      "cell_type": "code",
      "source": [
        "#step 5: few-shot CoT, which includes complete examples before the actual question\n",
        "prompt = \"\"\"\n",
        "Q: A juggler has 16 balls. Half are golf balls, and half of the golf balls are blue. How many blue golf balls does the juggler have?\n",
        "A:\n",
        "Step 1: The juggler has 16 balls in total.\n",
        "Step 2: Half of the balls are golf balls, so there are 16 / 2 = 8 golf balls.\n",
        "Step 3: Half of the golf balls are blue, so there are 8 / 2 = 4 blue golf balls.\n",
        "The final answer is 4.\n",
        "\n",
        "Q: Roger has 5 tennis balls. He buys 2 more cans of tennis balls.\n",
        "Each can has 3 tennis balls. How many tennis balls does he have now?\n",
        "A: Let's think step by step.\n",
        "\"\"\"\n",
        "\n",
        "response = client.models.generate_content(\n",
        "  model=model_name,\n",
        "  contents=prompt\n",
        ")\n",
        "print(response.text)\n"
      ],
      "metadata": {
        "colab": {
          "base_uri": "https://localhost:8080/"
        },
        "id": "MZ0jEpQ4WRfO",
        "outputId": "104a3d2e-0ef4-47ea-c259-b78ebc5d8b5b"
      },
      "execution_count": 6,
      "outputs": [
        {
          "output_type": "stream",
          "name": "stdout",
          "text": [
            "Let's think step by step.\n",
            "Step 1: Calculate how many new tennis balls Roger buys.\n",
            "He buys 2 cans, and each can has 3 tennis balls.\n",
            "Number of new tennis balls = 2 cans * 3 tennis balls/can = 6 tennis balls.\n",
            "\n",
            "Step 2: Add the new tennis balls to the number of tennis balls he already had.\n",
            "Roger initially had 5 tennis balls.\n",
            "Total tennis balls = 5 (initial) + 6 (new) = 11 tennis balls.\n",
            "\n",
            "The final answer is 11.\n"
          ]
        }
      ]
    },
    {
      "cell_type": "code",
      "source": [],
      "metadata": {
        "id": "c78RtbqZW0Vx"
      },
      "execution_count": null,
      "outputs": []
    }
  ]
}